{
 "cells": [
  {
   "cell_type": "code",
   "execution_count": 98,
   "id": "186d7fb1",
   "metadata": {},
   "outputs": [],
   "source": [
    "import pandas as pd\n",
    "pd.set_option('display.max_rows' , 200)"
   ]
  },
  {
   "cell_type": "code",
   "execution_count": 99,
   "id": "47260cae",
   "metadata": {},
   "outputs": [],
   "source": [
    "company_name = 'MASTEK'"
   ]
  },
  {
   "cell_type": "code",
   "execution_count": 100,
   "id": "f2ae1c7e",
   "metadata": {},
   "outputs": [],
   "source": [
    "share_price_in = 1000000;"
   ]
  },
  {
   "cell_type": "code",
   "execution_count": 101,
   "id": "feed02f1",
   "metadata": {},
   "outputs": [],
   "source": [
    "def calculate_growth(initial , final) :\n",
    "    if not initial :\n",
    "        return 1\n",
    "    return round(((final - initial) / initial) * 100,2)"
   ]
  },
  {
   "cell_type": "code",
   "execution_count": 102,
   "id": "ede2df15",
   "metadata": {},
   "outputs": [],
   "source": [
    "def get_share_price_in(price) :\n",
    "    return round(price / share_price_in,2)\n",
    "\n",
    "    "
   ]
  },
  {
   "cell_type": "code",
   "execution_count": 103,
   "id": "9123407c",
   "metadata": {},
   "outputs": [],
   "source": [
    "income_statement = pd.read_excel('data/'+company_name+'/'+company_name+'-income.xls')\n",
    "balance_sheet = pd.read_excel('data/'+company_name+'/'+company_name+'-balance.xls')\n",
    "cashflow_statement = pd.read_excel('data/'+company_name+'/'+company_name+'-cashflow.xls')"
   ]
  },
  {
   "cell_type": "code",
   "execution_count": 104,
   "id": "43d88d21",
   "metadata": {},
   "outputs": [],
   "source": [
    "start_col = income_statement.columns[1];\n",
    "start_col_balance_sheet = balance_sheet.columns[1];\n",
    "start_col_cashflow = cashflow_statement.columns[1];"
   ]
  },
  {
   "cell_type": "code",
   "execution_count": 105,
   "id": "65ac310f",
   "metadata": {},
   "outputs": [],
   "source": [
    "income_statement.rename(columns={company_name+'_income-statement_Annual_As_Originally_Reported' : 'items'} , inplace=True)\n",
    "balance_sheet.rename(columns={company_name+'_balance-sheet_Annual_As_Originally_Reported' : 'items'} , inplace=True)\n",
    "cashflow_statement.rename(columns={company_name+'_cash-flow_Annual_As_Originally_Reported' : 'items'} , inplace=True)"
   ]
  },
  {
   "cell_type": "code",
   "execution_count": 106,
   "id": "3d6b4392",
   "metadata": {},
   "outputs": [],
   "source": [
    "basic_eps_filter = income_statement['items'] == 'Basic EPS'\n",
    "basic_eps_pos = income_statement[basic_eps_filter].index[0]"
   ]
  },
  {
   "cell_type": "code",
   "execution_count": 107,
   "id": "479ee92d",
   "metadata": {},
   "outputs": [],
   "source": [
    "WASO_filter = (income_statement['items'] == 'Basic Weighted Average Shares Outstanding') | (income_statement['items'] == 'Diluted Weighted Average Shares Outstanding') | (income_statement['items'] == 'Basic WASO') | (income_statement['items'] == 'Diluted WASO')\n",
    "waso_pos = income_statement[WASO_filter].index"
   ]
  },
  {
   "cell_type": "code",
   "execution_count": 108,
   "id": "a016340d",
   "metadata": {},
   "outputs": [],
   "source": [
    "income_statement.fillna(0 , inplace=True)\n",
    "balance_sheet.fillna(0 , inplace=True)\n",
    "cashflow_statement.fillna(0 , inplace=True)"
   ]
  },
  {
   "cell_type": "code",
   "execution_count": 109,
   "id": "0ab58a39",
   "metadata": {},
   "outputs": [],
   "source": [
    "temp_df = income_statement.loc[0:basic_eps_pos,start_col:].copy()\n",
    "temp_df = pd.DataFrame(temp_df)\n"
   ]
  },
  {
   "cell_type": "code",
   "execution_count": 110,
   "id": "9652df33",
   "metadata": {},
   "outputs": [],
   "source": [
    "temp_df = temp_df.apply(get_share_price_in)"
   ]
  },
  {
   "cell_type": "code",
   "execution_count": 111,
   "id": "f3959d9b",
   "metadata": {},
   "outputs": [],
   "source": [
    "income_statement.loc[0:basic_eps_pos,start_col:] = temp_df"
   ]
  },
  {
   "cell_type": "code",
   "execution_count": 112,
   "id": "ca4cadd5",
   "metadata": {},
   "outputs": [],
   "source": [
    "income_statement.loc[waso_pos,start_col:] = income_statement.loc[waso_pos,start_col:].apply(get_share_price_in)"
   ]
  },
  {
   "cell_type": "code",
   "execution_count": 113,
   "id": "21f9b1b7",
   "metadata": {},
   "outputs": [],
   "source": [
    "WASO_filter = (income_statement['items'] == 'Basic Weighted Average Shares Outstanding') | (income_statement['items'] == 'Diluted Weighted Average Shares Outstanding') | (income_statement['items'] == 'Basic WASO') | (income_statement['items'] == 'Diluted WASO')"
   ]
  },
  {
   "cell_type": "code",
   "execution_count": 114,
   "id": "807996c8",
   "metadata": {},
   "outputs": [],
   "source": [
    "balance_sheet.loc[0:,start_col_balance_sheet:] =  balance_sheet.loc[0:,start_col_balance_sheet:].applymap(get_share_price_in)"
   ]
  },
  {
   "cell_type": "code",
   "execution_count": 115,
   "id": "4c01bb1e",
   "metadata": {},
   "outputs": [],
   "source": [
    "cashflow_statement.loc[0:,start_col_cashflow:] =  cashflow_statement.loc[0:,start_col_cashflow:].applymap(get_share_price_in)"
   ]
  },
  {
   "cell_type": "code",
   "execution_count": 116,
   "id": "7e4835c9",
   "metadata": {},
   "outputs": [
    {
     "data": {
      "text/plain": [
       "['Total Revenue',\n",
       " 'Cost of Revenue',\n",
       " 'Cost of Goods and Services',\n",
       " 'Gross Profit',\n",
       " 'Selling, General and Administrative Expenses',\n",
       " 'Selling and Marketing Expenses',\n",
       " 'Depreciation, Amortization and Depletion',\n",
       " 'Depreciation',\n",
       " 'Depreciation and Amortization',\n",
       " 'Provisions',\n",
       " 'Operating Income/Expenses',\n",
       " 'Other Provisions']"
      ]
     },
     "execution_count": 116,
     "metadata": {},
     "output_type": "execute_result"
    }
   ],
   "source": [
    "#items = income_statement['items'].apply(lambda x: x.strip())\n",
    "#items\n",
    "#is_vertical_analysis_indexes = [1,4,5,0,8,18,20,22,21,24,7,26]\n",
    "#is_vertical_analysis_indexes = [ items[index] for index in is_vertical_analysis_indexes]\n",
    "#is_vertical_analysis_indexes\n"
   ]
  },
  {
   "cell_type": "code",
   "execution_count": 127,
   "id": "fc8733c5",
   "metadata": {},
   "outputs": [
    {
     "data": {
      "text/plain": [
       "0     G\n",
       "1     T\n",
       "2     B\n",
       "3     O\n",
       "4     C\n",
       "5     C\n",
       "6     S\n",
       "7     O\n",
       "8     S\n",
       "9     S\n",
       "10    P\n",
       "11    S\n",
       "12    L\n",
       "13    O\n",
       "14    A\n",
       "15    T\n",
       "16    I\n",
       "17    R\n",
       "18    S\n",
       "19    O\n",
       "20    D\n",
       "21    D\n",
       "22    D\n",
       "23    A\n",
       "24    P\n",
       "25    P\n",
       "26    O\n",
       "27    O\n",
       "28    O\n",
       "29    T\n",
       "30    N\n",
       "31    T\n",
       "32    N\n",
       "33    I\n",
       "34    I\n",
       "35    O\n",
       "36    O\n",
       "37    N\n",
       "38    G\n",
       "39    G\n",
       "40    D\n",
       "41    F\n",
       "42    I\n",
       "43    S\n",
       "44    R\n",
       "45    I\n",
       "46    F\n",
       "47    O\n",
       "48    L\n",
       "49    M\n",
       "50    G\n",
       "51    W\n",
       "52    D\n",
       "53    R\n",
       "54    O\n",
       "55    P\n",
       "56    P\n",
       "57    C\n",
       "58    D\n",
       "59    N\n",
       "60    N\n",
       "61    N\n",
       "62    N\n",
       "63    N\n",
       "64    D\n",
       "65    I\n",
       "66    R\n",
       "67    T\n",
       "68    R\n",
       "69    D\n",
       "70    B\n",
       "71    B\n",
       "72    B\n",
       "73    D\n",
       "74    D\n",
       "75    D\n",
       "76    B\n",
       "77    D\n",
       "78    T\n",
       "79    R\n",
       "80    B\n",
       "81    D\n",
       "82    B\n",
       "83    D\n",
       "84    F\n",
       "Name: items, dtype: object"
      ]
     },
     "execution_count": 127,
     "metadata": {},
     "output_type": "execute_result"
    }
   ],
   "source": [
    "items = income_statement['items']\n",
    "items.apply(lambda x: x[0])"
   ]
  },
  {
   "cell_type": "code",
   "execution_count": 118,
   "id": "88a0cd2c",
   "metadata": {},
   "outputs": [
    {
     "data": {
      "text/plain": [
       "[]"
      ]
     },
     "execution_count": 118,
     "metadata": {},
     "output_type": "execute_result"
    }
   ],
   "source": [
    "is_vertical_analysis"
   ]
  },
  {
   "cell_type": "code",
   "execution_count": null,
   "id": "c52588f3",
   "metadata": {},
   "outputs": [],
   "source": []
  }
 ],
 "metadata": {
  "kernelspec": {
   "display_name": "Python 3 (ipykernel)",
   "language": "python",
   "name": "python3"
  },
  "language_info": {
   "codemirror_mode": {
    "name": "ipython",
    "version": 3
   },
   "file_extension": ".py",
   "mimetype": "text/x-python",
   "name": "python",
   "nbconvert_exporter": "python",
   "pygments_lexer": "ipython3",
   "version": "3.9.13"
  }
 },
 "nbformat": 4,
 "nbformat_minor": 5
}
