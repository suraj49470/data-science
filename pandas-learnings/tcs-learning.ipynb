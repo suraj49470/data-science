{
 "cells": [
  {
   "cell_type": "code",
   "execution_count": 70,
   "id": "186d7fb1",
   "metadata": {},
   "outputs": [],
   "source": [
    "import pandas as pd\n",
    "pd.set_option('display.max_rows' , 200)"
   ]
  },
  {
   "cell_type": "code",
   "execution_count": 71,
   "id": "47260cae",
   "metadata": {},
   "outputs": [],
   "source": [
    "company_name = 'TCS'"
   ]
  },
  {
   "cell_type": "code",
   "execution_count": 72,
   "id": "5894435f",
   "metadata": {},
   "outputs": [],
   "source": [
    "share_price_in = 1000000;"
   ]
  },
  {
   "cell_type": "code",
   "execution_count": 73,
   "id": "abf1c4cb",
   "metadata": {},
   "outputs": [],
   "source": [
    "def calculate_growth(initial , final) :\n",
    "    if not initial :\n",
    "        return 1\n",
    "    return round(((final - initial) / initial) * 100,2)"
   ]
  },
  {
   "cell_type": "code",
   "execution_count": 74,
   "id": "15ce00ee",
   "metadata": {},
   "outputs": [],
   "source": [
    "def get_share_price_in(price) :\n",
    "    return round((price / share_price_in),2)\n",
    "\n",
    "    "
   ]
  },
  {
   "cell_type": "code",
   "execution_count": 75,
   "id": "184e6e36",
   "metadata": {},
   "outputs": [],
   "source": [
    "def vertical_analysis(item , divider = 12.43) :\n",
    "    return abs(round((item/divider) * 100 ,2))\n",
    "    "
   ]
  },
  {
   "cell_type": "code",
   "execution_count": 76,
   "id": "9123407c",
   "metadata": {},
   "outputs": [],
   "source": [
    "income_statement = pd.read_excel('data/'+company_name+'/'+company_name+'-income.xls')\n",
    "balance_sheet = pd.read_excel('data/'+company_name+'/'+company_name+'-balance.xls')\n",
    "cashflow_statement = pd.read_excel('data/'+company_name+'/'+company_name+'-cashflow.xls')"
   ]
  },
  {
   "cell_type": "code",
   "execution_count": 77,
   "id": "43d88d21",
   "metadata": {},
   "outputs": [],
   "source": [
    "start_col = income_statement.columns[1];\n",
    "start_col_balance_sheet = balance_sheet.columns[1];\n",
    "start_col_cashflow = cashflow_statement.columns[1];"
   ]
  },
  {
   "cell_type": "code",
   "execution_count": 78,
   "id": "65ac310f",
   "metadata": {},
   "outputs": [],
   "source": [
    "income_statement.rename(columns={company_name+'_income-statement_Annual_As_Originally_Reported' : 'items'} , inplace=True)\n",
    "balance_sheet.rename(columns={company_name+'_balance-sheet_Annual_As_Originally_Reported' : 'items'} , inplace=True)\n",
    "cashflow_statement.rename(columns={company_name+'_cash-flow_Annual_As_Originally_Reported' : 'items'} , inplace=True)"
   ]
  },
  {
   "cell_type": "code",
   "execution_count": 79,
   "id": "3d6b4392",
   "metadata": {},
   "outputs": [],
   "source": [
    "basic_eps_filter = income_statement['items'].eq('Basic EPS')\n",
    "basic_eps_pos = income_statement[basic_eps_filter].index[0]"
   ]
  },
  {
   "cell_type": "code",
   "execution_count": 80,
   "id": "479ee92d",
   "metadata": {},
   "outputs": [],
   "source": [
    "WASO_filter = income_statement['items'].eq('Basic Weighted Average Shares Outstanding') | income_statement['items'].eq('Diluted Weighted Average Shares Outstanding') | income_statement['items'].eq('Basic WASO') | income_statement['items'].eq('Diluted WASO')\n",
    "waso_pos = income_statement[WASO_filter].index"
   ]
  },
  {
   "cell_type": "code",
   "execution_count": 81,
   "id": "a016340d",
   "metadata": {},
   "outputs": [],
   "source": [
    "income_statement.dropna(how='all',subset=income_statement.columns[1:], inplace=True)\n",
    "balance_sheet.dropna(how='all',subset=balance_sheet.columns[1:], inplace=True)\n",
    "cashflow_statement.dropna(how='all',subset=cashflow_statement.columns[1:], inplace=True)\n",
    "income_statement.fillna(0 , inplace=True)\n",
    "balance_sheet.fillna(0 , inplace=True)\n",
    "cashflow_statement.fillna(0 , inplace=True)"
   ]
  },
  {
   "cell_type": "code",
   "execution_count": 82,
   "id": "0ab58a39",
   "metadata": {},
   "outputs": [],
   "source": [
    "temp_df = income_statement.loc[0:basic_eps_pos,start_col:].copy()\n",
    "temp_df = pd.DataFrame(temp_df)\n"
   ]
  },
  {
   "cell_type": "code",
   "execution_count": 83,
   "id": "9652df33",
   "metadata": {},
   "outputs": [],
   "source": [
    "temp_df = temp_df.apply(get_share_price_in)"
   ]
  },
  {
   "cell_type": "code",
   "execution_count": 84,
   "id": "f3959d9b",
   "metadata": {},
   "outputs": [],
   "source": [
    "income_statement.loc[0:basic_eps_pos,start_col:] = temp_df"
   ]
  },
  {
   "cell_type": "code",
   "execution_count": 85,
   "id": "ca4cadd5",
   "metadata": {},
   "outputs": [],
   "source": [
    "income_statement.loc[waso_pos,start_col:] = income_statement.loc[waso_pos,start_col:].apply(get_share_price_in)"
   ]
  },
  {
   "cell_type": "code",
   "execution_count": 86,
   "id": "2a3defba",
   "metadata": {},
   "outputs": [],
   "source": [
    "income_statement['items'] = income_statement['items'].apply(lambda x: x.strip())"
   ]
  },
  {
   "cell_type": "code",
   "execution_count": 87,
   "id": "bd52684c",
   "metadata": {},
   "outputs": [],
   "source": [
    "balance_sheet.loc[0:,start_col_balance_sheet:] =  balance_sheet.loc[0:,start_col_balance_sheet:].applymap(get_share_price_in)"
   ]
  },
  {
   "cell_type": "code",
   "execution_count": 88,
   "id": "23f5a291",
   "metadata": {},
   "outputs": [],
   "source": [
    "cashflow_statement.loc[0:,start_col_cashflow:] =  cashflow_statement.loc[0:,start_col_cashflow:].applymap(get_share_price_in)"
   ]
  },
  {
   "cell_type": "code",
   "execution_count": 89,
   "id": "68788698",
   "metadata": {
    "scrolled": false
   },
   "outputs": [],
   "source": [
    "vertical_analysis_is = pd.DataFrame(columns=income_statement.columns)\n",
    "vertical_analysis_is['items'] = income_statement.loc[0:basic_eps_pos - 1,'items'].copy()\n"
   ]
  },
  {
   "cell_type": "code",
   "execution_count": 90,
   "id": "cfc9d3f4",
   "metadata": {},
   "outputs": [],
   "source": [
    "total_revenue_filter = income_statement['items'].eq('Total Revenue')\n",
    "total_revenue = income_statement.loc[total_revenue_filter,start_col:]"
   ]
  },
  {
   "cell_type": "code",
   "execution_count": 91,
   "id": "1e9d1bc6",
   "metadata": {},
   "outputs": [],
   "source": [
    "for column in vertical_analysis_is.columns[1:] : \n",
    "    vertical_analysis_is[column] = income_statement.loc[0:basic_eps_pos - 1,column].apply(vertical_analysis,divider=total_revenue[column])\n",
    "    "
   ]
  },
  {
   "cell_type": "code",
   "execution_count": null,
   "id": "acc9ebd5",
   "metadata": {},
   "outputs": [],
   "source": []
  }
 ],
 "metadata": {
  "kernelspec": {
   "display_name": "Python 3 (ipykernel)",
   "language": "python",
   "name": "python3"
  },
  "language_info": {
   "codemirror_mode": {
    "name": "ipython",
    "version": 3
   },
   "file_extension": ".py",
   "mimetype": "text/x-python",
   "name": "python",
   "nbconvert_exporter": "python",
   "pygments_lexer": "ipython3",
   "version": "3.9.13"
  }
 },
 "nbformat": 4,
 "nbformat_minor": 5
}
