{
 "cells": [
  {
   "cell_type": "code",
   "execution_count": 82,
   "id": "186d7fb1",
   "metadata": {},
   "outputs": [],
   "source": [
    "import pandas as pd\n",
    "pd.set_option('display.max_rows' , 200)"
   ]
  },
  {
   "cell_type": "code",
   "execution_count": 83,
   "id": "47260cae",
   "metadata": {},
   "outputs": [],
   "source": [
    "company_name = 'TCS'"
   ]
  },
  {
   "cell_type": "code",
   "execution_count": 84,
   "id": "21297856",
   "metadata": {},
   "outputs": [],
   "source": [
    "share_price_in = 1000000;"
   ]
  },
  {
   "cell_type": "code",
   "execution_count": 85,
   "id": "46326399",
   "metadata": {},
   "outputs": [],
   "source": [
    "def calculate_growth(initial , final) :\n",
    "    if not initial :\n",
    "        return 1\n",
    "    return round(((final - initial) / initial) * 100,2)"
   ]
  },
  {
   "cell_type": "code",
   "execution_count": 86,
   "id": "f7d5faad",
   "metadata": {},
   "outputs": [],
   "source": [
    "def get_share_price_in(price) :\n",
    "    return round((price / share_price_in),2)\n",
    "\n",
    "    "
   ]
  },
  {
   "cell_type": "code",
   "execution_count": 87,
   "id": "000b0137",
   "metadata": {},
   "outputs": [],
   "source": [
    "def vertical_analysis(item , divider = 12.43) :\n",
    "    return round((item/divider) * 100 ,2)\n",
    "    "
   ]
  },
  {
   "cell_type": "code",
   "execution_count": 88,
   "id": "2848a1d2",
   "metadata": {},
   "outputs": [],
   "source": [
    "def round_off_to(num , limit) :\n",
    "    return round(num,limit)"
   ]
  },
  {
   "cell_type": "code",
   "execution_count": 89,
   "id": "9123407c",
   "metadata": {},
   "outputs": [],
   "source": [
    "income_statement = pd.read_excel('data/'+company_name+'/'+company_name+'-income.xls')\n",
    "balance_sheet = pd.read_excel('data/'+company_name+'/'+company_name+'-balance.xls')\n",
    "cashflow_statement = pd.read_excel('data/'+company_name+'/'+company_name+'-cashflow.xls')"
   ]
  },
  {
   "cell_type": "code",
   "execution_count": 90,
   "id": "43d88d21",
   "metadata": {},
   "outputs": [],
   "source": [
    "start_col = income_statement.columns[1];\n",
    "start_col_balance_sheet = balance_sheet.columns[1];\n",
    "start_col_cashflow = cashflow_statement.columns[1];"
   ]
  },
  {
   "cell_type": "code",
   "execution_count": 91,
   "id": "65ac310f",
   "metadata": {},
   "outputs": [],
   "source": [
    "income_statement.rename(columns={company_name+'_income-statement_Annual_As_Originally_Reported' : 'items'} , inplace=True)\n",
    "balance_sheet.rename(columns={company_name+'_balance-sheet_Annual_As_Originally_Reported' : 'items'} , inplace=True)\n",
    "cashflow_statement.rename(columns={company_name+'_cash-flow_Annual_As_Originally_Reported' : 'items'} , inplace=True)"
   ]
  },
  {
   "cell_type": "code",
   "execution_count": 92,
   "id": "3d6b4392",
   "metadata": {},
   "outputs": [],
   "source": [
    "basic_eps_filter = income_statement['items'].eq('Basic EPS')\n",
    "basic_eps_pos = income_statement[basic_eps_filter].index[0]"
   ]
  },
  {
   "cell_type": "code",
   "execution_count": 93,
   "id": "479ee92d",
   "metadata": {},
   "outputs": [],
   "source": [
    "WASO_filter = income_statement['items'].eq('Basic Weighted Average Shares Outstanding') | income_statement['items'].eq('Diluted Weighted Average Shares Outstanding') | income_statement['items'].eq('Basic WASO') | income_statement['items'].eq('Diluted WASO')\n",
    "waso_pos = income_statement[WASO_filter].index"
   ]
  },
  {
   "cell_type": "code",
   "execution_count": 94,
   "id": "a016340d",
   "metadata": {},
   "outputs": [],
   "source": [
    "income_statement.dropna(how='all',subset=income_statement.columns[1:], inplace=True)\n",
    "balance_sheet.dropna(how='all',subset=balance_sheet.columns[1:], inplace=True)\n",
    "cashflow_statement.dropna(how='all',subset=cashflow_statement.columns[1:], inplace=True)\n",
    "income_statement.fillna(0 , inplace=True)\n",
    "balance_sheet.fillna(0 , inplace=True)\n",
    "cashflow_statement.fillna(0 , inplace=True)"
   ]
  },
  {
   "cell_type": "code",
   "execution_count": 95,
   "id": "0ab58a39",
   "metadata": {},
   "outputs": [],
   "source": [
    "temp_df = income_statement.loc[0:basic_eps_pos,start_col:].copy()\n",
    "temp_df = pd.DataFrame(temp_df)\n"
   ]
  },
  {
   "cell_type": "code",
   "execution_count": 96,
   "id": "9652df33",
   "metadata": {},
   "outputs": [],
   "source": [
    "temp_df = temp_df.apply(get_share_price_in)"
   ]
  },
  {
   "cell_type": "code",
   "execution_count": 97,
   "id": "f3959d9b",
   "metadata": {},
   "outputs": [],
   "source": [
    "income_statement.loc[0:basic_eps_pos,start_col:] = temp_df"
   ]
  },
  {
   "cell_type": "code",
   "execution_count": 98,
   "id": "ca4cadd5",
   "metadata": {},
   "outputs": [],
   "source": [
    "income_statement.loc[waso_pos,start_col:] = income_statement.loc[waso_pos,start_col:].apply(get_share_price_in)"
   ]
  },
  {
   "cell_type": "code",
   "execution_count": 99,
   "id": "3e0e0fc7",
   "metadata": {},
   "outputs": [],
   "source": [
    "income_statement.loc[1,'items'] = income_statement.loc[1,'items'].strip()\n",
    "temp_revenue = income_statement.loc[1]\n",
    "income_statement.loc[1] = income_statement.loc[0]\n",
    "income_statement.loc[0] = temp_revenue "
   ]
  },
  {
   "cell_type": "code",
   "execution_count": 100,
   "id": "63bb5398",
   "metadata": {},
   "outputs": [],
   "source": [
    "is_highlighted_indexes = income_statement.loc[0:basic_eps_pos - 1,'items'].copy()\n",
    "is_highlighted_indexes = is_highlighted_indexes.apply(lambda x: x[0] != ' ')\n",
    "is_highlighted_indexes = is_highlighted_indexes.loc[is_highlighted_indexes].index"
   ]
  },
  {
   "cell_type": "code",
   "execution_count": 101,
   "id": "7bc548ad",
   "metadata": {},
   "outputs": [],
   "source": [
    "income_statement['items'] = income_statement['items'].apply(lambda x: x.strip())"
   ]
  },
  {
   "cell_type": "code",
   "execution_count": 102,
   "id": "5edf32df",
   "metadata": {},
   "outputs": [],
   "source": [
    "balance_sheet.loc[0:,start_col_balance_sheet:] =  balance_sheet.loc[0:,start_col_balance_sheet:].applymap(get_share_price_in)"
   ]
  },
  {
   "cell_type": "code",
   "execution_count": 103,
   "id": "6ce5e99c",
   "metadata": {},
   "outputs": [],
   "source": [
    "cashflow_statement.loc[0:,start_col_cashflow:] =  cashflow_statement.loc[0:,start_col_cashflow:].applymap(get_share_price_in)"
   ]
  },
  {
   "cell_type": "code",
   "execution_count": 104,
   "id": "051d0132",
   "metadata": {
    "scrolled": false
   },
   "outputs": [],
   "source": [
    "vertical_analysis_is = pd.DataFrame(columns=income_statement.columns) \n",
    "vertical_analysis_is['items'] = income_statement.loc[0:basic_eps_pos - 1,'items'].copy()\n"
   ]
  },
  {
   "cell_type": "code",
   "execution_count": 105,
   "id": "ee2c188c",
   "metadata": {},
   "outputs": [],
   "source": [
    "total_revenue_filter = income_statement['items'].eq('Total Revenue')\n",
    "total_revenue = income_statement.loc[total_revenue_filter,start_col:]"
   ]
  },
  {
   "cell_type": "code",
   "execution_count": 106,
   "id": "ca1436f8",
   "metadata": {},
   "outputs": [],
   "source": [
    "for column in vertical_analysis_is.columns[1:] : \n",
    "    vertical_analysis_is[column] = income_statement.loc[0:basic_eps_pos - 1,column].apply(vertical_analysis,divider=total_revenue[column])\n",
    "    "
   ]
  },
  {
   "cell_type": "code",
   "execution_count": 107,
   "id": "ddd35b4d",
   "metadata": {},
   "outputs": [],
   "source": [
    "#def row_style(row):\n",
    "#    if row['items'] in vertical_analysis_is.loc[is_highlighted_indexes,'items'].values:\n",
    "#        return pd.Series('background-color: hsl(47,83%,91%);', row.index)\n",
    "#    else :\n",
    "#        return pd.Series('', row.index)\n",
    "#vertical_analysis_is.style.apply(row_style,axis=1)"
   ]
  },
  {
   "cell_type": "code",
   "execution_count": 108,
   "id": "9c613880",
   "metadata": {},
   "outputs": [
    {
     "data": {
      "text/plain": [
       "Int64Index([0, 1, 7, 26, 27, 45, 46, 49, 50, 51, 52, 53, 54, 64], dtype='int64')"
      ]
     },
     "execution_count": 108,
     "metadata": {},
     "output_type": "execute_result"
    }
   ],
   "source": [
    "is_highlighted_indexes"
   ]
  },
  {
   "cell_type": "code",
   "execution_count": 109,
   "id": "b89b1fe3",
   "metadata": {},
   "outputs": [
    {
     "data": {
      "text/html": [
       "<div>\n",
       "<style scoped>\n",
       "    .dataframe tbody tr th:only-of-type {\n",
       "        vertical-align: middle;\n",
       "    }\n",
       "\n",
       "    .dataframe tbody tr th {\n",
       "        vertical-align: top;\n",
       "    }\n",
       "\n",
       "    .dataframe thead th {\n",
       "        text-align: right;\n",
       "    }\n",
       "</style>\n",
       "<table border=\"1\" class=\"dataframe\">\n",
       "  <thead>\n",
       "    <tr style=\"text-align: right;\">\n",
       "      <th></th>\n",
       "      <th>items</th>\n",
       "      <th>2013</th>\n",
       "      <th>2014</th>\n",
       "      <th>2015</th>\n",
       "      <th>2016</th>\n",
       "      <th>2017</th>\n",
       "      <th>2018</th>\n",
       "      <th>2019</th>\n",
       "      <th>2020</th>\n",
       "      <th>2021</th>\n",
       "      <th>2022</th>\n",
       "      <th>TTM</th>\n",
       "    </tr>\n",
       "  </thead>\n",
       "  <tbody>\n",
       "    <tr>\n",
       "      <th>0</th>\n",
       "      <td>Total Revenue</td>\n",
       "      <td>100.00</td>\n",
       "      <td>100.00</td>\n",
       "      <td>100.00</td>\n",
       "      <td>100.00</td>\n",
       "      <td>100.00</td>\n",
       "      <td>100.00</td>\n",
       "      <td>100.00</td>\n",
       "      <td>100.00</td>\n",
       "      <td>100.00</td>\n",
       "      <td>100.00</td>\n",
       "      <td>100.00</td>\n",
       "    </tr>\n",
       "    <tr>\n",
       "      <th>1</th>\n",
       "      <td>Gross Profit</td>\n",
       "      <td>57.62</td>\n",
       "      <td>59.73</td>\n",
       "      <td>55.06</td>\n",
       "      <td>57.31</td>\n",
       "      <td>45.38</td>\n",
       "      <td>43.87</td>\n",
       "      <td>45.03</td>\n",
       "      <td>44.02</td>\n",
       "      <td>47.08</td>\n",
       "      <td>47.71</td>\n",
       "      <td>46.86</td>\n",
       "    </tr>\n",
       "    <tr>\n",
       "      <th>7</th>\n",
       "      <td>Operating Income/Expenses</td>\n",
       "      <td>-30.62</td>\n",
       "      <td>-30.63</td>\n",
       "      <td>-31.08</td>\n",
       "      <td>-30.93</td>\n",
       "      <td>-19.57</td>\n",
       "      <td>-18.93</td>\n",
       "      <td>-19.46</td>\n",
       "      <td>-19.44</td>\n",
       "      <td>-21.09</td>\n",
       "      <td>-22.37</td>\n",
       "      <td>-22.70</td>\n",
       "    </tr>\n",
       "    <tr>\n",
       "      <th>26</th>\n",
       "      <td>Total Operating Profit/Loss</td>\n",
       "      <td>27.00</td>\n",
       "      <td>29.09</td>\n",
       "      <td>23.98</td>\n",
       "      <td>26.37</td>\n",
       "      <td>25.81</td>\n",
       "      <td>24.94</td>\n",
       "      <td>25.57</td>\n",
       "      <td>24.58</td>\n",
       "      <td>26.00</td>\n",
       "      <td>25.34</td>\n",
       "      <td>24.16</td>\n",
       "    </tr>\n",
       "    <tr>\n",
       "      <th>27</th>\n",
       "      <td>Non-Operating Income/Expense, Total</td>\n",
       "      <td>1.72</td>\n",
       "      <td>1.96</td>\n",
       "      <td>3.80</td>\n",
       "      <td>2.78</td>\n",
       "      <td>3.45</td>\n",
       "      <td>2.75</td>\n",
       "      <td>2.81</td>\n",
       "      <td>2.34</td>\n",
       "      <td>0.66</td>\n",
       "      <td>1.62</td>\n",
       "      <td>1.15</td>\n",
       "    </tr>\n",
       "    <tr>\n",
       "      <th>45</th>\n",
       "      <td>Pretax Income</td>\n",
       "      <td>28.72</td>\n",
       "      <td>31.05</td>\n",
       "      <td>27.79</td>\n",
       "      <td>29.16</td>\n",
       "      <td>29.26</td>\n",
       "      <td>27.69</td>\n",
       "      <td>28.38</td>\n",
       "      <td>26.92</td>\n",
       "      <td>26.65</td>\n",
       "      <td>26.95</td>\n",
       "      <td>25.30</td>\n",
       "    </tr>\n",
       "    <tr>\n",
       "      <th>46</th>\n",
       "      <td>Provision for Income Tax</td>\n",
       "      <td>-6.37</td>\n",
       "      <td>-7.42</td>\n",
       "      <td>-6.59</td>\n",
       "      <td>-6.72</td>\n",
       "      <td>-6.91</td>\n",
       "      <td>-6.67</td>\n",
       "      <td>-6.83</td>\n",
       "      <td>-6.24</td>\n",
       "      <td>-6.82</td>\n",
       "      <td>-6.90</td>\n",
       "      <td>-6.48</td>\n",
       "    </tr>\n",
       "    <tr>\n",
       "      <th>49</th>\n",
       "      <td>Net Income before Extraordinary Items and Disc...</td>\n",
       "      <td>22.35</td>\n",
       "      <td>23.63</td>\n",
       "      <td>21.19</td>\n",
       "      <td>22.44</td>\n",
       "      <td>22.34</td>\n",
       "      <td>21.02</td>\n",
       "      <td>21.55</td>\n",
       "      <td>20.67</td>\n",
       "      <td>19.83</td>\n",
       "      <td>20.05</td>\n",
       "      <td>18.82</td>\n",
       "    </tr>\n",
       "    <tr>\n",
       "      <th>50</th>\n",
       "      <td>Net Income after Extraordinary Items and Disco...</td>\n",
       "      <td>22.35</td>\n",
       "      <td>23.63</td>\n",
       "      <td>21.19</td>\n",
       "      <td>22.44</td>\n",
       "      <td>22.34</td>\n",
       "      <td>21.02</td>\n",
       "      <td>21.55</td>\n",
       "      <td>20.67</td>\n",
       "      <td>19.83</td>\n",
       "      <td>20.05</td>\n",
       "      <td>18.82</td>\n",
       "    </tr>\n",
       "    <tr>\n",
       "      <th>51</th>\n",
       "      <td>Non-Controlling/Minority Interests</td>\n",
       "      <td>-0.25</td>\n",
       "      <td>-0.21</td>\n",
       "      <td>-0.22</td>\n",
       "      <td>-0.08</td>\n",
       "      <td>-0.06</td>\n",
       "      <td>-0.04</td>\n",
       "      <td>-0.06</td>\n",
       "      <td>-0.07</td>\n",
       "      <td>-0.08</td>\n",
       "      <td>-0.06</td>\n",
       "      <td>-0.07</td>\n",
       "    </tr>\n",
       "    <tr>\n",
       "      <th>52</th>\n",
       "      <td>Net Income after Non-Controlling/Minority Inte...</td>\n",
       "      <td>22.09</td>\n",
       "      <td>23.43</td>\n",
       "      <td>20.97</td>\n",
       "      <td>22.36</td>\n",
       "      <td>22.29</td>\n",
       "      <td>20.98</td>\n",
       "      <td>21.49</td>\n",
       "      <td>20.61</td>\n",
       "      <td>19.75</td>\n",
       "      <td>19.99</td>\n",
       "      <td>18.76</td>\n",
       "    </tr>\n",
       "    <tr>\n",
       "      <th>53</th>\n",
       "      <td>Net Income Available to Common Stockholders</td>\n",
       "      <td>22.06</td>\n",
       "      <td>23.38</td>\n",
       "      <td>20.97</td>\n",
       "      <td>22.36</td>\n",
       "      <td>22.29</td>\n",
       "      <td>20.98</td>\n",
       "      <td>21.49</td>\n",
       "      <td>20.61</td>\n",
       "      <td>19.75</td>\n",
       "      <td>19.99</td>\n",
       "      <td>18.76</td>\n",
       "    </tr>\n",
       "    <tr>\n",
       "      <th>54</th>\n",
       "      <td>Diluted Net Income Available to Common Stockho...</td>\n",
       "      <td>22.06</td>\n",
       "      <td>23.38</td>\n",
       "      <td>20.97</td>\n",
       "      <td>22.36</td>\n",
       "      <td>22.29</td>\n",
       "      <td>20.98</td>\n",
       "      <td>21.49</td>\n",
       "      <td>20.61</td>\n",
       "      <td>19.75</td>\n",
       "      <td>19.99</td>\n",
       "      <td>18.76</td>\n",
       "    </tr>\n",
       "    <tr>\n",
       "      <th>64</th>\n",
       "      <td>Preferred/Other Stock Distribution</td>\n",
       "      <td>-0.04</td>\n",
       "      <td>-0.04</td>\n",
       "      <td>0.00</td>\n",
       "      <td>0.00</td>\n",
       "      <td>0.00</td>\n",
       "      <td>0.00</td>\n",
       "      <td>0.00</td>\n",
       "      <td>0.00</td>\n",
       "      <td>0.00</td>\n",
       "      <td>0.00</td>\n",
       "      <td>0.00</td>\n",
       "    </tr>\n",
       "  </tbody>\n",
       "</table>\n",
       "</div>"
      ],
      "text/plain": [
       "                                                items    2013    2014    2015  \\\n",
       "0                                       Total Revenue  100.00  100.00  100.00   \n",
       "1                                        Gross Profit   57.62   59.73   55.06   \n",
       "7                           Operating Income/Expenses  -30.62  -30.63  -31.08   \n",
       "26                        Total Operating Profit/Loss   27.00   29.09   23.98   \n",
       "27                Non-Operating Income/Expense, Total    1.72    1.96    3.80   \n",
       "45                                      Pretax Income   28.72   31.05   27.79   \n",
       "46                           Provision for Income Tax   -6.37   -7.42   -6.59   \n",
       "49  Net Income before Extraordinary Items and Disc...   22.35   23.63   21.19   \n",
       "50  Net Income after Extraordinary Items and Disco...   22.35   23.63   21.19   \n",
       "51                 Non-Controlling/Minority Interests   -0.25   -0.21   -0.22   \n",
       "52  Net Income after Non-Controlling/Minority Inte...   22.09   23.43   20.97   \n",
       "53        Net Income Available to Common Stockholders   22.06   23.38   20.97   \n",
       "54  Diluted Net Income Available to Common Stockho...   22.06   23.38   20.97   \n",
       "64                 Preferred/Other Stock Distribution   -0.04   -0.04    0.00   \n",
       "\n",
       "      2016    2017    2018    2019    2020    2021    2022     TTM  \n",
       "0   100.00  100.00  100.00  100.00  100.00  100.00  100.00  100.00  \n",
       "1    57.31   45.38   43.87   45.03   44.02   47.08   47.71   46.86  \n",
       "7   -30.93  -19.57  -18.93  -19.46  -19.44  -21.09  -22.37  -22.70  \n",
       "26   26.37   25.81   24.94   25.57   24.58   26.00   25.34   24.16  \n",
       "27    2.78    3.45    2.75    2.81    2.34    0.66    1.62    1.15  \n",
       "45   29.16   29.26   27.69   28.38   26.92   26.65   26.95   25.30  \n",
       "46   -6.72   -6.91   -6.67   -6.83   -6.24   -6.82   -6.90   -6.48  \n",
       "49   22.44   22.34   21.02   21.55   20.67   19.83   20.05   18.82  \n",
       "50   22.44   22.34   21.02   21.55   20.67   19.83   20.05   18.82  \n",
       "51   -0.08   -0.06   -0.04   -0.06   -0.07   -0.08   -0.06   -0.07  \n",
       "52   22.36   22.29   20.98   21.49   20.61   19.75   19.99   18.76  \n",
       "53   22.36   22.29   20.98   21.49   20.61   19.75   19.99   18.76  \n",
       "54   22.36   22.29   20.98   21.49   20.61   19.75   19.99   18.76  \n",
       "64    0.00    0.00    0.00    0.00    0.00    0.00    0.00    0.00  "
      ]
     },
     "execution_count": 109,
     "metadata": {},
     "output_type": "execute_result"
    }
   ],
   "source": [
    "vertical_analysis_is.loc[is_highlighted_indexes]"
   ]
  },
  {
   "cell_type": "code",
   "execution_count": null,
   "id": "21ee789b",
   "metadata": {},
   "outputs": [],
   "source": []
  }
 ],
 "metadata": {
  "kernelspec": {
   "display_name": "Python 3 (ipykernel)",
   "language": "python",
   "name": "python3"
  },
  "language_info": {
   "codemirror_mode": {
    "name": "ipython",
    "version": 3
   },
   "file_extension": ".py",
   "mimetype": "text/x-python",
   "name": "python",
   "nbconvert_exporter": "python",
   "pygments_lexer": "ipython3",
   "version": "3.9.13"
  },
  "vscode": {
   "interpreter": {
    "hash": "4748b40f5afd20ecb290c6dbf073b09a27e81afcf261b219adbd1b8601a65ff7"
   }
  }
 },
 "nbformat": 4,
 "nbformat_minor": 5
}
