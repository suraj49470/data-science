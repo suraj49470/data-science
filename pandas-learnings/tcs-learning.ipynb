{
 "cells": [
  {
   "cell_type": "code",
   "execution_count": null,
   "id": "186d7fb1",
   "metadata": {},
   "outputs": [],
   "source": [
    "import pandas as pd\n",
    "pd.set_option('display.max_rows' , 200)"
   ]
  },
  {
   "cell_type": "code",
   "execution_count": null,
   "id": "47260cae",
   "metadata": {},
   "outputs": [],
   "source": [
    "company_name = 'tcs'.upper()"
   ]
  },
  {
   "cell_type": "code",
   "execution_count": null,
   "id": "21297856",
   "metadata": {},
   "outputs": [],
   "source": [
    "share_price_in = 1000000;"
   ]
  },
  {
   "cell_type": "code",
   "execution_count": null,
   "id": "46326399",
   "metadata": {},
   "outputs": [],
   "source": [
    "def calculate_growth(initial , final) :\n",
    "    if not initial :\n",
    "        return 1\n",
    "    return round(((final - initial) / initial) * 100,2)"
   ]
  },
  {
   "cell_type": "code",
   "execution_count": null,
   "id": "f7d5faad",
   "metadata": {},
   "outputs": [],
   "source": [
    "def get_share_price_in(price) :\n",
    "    return round((price / share_price_in),2)\n",
    "\n",
    "    "
   ]
  },
  {
   "cell_type": "code",
   "execution_count": null,
   "id": "000b0137",
   "metadata": {},
   "outputs": [],
   "source": [
    "def vertical_analysis(item , divider) :\n",
    "    return (item/divider)\n",
    "    "
   ]
  },
  {
   "cell_type": "code",
   "execution_count": null,
   "id": "2848a1d2",
   "metadata": {},
   "outputs": [],
   "source": [
    "def round_off_to(num , limit) :\n",
    "    return round(num,limit)"
   ]
  },
  {
   "cell_type": "code",
   "execution_count": null,
   "id": "f4b0a9f0",
   "metadata": {},
   "outputs": [],
   "source": [
    "def getColumnFormatterbyPercentage(type) :\n",
    "    columns_perc_formats = {}\n",
    "    if type == 'income_statement' :\n",
    "        for column in income_statement.columns[1:] :\n",
    "            columns_perc_formats[column] = '{:,.2%}'\n",
    "    elif type == 'balance_sheet' :\n",
    "        for column in balance_sheet.columns[1:] :\n",
    "            columns_perc_formats[column] = '{:,.2%}'\n",
    "    elif type == 'cashflow_statement' :\n",
    "        for column in cashflow_statement.columns[1:] :\n",
    "            columns_perc_formats[column] = '{:,.2%}'\n",
    "    return columns_perc_formats"
   ]
  },
  {
   "cell_type": "code",
   "execution_count": null,
   "id": "808468ea",
   "metadata": {},
   "outputs": [],
   "source": [
    "styles = [dict(selector=\"caption\",\n",
    "                       props=[(\"text-align\", \"center\"),\n",
    "                              (\"font-size\", \"150%\"),\n",
    "                              (\"color\", 'white'),\n",
    "                              (\"background\", '#308D46'),\n",
    "                              (\"font-weight\", '600'),\n",
    "                              (\"text-transform\", 'uppercase')\n",
    "                             ])]"
   ]
  },
  {
   "cell_type": "code",
   "execution_count": null,
   "id": "9123407c",
   "metadata": {},
   "outputs": [],
   "source": [
    "income_statement = pd.read_excel('data/'+company_name+'/'+company_name+'-income.xls')\n",
    "balance_sheet = pd.read_excel('data/'+company_name+'/'+company_name+'-balance.xls')\n",
    "cashflow_statement = pd.read_excel('data/'+company_name+'/'+company_name+'-cashflow.xls')"
   ]
  },
  {
   "cell_type": "code",
   "execution_count": null,
   "id": "43d88d21",
   "metadata": {},
   "outputs": [],
   "source": [
    "start_col = income_statement.columns[1];\n",
    "start_col_balance_sheet = balance_sheet.columns[1];\n",
    "start_col_cashflow = cashflow_statement.columns[1];"
   ]
  },
  {
   "cell_type": "code",
   "execution_count": null,
   "id": "65ac310f",
   "metadata": {},
   "outputs": [],
   "source": [
    "income_statement.rename(columns={company_name+'_income-statement_Annual_As_Originally_Reported' : 'items'} , inplace=True)\n",
    "balance_sheet.rename(columns={company_name+'_balance-sheet_Annual_As_Originally_Reported' : 'items'} , inplace=True)\n",
    "cashflow_statement.rename(columns={company_name+'_cash-flow_Annual_As_Originally_Reported' : 'items'} , inplace=True)"
   ]
  },
  {
   "cell_type": "code",
   "execution_count": null,
   "id": "3d6b4392",
   "metadata": {},
   "outputs": [],
   "source": [
    "basic_eps_filter = income_statement['items'].eq('Basic EPS')\n",
    "basic_eps_pos = income_statement[basic_eps_filter].index[0]"
   ]
  },
  {
   "cell_type": "code",
   "execution_count": null,
   "id": "479ee92d",
   "metadata": {},
   "outputs": [],
   "source": [
    "WASO_filter = income_statement['items'].eq('Basic Weighted Average Shares Outstanding') | income_statement['items'].eq('Diluted Weighted Average Shares Outstanding') | income_statement['items'].eq('Basic WASO') | income_statement['items'].eq('Diluted WASO')\n",
    "waso_pos = income_statement[WASO_filter].index"
   ]
  },
  {
   "cell_type": "code",
   "execution_count": null,
   "id": "a016340d",
   "metadata": {},
   "outputs": [],
   "source": [
    "income_statement.dropna(how='all',subset=income_statement.columns[1:], inplace=True)\n",
    "balance_sheet.dropna(how='all',subset=balance_sheet.columns[1:], inplace=True)\n",
    "cashflow_statement.dropna(how='all',subset=cashflow_statement.columns[1:], inplace=True)\n",
    "income_statement.fillna(0 , inplace=True)\n",
    "balance_sheet.fillna(0 , inplace=True)\n",
    "cashflow_statement.fillna(0 , inplace=True)"
   ]
  },
  {
   "cell_type": "code",
   "execution_count": null,
   "id": "0ab58a39",
   "metadata": {},
   "outputs": [],
   "source": [
    "temp_df = income_statement.loc[0:basic_eps_pos,start_col:].copy()\n",
    "temp_df = pd.DataFrame(temp_df)\n"
   ]
  },
  {
   "cell_type": "code",
   "execution_count": null,
   "id": "9652df33",
   "metadata": {},
   "outputs": [],
   "source": [
    "temp_df = temp_df.apply(get_share_price_in)"
   ]
  },
  {
   "cell_type": "code",
   "execution_count": null,
   "id": "f3959d9b",
   "metadata": {},
   "outputs": [],
   "source": [
    "income_statement.loc[0:basic_eps_pos,start_col:] = temp_df"
   ]
  },
  {
   "cell_type": "code",
   "execution_count": null,
   "id": "ca4cadd5",
   "metadata": {},
   "outputs": [],
   "source": [
    "income_statement.loc[waso_pos,start_col:] = income_statement.loc[waso_pos,start_col:].apply(get_share_price_in)"
   ]
  },
  {
   "cell_type": "code",
   "execution_count": null,
   "id": "3e0e0fc7",
   "metadata": {},
   "outputs": [],
   "source": [
    "income_statement.loc[1,'items'] = income_statement.loc[1,'items'].strip()\n",
    "temp_revenue = income_statement.loc[1]\n",
    "income_statement.loc[1] = income_statement.loc[0]\n",
    "income_statement.loc[0] = temp_revenue "
   ]
  },
  {
   "cell_type": "code",
   "execution_count": null,
   "id": "63bb5398",
   "metadata": {},
   "outputs": [],
   "source": [
    "is_highlighted_indexes = income_statement.loc[0:basic_eps_pos - 1,'items'].copy()\n",
    "is_highlighted_indexes = is_highlighted_indexes.apply(lambda x: x[0] != ' ')\n",
    "is_highlighted_indexes = is_highlighted_indexes.loc[is_highlighted_indexes].index"
   ]
  },
  {
   "cell_type": "code",
   "execution_count": null,
   "id": "7bc548ad",
   "metadata": {},
   "outputs": [],
   "source": [
    "income_statement['items'] = income_statement['items'].apply(lambda x: x.strip())"
   ]
  },
  {
   "cell_type": "code",
   "execution_count": null,
   "id": "5edf32df",
   "metadata": {},
   "outputs": [],
   "source": [
    "balance_sheet.loc[0:,start_col_balance_sheet:] =  balance_sheet.loc[0:,start_col_balance_sheet:].applymap(get_share_price_in)"
   ]
  },
  {
   "cell_type": "code",
   "execution_count": null,
   "id": "6ce5e99c",
   "metadata": {},
   "outputs": [],
   "source": [
    "cashflow_statement.loc[0:,start_col_cashflow:] =  cashflow_statement.loc[0:,start_col_cashflow:].applymap(get_share_price_in)"
   ]
  },
  {
   "cell_type": "code",
   "execution_count": null,
   "id": "051d0132",
   "metadata": {
    "scrolled": false
   },
   "outputs": [],
   "source": [
    "vertical_analysis_is = pd.DataFrame(columns=income_statement.columns) \n",
    "vertical_analysis_is['items'] = income_statement.loc[0:basic_eps_pos - 1,'items'].copy()\n"
   ]
  },
  {
   "cell_type": "code",
   "execution_count": null,
   "id": "ee2c188c",
   "metadata": {},
   "outputs": [],
   "source": [
    "total_revenue_filter = income_statement['items'].eq('Total Revenue')\n",
    "total_revenue = income_statement.loc[total_revenue_filter,start_col:]"
   ]
  },
  {
   "cell_type": "code",
   "execution_count": null,
   "id": "ca1436f8",
   "metadata": {},
   "outputs": [],
   "source": [
    "for column in vertical_analysis_is.columns[1:] : \n",
    "    vertical_analysis_is[column] = income_statement.loc[0:basic_eps_pos - 1,column].apply(vertical_analysis,divider=total_revenue[column])\n",
    "    "
   ]
  },
  {
   "cell_type": "code",
   "execution_count": null,
   "id": "ddd35b4d",
   "metadata": {},
   "outputs": [],
   "source": [
    "#def row_style(row):\n",
    "#    if row['items'] in vertical_analysis_is.loc[is_highlighted_indexes,'items'].values:\n",
    "#        return pd.Series('background-color: hsl(47,83%,91%);', row.index)\n",
    "#    else :\n",
    "#        return pd.Series('', row.index)\n",
    "#vertical_analysis_is.style.apply(row_style,axis=1)"
   ]
  },
  {
   "cell_type": "code",
   "execution_count": null,
   "id": "e286cf57",
   "metadata": {
    "scrolled": true
   },
   "outputs": [],
   "source": [
    "vertical_analysis_is.loc[is_highlighted_indexes].style.set_caption(company_name+ \" income statement vertical analysis\").set_table_styles(styles).format(getColumnFormatterbyPercentage('income_statement'),precision=2) "
   ]
  },
  {
   "cell_type": "code",
   "execution_count": null,
   "id": "7b4d06af",
   "metadata": {},
   "outputs": [],
   "source": []
  }
 ],
 "metadata": {
  "kernelspec": {
   "display_name": "Python 3 (ipykernel)",
   "language": "python",
   "name": "python3"
  },
  "language_info": {
   "codemirror_mode": {
    "name": "ipython",
    "version": 3
   },
   "file_extension": ".py",
   "mimetype": "text/x-python",
   "name": "python",
   "nbconvert_exporter": "python",
   "pygments_lexer": "ipython3",
   "version": "3.9.13"
  },
  "vscode": {
   "interpreter": {
    "hash": "4748b40f5afd20ecb290c6dbf073b09a27e81afcf261b219adbd1b8601a65ff7"
   }
  }
 },
 "nbformat": 4,
 "nbformat_minor": 5
}
