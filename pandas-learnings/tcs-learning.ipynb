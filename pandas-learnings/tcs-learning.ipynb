{
 "cells": [
  {
   "cell_type": "code",
   "execution_count": 4690,
   "id": "186d7fb1",
   "metadata": {},
   "outputs": [],
   "source": [
    "import pandas as pd\n",
    "import re\n",
    "pd.set_option('display.max_rows' , 200)"
   ]
  },
  {
   "cell_type": "code",
   "execution_count": 4691,
   "id": "47260cae",
   "metadata": {},
   "outputs": [],
   "source": [
    "company_name = 'tcs'.upper()"
   ]
  },
  {
   "cell_type": "code",
   "execution_count": 4692,
   "id": "fe84be6d",
   "metadata": {},
   "outputs": [],
   "source": [
    "particulars = 'particulars'"
   ]
  },
  {
   "cell_type": "code",
   "execution_count": 4693,
   "id": "21297856",
   "metadata": {},
   "outputs": [],
   "source": [
    "share_price_in = 1000000"
   ]
  },
  {
   "cell_type": "code",
   "execution_count": 4694,
   "id": "46326399",
   "metadata": {},
   "outputs": [],
   "source": [
    "def calculate_growth(current , previous) :\n",
    "    if current == 0 and previous == 0 or current == 0 and previous != 0:\n",
    "        return 0\n",
    "    if current != 0 and previous == 0 :\n",
    "        return current / 100\n",
    "    return ((current/previous) - 1)\n",
    "       "
   ]
  },
  {
   "cell_type": "code",
   "execution_count": 4695,
   "id": "36c18471",
   "metadata": {},
   "outputs": [],
   "source": [
    "def calculate_growth_series(curr_df,prev_df):\n",
    "    temp_df = curr_df.copy()\n",
    "    for index in curr_df.index :\n",
    "        temp_df.loc[index] = calculate_growth(curr_df.loc[index],prev_df[index])\n",
    "    return temp_df\n",
    "    "
   ]
  },
  {
   "cell_type": "code",
   "execution_count": 4696,
   "id": "f7d5faad",
   "metadata": {},
   "outputs": [],
   "source": [
    "def get_share_price_in(price) :\n",
    "    return round((price / share_price_in),2)\n",
    "\n",
    "    "
   ]
  },
  {
   "cell_type": "code",
   "execution_count": 4697,
   "id": "000b0137",
   "metadata": {},
   "outputs": [],
   "source": [
    "def vertical_analysis(item , divider) :\n",
    "    return item/divider\n",
    "    "
   ]
  },
  {
   "cell_type": "code",
   "execution_count": 4698,
   "id": "2848a1d2",
   "metadata": {},
   "outputs": [],
   "source": [
    "def round_off_to(num , limit) :\n",
    "    return round(num,limit)"
   ]
  },
  {
   "cell_type": "code",
   "execution_count": 4699,
   "id": "406a1d4b",
   "metadata": {},
   "outputs": [],
   "source": [
    "def count_leading_space(s): \n",
    "    match = re.search(r\"^\\s*\", s) \n",
    "    return 0 if not match else match.end()\n"
   ]
  },
  {
   "cell_type": "code",
   "execution_count": 4700,
   "id": "f4b0a9f0",
   "metadata": {},
   "outputs": [],
   "source": [
    "def getColumnFormatterbyPercentage(type) :\n",
    "    columns_perc_formats = {}\n",
    "    if type == 'income_statement' :\n",
    "        for column in income_statement.columns[1:] :\n",
    "            columns_perc_formats[column] = '{:,.2%}'\n",
    "    elif type == 'balance_sheet' :\n",
    "        for column in balance_sheet.columns[1:] :\n",
    "            columns_perc_formats[column] = '{:,.2%}'\n",
    "    elif type == 'cashflow_statement' :\n",
    "        for column in cashflow_statement.columns[1:] :\n",
    "            columns_perc_formats[column] = '{:,.2%}'\n",
    "    return columns_perc_formats"
   ]
  },
  {
   "cell_type": "code",
   "execution_count": 4701,
   "id": "de8bd28c",
   "metadata": {},
   "outputs": [],
   "source": [
    "def calculate_ratio(dividend , divisor) : \n",
    "    return dividend.div(divisor.values).apply(lambda x: round(x,2))"
   ]
  },
  {
   "cell_type": "code",
   "execution_count": 4702,
   "id": "808468ea",
   "metadata": {},
   "outputs": [],
   "source": [
    "def styles(color = 'white',backcolor = '#308D46'):\n",
    "    return [dict(selector=\"caption\",\n",
    "                       props=[(\"text-align\", \"center\"),\n",
    "                              (\"font-size\", \"150%\"),\n",
    "                              (\"color\", color),\n",
    "                              (\"background\", backcolor),\n",
    "                              (\"font-weight\", '600'),\n",
    "                              (\"text-transform\", 'uppercase')\n",
    "                             ])]"
   ]
  },
  {
   "cell_type": "code",
   "execution_count": 4703,
   "id": "875eac15",
   "metadata": {},
   "outputs": [],
   "source": [
    "def days_turnover(ratio) :\n",
    "    if ratio == '-' :\n",
    "        return '-'\n",
    "    return round((365 / ratio),2)"
   ]
  },
  {
   "cell_type": "code",
   "execution_count": 4704,
   "id": "ffc084f1",
   "metadata": {},
   "outputs": [],
   "source": [
    "def get_df_items(df , key_name , start_col) :\n",
    "     filter = df[particulars].apply(lambda x: x.strip().lower()).eq(key_name.lower())\n",
    "     temp_df = pd.DataFrame(df.loc[filter,start_col:])\n",
    "     temp_df.reset_index(drop=True,inplace=True) \n",
    "     return temp_df"
   ]
  },
  {
   "cell_type": "code",
   "execution_count": 4705,
   "id": "9123407c",
   "metadata": {},
   "outputs": [],
   "source": [
    "income_statement = pd.read_excel('data/'+company_name+'/'+company_name+'-income.xls')\n",
    "balance_sheet = pd.read_excel('data/'+company_name+'/'+company_name+'-balance.xls')\n",
    "cashflow_statement = pd.read_excel('data/'+company_name+'/'+company_name+'-cashflow.xls')"
   ]
  },
  {
   "cell_type": "code",
   "execution_count": 4706,
   "id": "43d88d21",
   "metadata": {},
   "outputs": [],
   "source": [
    "start_col = income_statement.columns[1];\n",
    "start_col_balance_sheet = balance_sheet.columns[1];\n",
    "start_col_cashflow = cashflow_statement.columns[1];"
   ]
  },
  {
   "cell_type": "code",
   "execution_count": 4707,
   "id": "65ac310f",
   "metadata": {},
   "outputs": [],
   "source": [
    "income_statement_temp_columns = income_statement.columns.values\n",
    "income_statement_temp_columns[0] = particulars\n",
    "income_statement.columns = income_statement_temp_columns\n",
    "\n",
    "balance_sheet_temp_columns = balance_sheet.columns.values\n",
    "balance_sheet_temp_columns[0] = particulars\n",
    "balance_sheet.columns = balance_sheet_temp_columns\n",
    "\n",
    "cashflow_statement_temp_columns = cashflow_statement.columns.values\n",
    "cashflow_statement_temp_columns[0] = particulars\n",
    "cashflow_statement.columns = cashflow_statement_temp_columns"
   ]
  },
  {
   "cell_type": "code",
   "execution_count": 4708,
   "id": "3d6b4392",
   "metadata": {},
   "outputs": [],
   "source": [
    "basic_eps_filter = income_statement[particulars].eq('Basic EPS')\n",
    "basic_eps_pos = income_statement[basic_eps_filter].index[0]"
   ]
  },
  {
   "cell_type": "code",
   "execution_count": 4709,
   "id": "479ee92d",
   "metadata": {},
   "outputs": [],
   "source": [
    "WASO_filter = income_statement[particulars].isin(['Basic Weighted Average Shares Outstanding','Diluted Weighted Average Shares Outstanding','Basic WASO','Diluted WASO'])\n",
    "waso_pos = income_statement[WASO_filter].index"
   ]
  },
  {
   "cell_type": "code",
   "execution_count": 4710,
   "id": "a016340d",
   "metadata": {},
   "outputs": [],
   "source": [
    "income_statement.dropna(how='all',subset=income_statement.columns[1:], inplace=True)\n",
    "balance_sheet.dropna(how='all',subset=balance_sheet.columns[1:], inplace=True)\n",
    "cashflow_statement.dropna(how='all',subset=cashflow_statement.columns[1:], inplace=True)\n",
    "income_statement.fillna(0 , inplace=True)\n",
    "balance_sheet.fillna(0 , inplace=True)\n",
    "cashflow_statement.fillna(0 , inplace=True)"
   ]
  },
  {
   "cell_type": "code",
   "execution_count": 4711,
   "id": "0ab58a39",
   "metadata": {},
   "outputs": [],
   "source": [
    "temp_df = income_statement.loc[0:basic_eps_pos,start_col:].copy()\n",
    "temp_df = pd.DataFrame(temp_df)\n"
   ]
  },
  {
   "cell_type": "code",
   "execution_count": 4712,
   "id": "9652df33",
   "metadata": {},
   "outputs": [],
   "source": [
    "temp_df = temp_df.apply(get_share_price_in)"
   ]
  },
  {
   "cell_type": "code",
   "execution_count": 4713,
   "id": "f3959d9b",
   "metadata": {},
   "outputs": [],
   "source": [
    "income_statement.loc[0:basic_eps_pos,start_col:] = temp_df"
   ]
  },
  {
   "cell_type": "code",
   "execution_count": 4714,
   "id": "ca4cadd5",
   "metadata": {},
   "outputs": [],
   "source": [
    "income_statement.loc[waso_pos,start_col:] = income_statement.loc[waso_pos,start_col:].apply(get_share_price_in)"
   ]
  },
  {
   "cell_type": "code",
   "execution_count": 4715,
   "id": "3e0e0fc7",
   "metadata": {},
   "outputs": [],
   "source": [
    "temp_revenue = income_statement.loc[1]\n",
    "income_statement.loc[1] = income_statement.loc[0]\n",
    "income_statement.loc[0] = temp_revenue"
   ]
  },
  {
   "cell_type": "code",
   "execution_count": 4716,
   "id": "69650598",
   "metadata": {},
   "outputs": [],
   "source": [
    "total_rev = income_statement[particulars].index == 0\n",
    "income_statement.loc[total_rev,particulars] = income_statement.loc[total_rev,particulars].values[0].strip() "
   ]
  },
  {
   "cell_type": "code",
   "execution_count": 4717,
   "id": "63bb5398",
   "metadata": {},
   "outputs": [],
   "source": [
    "is_highlighted_indexes = pd.DataFrame(income_statement.loc[0:basic_eps_pos - 1,particulars])\n",
    "is_highlighted_indexes = is_highlighted_indexes[particulars].apply(count_leading_space).isin([0,4])\n",
    "is_highlighted_indexes = is_highlighted_indexes.loc[is_highlighted_indexes].index"
   ]
  },
  {
   "cell_type": "code",
   "execution_count": 4718,
   "id": "5edf32df",
   "metadata": {},
   "outputs": [],
   "source": [
    "balance_sheet.loc[0:,start_col_balance_sheet:] =  balance_sheet.loc[0:,start_col_balance_sheet:].applymap(get_share_price_in)"
   ]
  },
  {
   "cell_type": "code",
   "execution_count": 4719,
   "id": "6d8eead5",
   "metadata": {},
   "outputs": [],
   "source": [
    "total_equity_filter = balance_sheet[particulars].apply(lambda x: x.strip()).eq('Total Equity')\n",
    "total_equity_row = balance_sheet.loc[total_equity_filter,start_col_balance_sheet:].index.values[0]\n",
    "total_assets_filter = balance_sheet[particulars].apply(lambda x: x.strip()).eq('Total Assets')\n",
    "total_assets_row = balance_sheet.loc[total_assets_filter,start_col_balance_sheet:]\n",
    "total_liabilities_filter = balance_sheet[particulars].apply(lambda x: x.strip()).eq('Total Liabilities')\n",
    "total_liabilities_row = balance_sheet.loc[total_liabilities_filter,start_col_balance_sheet:].index.values[0]\n",
    "balance_sheet.loc[total_liabilities_filter,start_col_balance_sheet:] = balance_sheet.loc[[total_equity_row,total_liabilities_row],start_col_balance_sheet:].sum().values"
   ]
  },
  {
   "cell_type": "code",
   "execution_count": 4720,
   "id": "6ce5e99c",
   "metadata": {},
   "outputs": [],
   "source": [
    "cashflow_statement.loc[0:,start_col_cashflow:] =  cashflow_statement.loc[0:,start_col_cashflow:].applymap(get_share_price_in)"
   ]
  },
  {
   "cell_type": "code",
   "execution_count": 4721,
   "id": "051d0132",
   "metadata": {
    "scrolled": false
   },
   "outputs": [],
   "source": [
    "vertical_analysis_is = pd.DataFrame(columns=income_statement.columns) \n",
    "vertical_analysis_is[particulars] = income_statement.loc[0:basic_eps_pos - 1,particulars].copy()"
   ]
  },
  {
   "cell_type": "code",
   "execution_count": 4722,
   "id": "ee2c188c",
   "metadata": {},
   "outputs": [],
   "source": [
    "total_revenue_filter = income_statement[particulars].apply(lambda x: x.strip()).eq('Total Revenue')\n",
    "total_revenue = income_statement.loc[total_revenue_filter,start_col:]"
   ]
  },
  {
   "cell_type": "code",
   "execution_count": 4723,
   "id": "ca1436f8",
   "metadata": {},
   "outputs": [],
   "source": [
    "for column in vertical_analysis_is.columns[1:] : \n",
    "    vertical_analysis_is[column] = income_statement.loc[0:basic_eps_pos - 1,column].apply(vertical_analysis,divider=total_revenue[column])\n",
    "vertical_analysis_is.loc[0,particulars] = vertical_analysis_is.loc[0,particulars].strip() "
   ]
  },
  {
   "cell_type": "code",
   "execution_count": 4724,
   "id": "ddd35b4d",
   "metadata": {},
   "outputs": [],
   "source": [
    "def row_style(row , list , key , color,bgcolor):\n",
    "   if row[key] in list :\n",
    "       return pd.Series('color:'+color+';background-color:'+bgcolor, row.index)\n",
    "   else :\n",
    "        return pd.Series('', row.index)"
   ]
  },
  {
   "cell_type": "code",
   "execution_count": 4725,
   "id": "e286cf57",
   "metadata": {
    "scrolled": false
   },
   "outputs": [],
   "source": [
    "fil = vertical_analysis_is.loc[0:basic_eps_pos - 1,particulars].apply(count_leading_space).eq(0)\n",
    "templist = vertical_analysis_is.loc[fil,particulars].values\n",
    "vertical_analysis_is_style = vertical_analysis_is\n",
    "vertical_analysis_is_style = vertical_analysis_is_style.loc[is_highlighted_indexes].style.apply(row_style,list=templist,color=\"black\",bgcolor=\"#f1e05a\",key=particulars,axis=1).set_caption(company_name+ \" income statement vertical analysis\").set_table_styles(styles('black',\"rgba(66, 165, 245, 0.2)\")).format(getColumnFormatterbyPercentage('income_statement'),precision=2) \n",
    "fil = None\n",
    "templist = None"
   ]
  },
  {
   "cell_type": "code",
   "execution_count": 4726,
   "id": "6b4a62cd",
   "metadata": {},
   "outputs": [],
   "source": [
    "balance_sheet_va_results_till = balance_sheet[particulars].apply(lambda x: x.strip()).eq('Non-Controlling/Minority Interests in Equity')\n",
    "balance_sheet_va_results_till = balance_sheet[balance_sheet_va_results_till].index.values[0]\n",
    "bs_va_temp = balance_sheet.loc[:balance_sheet_va_results_till]\n",
    "bs_va_temp = pd.DataFrame(bs_va_temp)\n",
    "filt = bs_va_temp[particulars].apply(count_leading_space).isin([0,4,8])\n",
    "balance_sheet_va = pd.DataFrame(bs_va_temp[filt])\n",
    "bs_va_temp = None\n",
    "balance_sheet_va_results_till = None\n",
    "filt = None"
   ]
  },
  {
   "cell_type": "code",
   "execution_count": 4727,
   "id": "4ae20ac5",
   "metadata": {},
   "outputs": [],
   "source": [
    "for column in balance_sheet_va.columns[1:] :\n",
    "    balance_sheet_va[column] = balance_sheet_va.loc[:,column].apply(vertical_analysis,divider=total_assets_row[column])"
   ]
  },
  {
   "cell_type": "code",
   "execution_count": 4728,
   "id": "ec906acb",
   "metadata": {},
   "outputs": [],
   "source": [
    "bs_fil = balance_sheet_va[particulars].apply(count_leading_space).isin([0,4])\n",
    "bs_templist = balance_sheet_va.loc[bs_fil,particulars].values\n",
    "balance_sheet_va_style = balance_sheet_va\n",
    "balance_sheet_va_style = balance_sheet_va_style.style.apply(row_style,list=bs_templist,color=\"black\",bgcolor=\"#f1e05a\",key=particulars,axis=1).set_caption(company_name+ \" balance sheet vertical analysis\").set_table_styles(styles('black',\"rgba(66, 165, 245, 0.2)\")).format(getColumnFormatterbyPercentage('balance_sheet'),precision=2) \n",
    "bs_fil = None\n",
    "bs_templist = None"
   ]
  },
  {
   "cell_type": "code",
   "execution_count": 4729,
   "id": "4e63bc76",
   "metadata": {},
   "outputs": [],
   "source": [
    "#vertical_analysis_is_style"
   ]
  },
  {
   "cell_type": "code",
   "execution_count": 4730,
   "id": "0d265b53",
   "metadata": {},
   "outputs": [],
   "source": [
    "#balance_sheet_va_style"
   ]
  },
  {
   "cell_type": "code",
   "execution_count": 4731,
   "id": "a096905e",
   "metadata": {},
   "outputs": [],
   "source": [
    "income_statement_ha = pd.DataFrame(columns= income_statement.columns)"
   ]
  },
  {
   "cell_type": "code",
   "execution_count": 4732,
   "id": "01e02766",
   "metadata": {},
   "outputs": [],
   "source": [
    "income_statement_ha[particulars] = income_statement[particulars]"
   ]
  },
  {
   "cell_type": "code",
   "execution_count": 4733,
   "id": "a081adae",
   "metadata": {},
   "outputs": [],
   "source": [
    "income_statement_ha.fillna(0 , inplace=True)"
   ]
  },
  {
   "cell_type": "code",
   "execution_count": 4734,
   "id": "597dd9b8",
   "metadata": {},
   "outputs": [],
   "source": [
    "temp_ha_filt = income_statement[particulars].apply(count_leading_space).isin([0,4])\n",
    "for index , column in enumerate(income_statement_ha.columns) :\n",
    "    if index < 2 :\n",
    "        pass;\n",
    "    else:\n",
    "        prevColumn = income_statement.columns[index-1]\n",
    "        income_statement_ha.loc[temp_ha_filt,column] = calculate_growth_series(income_statement.loc[temp_ha_filt,column],income_statement.loc[temp_ha_filt,prevColumn])\n",
    "        "
   ]
  },
  {
   "cell_type": "code",
   "execution_count": 4735,
   "id": "2d74b116",
   "metadata": {
    "scrolled": true
   },
   "outputs": [],
   "source": [
    "income_statement_ha = income_statement_ha[temp_ha_filt]"
   ]
  },
  {
   "cell_type": "code",
   "execution_count": 4736,
   "id": "4b9a2358",
   "metadata": {},
   "outputs": [],
   "source": [
    "#income_statement_ha.replace([float('inf'), float('-inf')], None, inplace=True)\n",
    "#income_statement_ha.fillna(0 , inplace=True)"
   ]
  },
  {
   "cell_type": "code",
   "execution_count": 4737,
   "id": "1bc18518",
   "metadata": {
    "scrolled": true
   },
   "outputs": [],
   "source": [
    "temp_ha_filt = income_statement[particulars].apply(count_leading_space).isin([0])\n",
    "iha_templist = income_statement_ha.loc[temp_ha_filt,particulars].values\n",
    "income_statement_ha_style = income_statement_ha\n",
    "income_statement_ha_style = income_statement_ha_style.style.apply(row_style,list=iha_templist,color=\"black\",bgcolor=\"#f1e05a\",key=particulars,axis=1).set_caption(company_name+ \" Income statement horizontal analysis\").set_table_styles(styles('black',\"rgba(66, 165, 245, 0.2)\")).format(getColumnFormatterbyPercentage('income_statement'),precision=2) "
   ]
  },
  {
   "cell_type": "code",
   "execution_count": 4738,
   "id": "2e1e7d22",
   "metadata": {},
   "outputs": [],
   "source": [
    "balance_sheet_ha_results_till = balance_sheet[particulars].apply(lambda x: x.strip()).eq('Non-Controlling/Minority Interests in Equity')\n",
    "balance_sheet_ha_results_till = balance_sheet[balance_sheet_ha_results_till].index.values[0]\n",
    "bs_ha_temp = balance_sheet.loc[:balance_sheet_ha_results_till]\n",
    "bs_ha_temp = pd.DataFrame(bs_ha_temp)\n",
    "filt = bs_ha_temp[particulars].apply(count_leading_space).isin([0,4,8])\n",
    "balance_sheet_ha = pd.DataFrame(bs_ha_temp[filt])"
   ]
  },
  {
   "cell_type": "code",
   "execution_count": 4739,
   "id": "d6502e37",
   "metadata": {},
   "outputs": [],
   "source": [
    "for index , column in enumerate(balance_sheet_ha.columns) :\n",
    "    if index < 2 :\n",
    "        pass;\n",
    "    else:\n",
    "        prevColumn = balance_sheet_ha.columns[index-1]\n",
    "        balance_sheet_ha.loc[:,column] = calculate_growth_series(balance_sheet.loc[:,column],balance_sheet.loc[:,prevColumn])\n",
    "balance_sheet_ha[start_col_balance_sheet] = 0.0\n",
    "prevColumn = None"
   ]
  },
  {
   "cell_type": "code",
   "execution_count": 4740,
   "id": "ec58e2a9",
   "metadata": {},
   "outputs": [],
   "source": [
    "bs_fil_ha = balance_sheet_ha[particulars].apply(count_leading_space).isin([0,4])\n",
    "bs_templist_ha = balance_sheet_ha.loc[bs_fil_ha,particulars].values\n",
    "balance_sheet_ha_style = balance_sheet_ha\n",
    "balance_sheet_ha_style = balance_sheet_ha_style.style.apply(row_style,list=bs_templist_ha,color=\"black\",bgcolor=\"#f1e05a\",key=particulars,axis=1).set_caption(company_name+ \" balance sheet horizontal analysis\").set_table_styles(styles('black',\"rgba(66, 165, 245, 0.2)\")).format(getColumnFormatterbyPercentage('balance_sheet'),precision=2) \n",
    "bs_fil_ha = None\n",
    "bs_templist_ha = None"
   ]
  },
  {
   "cell_type": "code",
   "execution_count": 4741,
   "id": "b38ee458",
   "metadata": {},
   "outputs": [],
   "source": [
    "cashflow_statement_filt = cashflow_statement[particulars].apply(count_leading_space).isin([0,8,12])\n",
    "cash_flow_stmt_ha = pd.DataFrame(cashflow_statement[cashflow_statement_filt])\n",
    "cash_flow_stmt_ha.reset_index(inplace=True, drop=True)\n",
    "cash_flow_stmt_ha_temp = cash_flow_stmt_ha.copy()"
   ]
  },
  {
   "cell_type": "code",
   "execution_count": 4742,
   "id": "80d5c8e4",
   "metadata": {},
   "outputs": [],
   "source": [
    "for index , column in enumerate(cash_flow_stmt_ha.columns) :\n",
    "    if index < 2 :\n",
    "        pass;\n",
    "    else:\n",
    "        prevColumn = cash_flow_stmt_ha.columns[index-1]\n",
    "        cash_flow_stmt_ha.loc[:,column] = calculate_growth_series(cash_flow_stmt_ha_temp.loc[:,column],cash_flow_stmt_ha_temp.loc[:,prevColumn])\n",
    "cash_flow_stmt_ha[start_col_cashflow] = 0.0\n",
    "cash_flow_stmt_ha_temp = None\n",
    "cashflow_statement_filt = None\n",
    "prevColumn = None"
   ]
  },
  {
   "cell_type": "code",
   "execution_count": 4743,
   "id": "398a1f4c",
   "metadata": {},
   "outputs": [],
   "source": [
    "cf_fil_ha = cash_flow_stmt_ha[particulars].apply(count_leading_space).isin([0])\n",
    "cf_templist_ha = cash_flow_stmt_ha.loc[cf_fil_ha,particulars].values\n",
    "cash_flow_stmt_ha_style = cash_flow_stmt_ha\n",
    "cash_flow_stmt_ha_style = cash_flow_stmt_ha_style.style.apply(row_style,list=cf_templist_ha,color=\"black\",bgcolor=\"#f1e05a\",key=particulars,axis=1).set_caption(company_name+ \" cash flow horizontal analysis\").set_table_styles(styles('black',\"rgba(66, 165, 245, 0.2)\")).format(getColumnFormatterbyPercentage('cashflow_statement'),precision=2) \n",
    "cf_fil_ha = None\n",
    "cf_templist_ha = None"
   ]
  },
  {
   "cell_type": "code",
   "execution_count": 4744,
   "id": "ef82271c",
   "metadata": {},
   "outputs": [],
   "source": [
    "#income_statement_ha_style"
   ]
  },
  {
   "cell_type": "code",
   "execution_count": 4745,
   "id": "374f2e4f",
   "metadata": {},
   "outputs": [],
   "source": [
    "#balance_sheet_ha_style"
   ]
  },
  {
   "cell_type": "code",
   "execution_count": 4746,
   "id": "4adc6a6e",
   "metadata": {
    "scrolled": true
   },
   "outputs": [],
   "source": [
    "#cash_flow_stmt_ha_style"
   ]
  },
  {
   "cell_type": "code",
   "execution_count": 4747,
   "id": "5ac61bbf",
   "metadata": {},
   "outputs": [],
   "source": [
    "is_trend_base = income_statement[start_col]"
   ]
  },
  {
   "cell_type": "code",
   "execution_count": 4748,
   "id": "63a2d0f9",
   "metadata": {},
   "outputs": [],
   "source": [
    "income_statement_trend = pd.DataFrame(columns=income_statement.columns)\n",
    "income_statement_trend[particulars] = income_statement[particulars]\n",
    "income_statement_trend[start_col] = 0\n",
    "income_statement_trend.fillna(0,inplace=True)"
   ]
  },
  {
   "cell_type": "code",
   "execution_count": 4749,
   "id": "48b1a6e1",
   "metadata": {},
   "outputs": [],
   "source": [
    "for index , column in enumerate(income_statement_trend.columns) :\n",
    "    if index < 2 :\n",
    "        pass;\n",
    "    else:\n",
    "        income_statement_trend.loc[:,column] = calculate_growth_series(income_statement.loc[:,column],is_trend_base)\n",
    "is_trend_base = None      "
   ]
  },
  {
   "cell_type": "code",
   "execution_count": 4750,
   "id": "d2ad2220",
   "metadata": {},
   "outputs": [],
   "source": [
    "temp_ta_filt = income_statement_trend[particulars].apply(count_leading_space).isin([0])\n",
    "ita_templist = income_statement_trend.loc[temp_ta_filt,particulars].values\n",
    "income_statement_trend_style = income_statement_trend\n",
    "income_statement_trend_style = income_statement_trend_style.style.apply(row_style,list=ita_templist,color=\"black\",bgcolor=\"#f1e05a\",key=particulars,axis=1).set_caption(company_name+ \" Income statement trend analysis\").set_table_styles(styles('black',\"rgba(66, 165, 245, 0.2)\")).format(getColumnFormatterbyPercentage('income_statement'),precision=2) "
   ]
  },
  {
   "cell_type": "code",
   "execution_count": 4751,
   "id": "3b450d02",
   "metadata": {},
   "outputs": [],
   "source": [
    "temp_balance = balance_sheet.loc[:balance_sheet_ha_results_till]"
   ]
  },
  {
   "cell_type": "code",
   "execution_count": 4752,
   "id": "050df6d8",
   "metadata": {},
   "outputs": [],
   "source": [
    "bs_trend_base = temp_balance[start_col_balance_sheet]\n",
    "balance_sheet_trend = pd.DataFrame(columns=temp_balance.columns)\n",
    "balance_sheet_trend[particulars] = temp_balance[particulars]\n",
    "balance_sheet_trend[start_col] = 0\n",
    "balance_sheet_trend.fillna(0,inplace=True)"
   ]
  },
  {
   "cell_type": "code",
   "execution_count": 4753,
   "id": "0890c9a6",
   "metadata": {},
   "outputs": [],
   "source": [
    "for index , column in enumerate(balance_sheet_trend.columns) :\n",
    "    if index < 2 :\n",
    "        pass;\n",
    "    else:\n",
    "        balance_sheet_trend.loc[:,column] = calculate_growth_series(temp_balance.loc[:,column],bs_trend_base)\n",
    "temp_balance = None\n",
    "bs_trend_base = None"
   ]
  },
  {
   "cell_type": "code",
   "execution_count": 4754,
   "id": "82c70769",
   "metadata": {},
   "outputs": [],
   "source": [
    "bs_fil_ta = balance_sheet_trend[particulars].apply(count_leading_space).isin([0,4])\n",
    "bs_templist_ta = balance_sheet_trend.loc[bs_fil_ta,particulars].values\n",
    "balance_sheet_trend_style = balance_sheet_trend\n",
    "balance_sheet_trend_style = balance_sheet_trend_style.style.apply(row_style,list=bs_templist_ta,color=\"black\",bgcolor=\"#f1e05a\",key=particulars,axis=1).set_caption(company_name+ \" balance sheet trend analysis\").set_table_styles(styles('black',\"rgba(66, 165, 245, 0.2)\")).format(getColumnFormatterbyPercentage('balance_sheet'),precision=2) \n",
    "bs_fil_ta = None\n",
    "bs_templist_ta = None"
   ]
  },
  {
   "cell_type": "code",
   "execution_count": 4755,
   "id": "ba03b5d1",
   "metadata": {},
   "outputs": [],
   "source": [
    "cashflow_statement_filt = cashflow_statement[particulars].apply(count_leading_space).isin([0,8,12])\n",
    "cash_flow_stmt_trend = pd.DataFrame(columns=cashflow_statement.columns)\n",
    "cash_flow_stmt_trend_temp = cashflow_statement[cashflow_statement_filt].copy()\n",
    "cash_flow_stmt_trend_temp.reset_index(inplace=True,drop=True)\n",
    "cash_flow_stmt_trend[particulars] = cash_flow_stmt_trend_temp[particulars]\n",
    "cash_flow_stmt_trend[start_col_cashflow] = 0"
   ]
  },
  {
   "cell_type": "code",
   "execution_count": 4756,
   "id": "04cd1fde",
   "metadata": {},
   "outputs": [],
   "source": [
    "cf_trend_base = cash_flow_stmt_trend_temp[start_col_cashflow]"
   ]
  },
  {
   "cell_type": "code",
   "execution_count": 4757,
   "id": "b774b920",
   "metadata": {
    "scrolled": false
   },
   "outputs": [],
   "source": [
    "for index , column in enumerate(cash_flow_stmt_trend.columns) :\n",
    "    if index < 2 :\n",
    "        pass;\n",
    "    else:\n",
    "        cash_flow_stmt_trend.loc[:,column] = calculate_growth_series(cash_flow_stmt_trend_temp.loc[:,column],cf_trend_base)\n",
    "cash_flow_stmt_trend_temp = None\n",
    "cf_trend_base = None"
   ]
  },
  {
   "cell_type": "code",
   "execution_count": 4758,
   "id": "bcfaed3a",
   "metadata": {},
   "outputs": [],
   "source": [
    "cf_fil_ta = cash_flow_stmt_trend[particulars].apply(count_leading_space).isin([0])\n",
    "cf_templist_ta = cash_flow_stmt_trend.loc[cf_fil_ta,particulars].values\n",
    "cash_flow_stmt_trend_style = cash_flow_stmt_trend\n",
    "cash_flow_stmt_trend_style = cash_flow_stmt_trend.style.apply(row_style,list=cf_templist_ta,color=\"black\",bgcolor=\"#f1e05a\",key=particulars,axis=1).set_caption(company_name+ \" cash flow trend analysis\").set_table_styles(styles('black',\"rgba(66, 165, 245, 0.2)\")).format(getColumnFormatterbyPercentage('cashflow_statement'),precision=2) \n",
    "cf_fil_ta = None\n",
    "cf_templist_ta = None"
   ]
  },
  {
   "cell_type": "code",
   "execution_count": 4759,
   "id": "c61ec4c5",
   "metadata": {},
   "outputs": [],
   "source": [
    "#income_statement_trend_style"
   ]
  },
  {
   "cell_type": "code",
   "execution_count": 4760,
   "id": "d2dc47b7",
   "metadata": {},
   "outputs": [],
   "source": [
    "#balance_sheet_trend_style"
   ]
  },
  {
   "cell_type": "code",
   "execution_count": 4761,
   "id": "ab6ffa5d",
   "metadata": {
    "scrolled": true
   },
   "outputs": [],
   "source": [
    "#cash_flow_stmt_trend_style"
   ]
  },
  {
   "cell_type": "code",
   "execution_count": 4762,
   "id": "042aa094",
   "metadata": {},
   "outputs": [],
   "source": [
    "current_assets_filter = balance_sheet[particulars].apply(lambda x: x.strip().lower()).eq('total current assets')\n",
    "current_liabilities_filter = balance_sheet[particulars].apply(lambda x: x.strip().lower()).eq('total current liabilities')"
   ]
  },
  {
   "cell_type": "code",
   "execution_count": 4763,
   "id": "b4c9a975",
   "metadata": {},
   "outputs": [],
   "source": [
    "current_assets = balance_sheet.loc[current_assets_filter,start_col_balance_sheet:].copy()\n",
    "current_liabilities = balance_sheet.loc[current_liabilities_filter,start_col_balance_sheet:].copy()"
   ]
  },
  {
   "cell_type": "code",
   "execution_count": 4764,
   "id": "8725dc3c",
   "metadata": {},
   "outputs": [],
   "source": [
    "solvency_ratio = pd.DataFrame(columns=balance_sheet.columns)"
   ]
  },
  {
   "cell_type": "code",
   "execution_count": 4765,
   "id": "5de81d1c",
   "metadata": {},
   "outputs": [],
   "source": [
    "solvency_ratio[particulars] = ['current ratio' , 'quick ratio', 'cash ratio']"
   ]
  },
  {
   "cell_type": "code",
   "execution_count": 4766,
   "id": "15a8734f",
   "metadata": {},
   "outputs": [],
   "source": [
    "solvency_ratio.loc[0:0,start_col_balance_sheet:] = calculate_ratio(current_assets,current_liabilities).values"
   ]
  },
  {
   "cell_type": "code",
   "execution_count": 4767,
   "id": "8985d17d",
   "metadata": {},
   "outputs": [],
   "source": [
    "inventories_filter = balance_sheet[particulars].apply(lambda x: x.strip().lower()).eq('inventories')"
   ]
  },
  {
   "cell_type": "code",
   "execution_count": 4768,
   "id": "44b4a1e3",
   "metadata": {},
   "outputs": [],
   "source": [
    "inventories = balance_sheet.loc[inventories_filter,start_col_balance_sheet:].copy()\n",
    "if len(inventories.value_counts().values) == 0 :\n",
    "    data = [[0] * len(inventories.columns)]\n",
    "    inventories = pd.DataFrame(data=data , columns=inventories.columns).copy()\n",
    "quick_assets = current_assets - inventories.values"
   ]
  },
  {
   "cell_type": "code",
   "execution_count": 4769,
   "id": "3833957b",
   "metadata": {},
   "outputs": [],
   "source": [
    "solvency_ratio.loc[1:1,start_col_balance_sheet:] =  calculate_ratio(quick_assets,current_liabilities).values"
   ]
  },
  {
   "cell_type": "code",
   "execution_count": 4770,
   "id": "6a9f4bd0",
   "metadata": {},
   "outputs": [],
   "source": [
    "cash_and_ceq_filter = balance_sheet[particulars].apply(lambda x: x.strip().lower()).eq('cash and cash equivalents')"
   ]
  },
  {
   "cell_type": "code",
   "execution_count": 4771,
   "id": "8f8c1a06",
   "metadata": {},
   "outputs": [],
   "source": [
    "cash_and_ceq = balance_sheet.loc[cash_and_ceq_filter,start_col_balance_sheet:].copy()"
   ]
  },
  {
   "cell_type": "code",
   "execution_count": 4772,
   "id": "8e40e423",
   "metadata": {},
   "outputs": [],
   "source": [
    "solvency_ratio.loc[2:2,start_col_balance_sheet:] = calculate_ratio(cash_and_ceq,current_liabilities).values"
   ]
  },
  {
   "cell_type": "code",
   "execution_count": 4773,
   "id": "cb8dba57",
   "metadata": {},
   "outputs": [
    {
     "data": {
      "text/html": [
       "<div>\n",
       "<style scoped>\n",
       "    .dataframe tbody tr th:only-of-type {\n",
       "        vertical-align: middle;\n",
       "    }\n",
       "\n",
       "    .dataframe tbody tr th {\n",
       "        vertical-align: top;\n",
       "    }\n",
       "\n",
       "    .dataframe thead th {\n",
       "        text-align: right;\n",
       "    }\n",
       "</style>\n",
       "<table border=\"1\" class=\"dataframe\">\n",
       "  <thead>\n",
       "    <tr style=\"text-align: right;\">\n",
       "      <th></th>\n",
       "      <th>particulars</th>\n",
       "      <th>2013</th>\n",
       "      <th>2014</th>\n",
       "      <th>2015</th>\n",
       "      <th>2016</th>\n",
       "      <th>2017</th>\n",
       "      <th>2018</th>\n",
       "      <th>2019</th>\n",
       "      <th>2020</th>\n",
       "      <th>2021</th>\n",
       "      <th>2022</th>\n",
       "    </tr>\n",
       "  </thead>\n",
       "  <tbody>\n",
       "    <tr>\n",
       "      <th>0</th>\n",
       "      <td>current ratio</td>\n",
       "      <td>2.67</td>\n",
       "      <td>2.74</td>\n",
       "      <td>2.4</td>\n",
       "      <td>2.87</td>\n",
       "      <td>5.55</td>\n",
       "      <td>4.56</td>\n",
       "      <td>4.17</td>\n",
       "      <td>3.33</td>\n",
       "      <td>2.91</td>\n",
       "      <td>2.56</td>\n",
       "    </tr>\n",
       "    <tr>\n",
       "      <th>1</th>\n",
       "      <td>quick ratio</td>\n",
       "      <td>2.66</td>\n",
       "      <td>2.74</td>\n",
       "      <td>2.4</td>\n",
       "      <td>2.87</td>\n",
       "      <td>5.55</td>\n",
       "      <td>4.55</td>\n",
       "      <td>4.17</td>\n",
       "      <td>3.33</td>\n",
       "      <td>2.91</td>\n",
       "      <td>2.56</td>\n",
       "    </tr>\n",
       "    <tr>\n",
       "      <th>2</th>\n",
       "      <td>cash ratio</td>\n",
       "      <td>0.57</td>\n",
       "      <td>0.92</td>\n",
       "      <td>0.9</td>\n",
       "      <td>0.29</td>\n",
       "      <td>0.25</td>\n",
       "      <td>0.27</td>\n",
       "      <td>0.33</td>\n",
       "      <td>0.32</td>\n",
       "      <td>0.2</td>\n",
       "      <td>0.29</td>\n",
       "    </tr>\n",
       "  </tbody>\n",
       "</table>\n",
       "</div>"
      ],
      "text/plain": [
       "     particulars  2013  2014 2015  2016  2017  2018  2019  2020  2021  2022\n",
       "0  current ratio  2.67  2.74  2.4  2.87  5.55  4.56  4.17  3.33  2.91  2.56\n",
       "1    quick ratio  2.66  2.74  2.4  2.87  5.55  4.55  4.17  3.33  2.91  2.56\n",
       "2     cash ratio  0.57  0.92  0.9  0.29  0.25  0.27  0.33  0.32   0.2  0.29"
      ]
     },
     "execution_count": 4773,
     "metadata": {},
     "output_type": "execute_result"
    }
   ],
   "source": [
    "solvency_ratio"
   ]
  },
  {
   "cell_type": "code",
   "execution_count": 4774,
   "id": "31fcb1ef",
   "metadata": {},
   "outputs": [],
   "source": [
    "turnover_ratio = pd.DataFrame(columns=balance_sheet.columns)"
   ]
  },
  {
   "cell_type": "code",
   "execution_count": 4775,
   "id": "0fa082af",
   "metadata": {},
   "outputs": [],
   "source": [
    "turnover_ratio[particulars] = ['Receivable turnover' , 'Inventory turnover', 'Payables turnover']"
   ]
  },
  {
   "cell_type": "code",
   "execution_count": 4776,
   "id": "fb56c65f",
   "metadata": {},
   "outputs": [],
   "source": [
    "#turnover_ratio.drop([start_col_balance_sheet] , axis=1 , inplace=True)"
   ]
  },
  {
   "cell_type": "code",
   "execution_count": 4777,
   "id": "aa9b1772",
   "metadata": {},
   "outputs": [],
   "source": [
    "account_receivables = get_df_items(balance_sheet,'Trade and Other Receivables, Current' , start_col_balance_sheet)"
   ]
  },
  {
   "cell_type": "code",
   "execution_count": 4778,
   "id": "40753ea4",
   "metadata": {},
   "outputs": [],
   "source": [
    "invetory = get_df_items(balance_sheet,'Inventories' , start_col_balance_sheet)"
   ]
  },
  {
   "cell_type": "code",
   "execution_count": 4779,
   "id": "81ad9e19",
   "metadata": {},
   "outputs": [],
   "source": [
    "cogs = get_df_items(income_statement,'Cost of Revenue' , start_col).apply(abs)"
   ]
  },
  {
   "cell_type": "code",
   "execution_count": 4780,
   "id": "c933bed5",
   "metadata": {},
   "outputs": [],
   "source": [
    "for i , column in enumerate(balance_sheet.columns):\n",
    "    if i > 1 :\n",
    "        prevColumn = balance_sheet.columns[i - 1]\n",
    "        ar_mean = account_receivables.loc[:,prevColumn:column].mean(axis=1)\n",
    "        turnover_ratio.loc[0:0,column] = calculate_ratio(total_revenue.loc[:,column],ar_mean).values\n"
   ]
  },
  {
   "cell_type": "code",
   "execution_count": 4781,
   "id": "4af8e764",
   "metadata": {},
   "outputs": [],
   "source": [
    "for i , column in enumerate(balance_sheet.columns):\n",
    "    if(len(invetory.value_counts()) == 0) :\n",
    "        turnover_ratio.loc[1:1,start_col_balance_sheet:] = '-'\n",
    "        break\n",
    "    elif i > 1 :\n",
    "        prevColumn = balance_sheet.columns[i - 1]\n",
    "        inv_mean = invetory.loc[:,prevColumn:column].mean(axis=1)\n",
    "        turnover_ratio.loc[1:1,column] = calculate_ratio(cogs.loc[:,column],inv_mean).values    "
   ]
  },
  {
   "cell_type": "code",
   "execution_count": 4782,
   "id": "51df4995",
   "metadata": {},
   "outputs": [],
   "source": [
    "bl_is_col_diff = len(balance_sheet.columns) - len(income_statement.columns)"
   ]
  },
  {
   "cell_type": "code",
   "execution_count": 4783,
   "id": "e8a5b9b9",
   "metadata": {},
   "outputs": [],
   "source": [
    "cogs_ap = get_df_items(income_statement,'Cost of Revenue',start_col).iloc[:,:bl_is_col_diff].apply(abs)\n",
    "invetories_ap = get_df_items(balance_sheet,'inventories',start_col_balance_sheet)\n",
    "if len(invetories_ap.value_counts().values) == 0 :\n",
    "    data = [[0] * len(invetories_ap.columns)]\n",
    "    invetories_ap = pd.DataFrame(data=data , columns=invetories_ap.columns)\n",
    "purchases = pd.DataFrame(data=[ [0] * len(invetories_ap.columns) ],columns=invetories_ap.columns.values)\n",
    "for i , column in enumerate(invetories_ap.columns) :\n",
    "    if i > 0 :\n",
    "        currentCol = column\n",
    "        prevColumn = invetories_ap.columns[i-1]\n",
    "        inventories_diff = invetories_ap[currentCol] - invetories_ap[prevColumn]\n",
    "        purchases[currentCol] = cogs_ap[currentCol] + inventories_diff.values    "
   ]
  },
  {
   "cell_type": "code",
   "execution_count": 4784,
   "id": "a62f1540",
   "metadata": {
    "scrolled": true
   },
   "outputs": [],
   "source": [
    "account_payables = get_df_items(balance_sheet,'Payables and Accrued Expenses, Current',start_col_balance_sheet)\n",
    "for i , column in enumerate(balance_sheet.columns):\n",
    "    if i > 1 :\n",
    "        prevColumn = balance_sheet.columns[i - 1]\n",
    "        ap_mean = account_payables.loc[:,prevColumn:column].mean(axis=1)\n",
    "        turnover_ratio.loc[2:2,column] = calculate_ratio(purchases.loc[:,column],ap_mean).values\n",
    "turnover_ratio.dropna(how='all' , axis=1,inplace=True)"
   ]
  },
  {
   "cell_type": "code",
   "execution_count": 4785,
   "id": "3dbc4072",
   "metadata": {},
   "outputs": [],
   "source": [
    "#turnover_ratio.drop([start_col_balance_sheet] , inplace=True , axis=1)"
   ]
  },
  {
   "cell_type": "code",
   "execution_count": 4786,
   "id": "761c2c4f",
   "metadata": {},
   "outputs": [],
   "source": [
    "days_turnover_ratio = pd.DataFrame(columns=turnover_ratio.columns)"
   ]
  },
  {
   "cell_type": "code",
   "execution_count": 4787,
   "id": "c6ab5e3b",
   "metadata": {},
   "outputs": [],
   "source": [
    "days_turnover_ratio[particulars] = ['Receivable turnover days' , 'Inventory turnover days' , 'Payables turnover days']"
   ]
  },
  {
   "cell_type": "code",
   "execution_count": 4788,
   "id": "a0c291b9",
   "metadata": {},
   "outputs": [],
   "source": [
    "days_turnover_ratio.iloc[:,1:] = turnover_ratio.iloc[:,1:].applymap(days_turnover)"
   ]
  },
  {
   "cell_type": "code",
   "execution_count": 4789,
   "id": "b3719d00",
   "metadata": {},
   "outputs": [
    {
     "data": {
      "text/html": [
       "<div>\n",
       "<style scoped>\n",
       "    .dataframe tbody tr th:only-of-type {\n",
       "        vertical-align: middle;\n",
       "    }\n",
       "\n",
       "    .dataframe tbody tr th {\n",
       "        vertical-align: top;\n",
       "    }\n",
       "\n",
       "    .dataframe thead th {\n",
       "        text-align: right;\n",
       "    }\n",
       "</style>\n",
       "<table border=\"1\" class=\"dataframe\">\n",
       "  <thead>\n",
       "    <tr style=\"text-align: right;\">\n",
       "      <th></th>\n",
       "      <th>particulars</th>\n",
       "      <th>2014</th>\n",
       "      <th>2015</th>\n",
       "      <th>2016</th>\n",
       "      <th>2017</th>\n",
       "      <th>2018</th>\n",
       "      <th>2019</th>\n",
       "      <th>2020</th>\n",
       "      <th>2021</th>\n",
       "      <th>2022</th>\n",
       "    </tr>\n",
       "  </thead>\n",
       "  <tbody>\n",
       "    <tr>\n",
       "      <th>0</th>\n",
       "      <td>Receivable turnover</td>\n",
       "      <td>3.2</td>\n",
       "      <td>3.38</td>\n",
       "      <td>3.47</td>\n",
       "      <td>3.57</td>\n",
       "      <td>3.76</td>\n",
       "      <td>4.0</td>\n",
       "      <td>3.78</td>\n",
       "      <td>3.83</td>\n",
       "      <td>4.2</td>\n",
       "    </tr>\n",
       "    <tr>\n",
       "      <th>1</th>\n",
       "      <td>Inventory turnover</td>\n",
       "      <td>1812.36</td>\n",
       "      <td>2719.76</td>\n",
       "      <td>2868.45</td>\n",
       "      <td>3457.42</td>\n",
       "      <td>2940.26</td>\n",
       "      <td>4473.11</td>\n",
       "      <td>11714.27</td>\n",
       "      <td>13365.38</td>\n",
       "      <td>7161.93</td>\n",
       "    </tr>\n",
       "    <tr>\n",
       "      <th>2</th>\n",
       "      <td>Payables turnover</td>\n",
       "      <td>4.57</td>\n",
       "      <td>4.93</td>\n",
       "      <td>5.36</td>\n",
       "      <td>7.56</td>\n",
       "      <td>6.85</td>\n",
       "      <td>6.22</td>\n",
       "      <td>5.49</td>\n",
       "      <td>4.38</td>\n",
       "      <td>3.87</td>\n",
       "    </tr>\n",
       "  </tbody>\n",
       "</table>\n",
       "</div>"
      ],
      "text/plain": [
       "           particulars     2014     2015     2016     2017     2018     2019  \\\n",
       "0  Receivable turnover      3.2     3.38     3.47     3.57     3.76      4.0   \n",
       "1   Inventory turnover  1812.36  2719.76  2868.45  3457.42  2940.26  4473.11   \n",
       "2    Payables turnover     4.57     4.93     5.36     7.56     6.85     6.22   \n",
       "\n",
       "       2020      2021     2022  \n",
       "0      3.78      3.83      4.2  \n",
       "1  11714.27  13365.38  7161.93  \n",
       "2      5.49      4.38     3.87  "
      ]
     },
     "execution_count": 4789,
     "metadata": {},
     "output_type": "execute_result"
    }
   ],
   "source": [
    "turnover_ratio"
   ]
  },
  {
   "cell_type": "code",
   "execution_count": 4790,
   "id": "bf41e19f",
   "metadata": {
    "scrolled": false
   },
   "outputs": [
    {
     "data": {
      "text/html": [
       "<div>\n",
       "<style scoped>\n",
       "    .dataframe tbody tr th:only-of-type {\n",
       "        vertical-align: middle;\n",
       "    }\n",
       "\n",
       "    .dataframe tbody tr th {\n",
       "        vertical-align: top;\n",
       "    }\n",
       "\n",
       "    .dataframe thead th {\n",
       "        text-align: right;\n",
       "    }\n",
       "</style>\n",
       "<table border=\"1\" class=\"dataframe\">\n",
       "  <thead>\n",
       "    <tr style=\"text-align: right;\">\n",
       "      <th></th>\n",
       "      <th>particulars</th>\n",
       "      <th>2014</th>\n",
       "      <th>2015</th>\n",
       "      <th>2016</th>\n",
       "      <th>2017</th>\n",
       "      <th>2018</th>\n",
       "      <th>2019</th>\n",
       "      <th>2020</th>\n",
       "      <th>2021</th>\n",
       "      <th>2022</th>\n",
       "    </tr>\n",
       "  </thead>\n",
       "  <tbody>\n",
       "    <tr>\n",
       "      <th>0</th>\n",
       "      <td>Receivable turnover days</td>\n",
       "      <td>114.06</td>\n",
       "      <td>107.99</td>\n",
       "      <td>105.19</td>\n",
       "      <td>102.24</td>\n",
       "      <td>97.07</td>\n",
       "      <td>91.25</td>\n",
       "      <td>96.56</td>\n",
       "      <td>95.30</td>\n",
       "      <td>86.90</td>\n",
       "    </tr>\n",
       "    <tr>\n",
       "      <th>1</th>\n",
       "      <td>Inventory turnover days</td>\n",
       "      <td>0.20</td>\n",
       "      <td>0.13</td>\n",
       "      <td>0.13</td>\n",
       "      <td>0.11</td>\n",
       "      <td>0.12</td>\n",
       "      <td>0.08</td>\n",
       "      <td>0.03</td>\n",
       "      <td>0.03</td>\n",
       "      <td>0.05</td>\n",
       "    </tr>\n",
       "    <tr>\n",
       "      <th>2</th>\n",
       "      <td>Payables turnover days</td>\n",
       "      <td>79.87</td>\n",
       "      <td>74.04</td>\n",
       "      <td>68.10</td>\n",
       "      <td>48.28</td>\n",
       "      <td>53.28</td>\n",
       "      <td>58.68</td>\n",
       "      <td>66.48</td>\n",
       "      <td>83.33</td>\n",
       "      <td>94.32</td>\n",
       "    </tr>\n",
       "  </tbody>\n",
       "</table>\n",
       "</div>"
      ],
      "text/plain": [
       "                particulars    2014    2015    2016    2017   2018   2019  \\\n",
       "0  Receivable turnover days  114.06  107.99  105.19  102.24  97.07  91.25   \n",
       "1   Inventory turnover days    0.20    0.13    0.13    0.11   0.12   0.08   \n",
       "2    Payables turnover days   79.87   74.04   68.10   48.28  53.28  58.68   \n",
       "\n",
       "    2020   2021   2022  \n",
       "0  96.56  95.30  86.90  \n",
       "1   0.03   0.03   0.05  \n",
       "2  66.48  83.33  94.32  "
      ]
     },
     "execution_count": 4790,
     "metadata": {},
     "output_type": "execute_result"
    }
   ],
   "source": [
    "days_turnover_ratio"
   ]
  },
  {
   "cell_type": "code",
   "execution_count": 4791,
   "id": "4afe05da",
   "metadata": {},
   "outputs": [],
   "source": [
    "sc = days_turnover_ratio.columns[1]\n",
    "receivable_days = get_df_items(days_turnover_ratio,'Receivable turnover days',sc)\n",
    "inventory_days = get_df_items(days_turnover_ratio,'Inventory turnover days',sc).replace({'-' : 0})\n",
    "payable_days = get_df_items(days_turnover_ratio,'Payables turnover days',sc)\n",
    "ccy = inventory_days + receivable_days - payable_days\n",
    "cash_conversion_cyle = pd.DataFrame(ccy) \n"
   ]
  },
  {
   "cell_type": "code",
   "execution_count": 4792,
   "id": "9e083590",
   "metadata": {},
   "outputs": [
    {
     "data": {
      "text/html": [
       "<div>\n",
       "<style scoped>\n",
       "    .dataframe tbody tr th:only-of-type {\n",
       "        vertical-align: middle;\n",
       "    }\n",
       "\n",
       "    .dataframe tbody tr th {\n",
       "        vertical-align: top;\n",
       "    }\n",
       "\n",
       "    .dataframe thead th {\n",
       "        text-align: right;\n",
       "    }\n",
       "</style>\n",
       "<table border=\"1\" class=\"dataframe\">\n",
       "  <thead>\n",
       "    <tr style=\"text-align: right;\">\n",
       "      <th></th>\n",
       "      <th>2014</th>\n",
       "      <th>2015</th>\n",
       "      <th>2016</th>\n",
       "      <th>2017</th>\n",
       "      <th>2018</th>\n",
       "      <th>2019</th>\n",
       "      <th>2020</th>\n",
       "      <th>2021</th>\n",
       "      <th>2022</th>\n",
       "    </tr>\n",
       "  </thead>\n",
       "  <tbody>\n",
       "    <tr>\n",
       "      <th>0</th>\n",
       "      <td>34.39</td>\n",
       "      <td>34.08</td>\n",
       "      <td>37.22</td>\n",
       "      <td>54.07</td>\n",
       "      <td>43.91</td>\n",
       "      <td>32.65</td>\n",
       "      <td>30.11</td>\n",
       "      <td>12.0</td>\n",
       "      <td>-7.37</td>\n",
       "    </tr>\n",
       "  </tbody>\n",
       "</table>\n",
       "</div>"
      ],
      "text/plain": [
       "    2014   2015   2016   2017   2018   2019   2020  2021  2022\n",
       "0  34.39  34.08  37.22  54.07  43.91  32.65  30.11  12.0 -7.37"
      ]
     },
     "execution_count": 4792,
     "metadata": {},
     "output_type": "execute_result"
    }
   ],
   "source": [
    "ccy"
   ]
  },
  {
   "cell_type": "code",
   "execution_count": 4793,
   "id": "caad577f",
   "metadata": {},
   "outputs": [],
   "source": [
    "operating_efficiency_ratio = pd.DataFrame(columns=balance_sheet.columns)"
   ]
  },
  {
   "cell_type": "code",
   "execution_count": 4794,
   "id": "913a0631",
   "metadata": {},
   "outputs": [],
   "source": [
    "bl_is_col_diff = len(balance_sheet.columns) - len(income_statement.columns)"
   ]
  },
  {
   "cell_type": "code",
   "execution_count": 4795,
   "id": "5169d913",
   "metadata": {},
   "outputs": [],
   "source": [
    "operating_efficiency_ratio[particulars] = ['Total asset turnover' , 'Net fixed asset turnover' , 'Equity turnover']"
   ]
  },
  {
   "cell_type": "code",
   "execution_count": 4796,
   "id": "805984b9",
   "metadata": {},
   "outputs": [],
   "source": [
    "operating_efficiency_total_revenue = get_df_items(income_statement,'Total Revenue' , start_col).iloc[:,:bl_is_col_diff]\n",
    "operating_efficiency_total_assets = get_df_items(balance_sheet,'Total Assets' , start_col_balance_sheet)\n",
    "operating_efficiency_ppe = get_df_items(balance_sheet,'Net Property, Plant and Equipment' , start_col_balance_sheet)\n",
    "operating_efficiency_equity = get_df_items(balance_sheet,'Equity Attributable to Parent Stockholders' , start_col_balance_sheet)\n",
    "for i , column in enumerate(balance_sheet.columns):\n",
    "    if i > 1 :\n",
    "        prevColumn = balance_sheet.columns[i-1]\n",
    "        ta_mean = operating_efficiency_total_assets.loc[:,prevColumn:column].mean(axis=1)\n",
    "        ppe_mean = operating_efficiency_ppe.loc[:,prevColumn:column].mean(axis=1)\n",
    "        equity_mean = operating_efficiency_equity.loc[:,prevColumn:column].mean(axis=1)\n",
    "        operating_efficiency_ratio.loc[0:0,column] = calculate_ratio(operating_efficiency_total_revenue.loc[:,column],ta_mean).values\n",
    "        operating_efficiency_ratio.loc[1:1,column] = calculate_ratio(operating_efficiency_total_revenue.loc[:,column],ppe_mean).values\n",
    "        operating_efficiency_ratio.loc[2:2,column] = calculate_ratio(operating_efficiency_total_revenue.loc[:,column],equity_mean).values\n",
    "operating_efficiency_ratio.dropna(how='all',axis=1,inplace=True)"
   ]
  },
  {
   "cell_type": "code",
   "execution_count": 4797,
   "id": "8367e2f1",
   "metadata": {},
   "outputs": [
    {
     "data": {
      "text/html": [
       "<div>\n",
       "<style scoped>\n",
       "    .dataframe tbody tr th:only-of-type {\n",
       "        vertical-align: middle;\n",
       "    }\n",
       "\n",
       "    .dataframe tbody tr th {\n",
       "        vertical-align: top;\n",
       "    }\n",
       "\n",
       "    .dataframe thead th {\n",
       "        text-align: right;\n",
       "    }\n",
       "</style>\n",
       "<table border=\"1\" class=\"dataframe\">\n",
       "  <thead>\n",
       "    <tr style=\"text-align: right;\">\n",
       "      <th></th>\n",
       "      <th>particulars</th>\n",
       "      <th>2014</th>\n",
       "      <th>2015</th>\n",
       "      <th>2016</th>\n",
       "      <th>2017</th>\n",
       "      <th>2018</th>\n",
       "      <th>2019</th>\n",
       "      <th>2020</th>\n",
       "      <th>2021</th>\n",
       "      <th>2022</th>\n",
       "    </tr>\n",
       "  </thead>\n",
       "  <tbody>\n",
       "    <tr>\n",
       "      <th>0</th>\n",
       "      <td>Total asset turnover</td>\n",
       "      <td>1.37</td>\n",
       "      <td>1.34</td>\n",
       "      <td>1.33</td>\n",
       "      <td>1.22</td>\n",
       "      <td>1.17</td>\n",
       "      <td>1.32</td>\n",
       "      <td>1.33</td>\n",
       "      <td>1.3</td>\n",
       "      <td>1.41</td>\n",
       "    </tr>\n",
       "    <tr>\n",
       "      <th>1</th>\n",
       "      <td>Net fixed asset turnover</td>\n",
       "      <td>9.04</td>\n",
       "      <td>8.47</td>\n",
       "      <td>8.9</td>\n",
       "      <td>9.88</td>\n",
       "      <td>10.66</td>\n",
       "      <td>12.81</td>\n",
       "      <td>10.06</td>\n",
       "      <td>8.32</td>\n",
       "      <td>9.8</td>\n",
       "    </tr>\n",
       "    <tr>\n",
       "      <th>2</th>\n",
       "      <td>Equity turnover</td>\n",
       "      <td>1.86</td>\n",
       "      <td>1.9</td>\n",
       "      <td>1.87</td>\n",
       "      <td>1.56</td>\n",
       "      <td>1.44</td>\n",
       "      <td>1.68</td>\n",
       "      <td>1.81</td>\n",
       "      <td>1.93</td>\n",
       "      <td>2.18</td>\n",
       "    </tr>\n",
       "  </tbody>\n",
       "</table>\n",
       "</div>"
      ],
      "text/plain": [
       "                particulars  2014  2015  2016  2017   2018   2019   2020  \\\n",
       "0      Total asset turnover  1.37  1.34  1.33  1.22   1.17   1.32   1.33   \n",
       "1  Net fixed asset turnover  9.04  8.47   8.9  9.88  10.66  12.81  10.06   \n",
       "2           Equity turnover  1.86   1.9  1.87  1.56   1.44   1.68   1.81   \n",
       "\n",
       "   2021  2022  \n",
       "0   1.3  1.41  \n",
       "1  8.32   9.8  \n",
       "2  1.93  2.18  "
      ]
     },
     "execution_count": 4797,
     "metadata": {},
     "output_type": "execute_result"
    }
   ],
   "source": [
    "operating_efficiency_ratio"
   ]
  },
  {
   "cell_type": "code",
   "execution_count": 4798,
   "id": "cf6b7bbb",
   "metadata": {},
   "outputs": [],
   "source": [
    "operating_profitability_ratio_income = pd.DataFrame(columns=income_statement.columns)"
   ]
  },
  {
   "cell_type": "code",
   "execution_count": 4799,
   "id": "2d6232f4",
   "metadata": {},
   "outputs": [],
   "source": [
    "operating_profitability_ratio_income[particulars] = ['Gross profit margin' , 'Operating profit margin', 'Net profit margin' , 'Return on total assets','Return on total equity','Return on owners equity']"
   ]
  },
  {
   "cell_type": "code",
   "execution_count": 4800,
   "id": "9d3fcca2",
   "metadata": {},
   "outputs": [],
   "source": [
    "operating_profitability_gross_profit = get_df_items(income_statement,'Gross Profit' , start_col).apply(abs)\n",
    "operating_profitability_revenue = get_df_items(income_statement,'Total Revenue' , start_col).apply(abs)\n",
    "operating_income_expense = get_df_items(income_statement,'Operating Income/Expenses' , start_col).apply(abs)\n",
    "other_operating_income_expense = get_df_items(income_statement,'Other Income/Expense, Operating' , start_col).apply(abs)\n",
    "EBIT = operating_profitability_gross_profit - (operating_income_expense - other_operating_income_expense)\n",
    "net_income = get_df_items(income_statement,'Net Income before Extraordinary Items and Discontinued Operations' , start_col)\n",
    "net_income_owners = get_df_items(income_statement,'Net Income after Non-Controlling/Minority Interests' , start_col)\n",
    "operating_profitability_total_assets = get_df_items(balance_sheet,'Total Assets' , start_col_balance_sheet)\n",
    "total_equity = get_df_items(balance_sheet,'Total Equity' , start_col_balance_sheet)\n",
    "total_owners_equity = get_df_items(balance_sheet,'Equity Attributable to Parent Stockholders' , start_col_balance_sheet)"
   ]
  },
  {
   "cell_type": "code",
   "execution_count": 4801,
   "id": "3bb04766",
   "metadata": {},
   "outputs": [],
   "source": [
    "operating_profitability_ratio_income.loc[0:0,start_col:] = vertical_analysis(operating_profitability_gross_profit,operating_profitability_revenue).apply(lambda x:round(x,2)).values"
   ]
  },
  {
   "cell_type": "code",
   "execution_count": 4802,
   "id": "bb9894ef",
   "metadata": {},
   "outputs": [],
   "source": [
    "operating_profitability_ratio_income.loc[1:1,start_col:] = vertical_analysis(EBIT,operating_profitability_revenue).apply(lambda x:round(x,2)).values"
   ]
  },
  {
   "cell_type": "code",
   "execution_count": 4803,
   "id": "9313d889",
   "metadata": {},
   "outputs": [],
   "source": [
    "operating_profitability_ratio_income.loc[2:2,start_col:] = vertical_analysis(net_income,operating_profitability_revenue).apply(lambda x:round(x,2)).values"
   ]
  },
  {
   "cell_type": "code",
   "execution_count": 4804,
   "id": "afee95ab",
   "metadata": {},
   "outputs": [],
   "source": [
    "operating_profitability_balance_columns = balance_sheet.loc[:,start_col:].columns"
   ]
  },
  {
   "cell_type": "code",
   "execution_count": 4805,
   "id": "1e96650b",
   "metadata": {},
   "outputs": [],
   "source": [
    "\n",
    "for i , column in enumerate(operating_profitability_balance_columns) :\n",
    "    if i > 0 :\n",
    "        prevColumn = operating_profitability_balance_columns[i-1]\n",
    "        assets_mean = operating_profitability_total_assets.loc[:,prevColumn:column].mean(axis=1)\n",
    "        equity_mean = total_equity.loc[:,prevColumn:column].mean(axis=1)\n",
    "        owners_equity_mean = total_owners_equity.loc[:,prevColumn:column].mean(axis=1)\n",
    "        operating_profitability_ratio_income.loc[3:3,column] = vertical_analysis(EBIT.loc[:,column],assets_mean).apply(lambda x:round(x,2)).values\n",
    "        operating_profitability_ratio_income.loc[4:4,column] = vertical_analysis(net_income.loc[:,column],equity_mean).apply(lambda x:round(x,2)).values\n",
    "        operating_profitability_ratio_income.loc[5:5,column] = vertical_analysis(net_income_owners.loc[:,column],owners_equity_mean).apply(lambda x:round(x,2)).values\n",
    "        \n",
    "        \n",
    "        "
   ]
  },
  {
   "cell_type": "code",
   "execution_count": 4806,
   "id": "644d63db",
   "metadata": {},
   "outputs": [],
   "source": [
    "operating_profitability_ratio_income.fillna('-' , inplace=True)"
   ]
  },
  {
   "cell_type": "code",
   "execution_count": 4807,
   "id": "60a9d913",
   "metadata": {
    "scrolled": true
   },
   "outputs": [
    {
     "data": {
      "text/html": [
       "<div>\n",
       "<style scoped>\n",
       "    .dataframe tbody tr th:only-of-type {\n",
       "        vertical-align: middle;\n",
       "    }\n",
       "\n",
       "    .dataframe tbody tr th {\n",
       "        vertical-align: top;\n",
       "    }\n",
       "\n",
       "    .dataframe thead th {\n",
       "        text-align: right;\n",
       "    }\n",
       "</style>\n",
       "<table border=\"1\" class=\"dataframe\">\n",
       "  <thead>\n",
       "    <tr style=\"text-align: right;\">\n",
       "      <th></th>\n",
       "      <th>particulars</th>\n",
       "      <th>2013</th>\n",
       "      <th>2014</th>\n",
       "      <th>2015</th>\n",
       "      <th>2016</th>\n",
       "      <th>2017</th>\n",
       "      <th>2018</th>\n",
       "      <th>2019</th>\n",
       "      <th>2020</th>\n",
       "      <th>2021</th>\n",
       "      <th>2022</th>\n",
       "      <th>TTM</th>\n",
       "    </tr>\n",
       "  </thead>\n",
       "  <tbody>\n",
       "    <tr>\n",
       "      <th>0</th>\n",
       "      <td>Gross profit margin</td>\n",
       "      <td>0.58</td>\n",
       "      <td>0.60</td>\n",
       "      <td>0.55</td>\n",
       "      <td>0.57</td>\n",
       "      <td>0.45</td>\n",
       "      <td>0.44</td>\n",
       "      <td>0.45</td>\n",
       "      <td>0.44</td>\n",
       "      <td>0.47</td>\n",
       "      <td>0.48</td>\n",
       "      <td>0.47</td>\n",
       "    </tr>\n",
       "    <tr>\n",
       "      <th>1</th>\n",
       "      <td>Operating profit margin</td>\n",
       "      <td>0.36</td>\n",
       "      <td>0.38</td>\n",
       "      <td>0.33</td>\n",
       "      <td>0.37</td>\n",
       "      <td>0.35</td>\n",
       "      <td>0.34</td>\n",
       "      <td>0.35</td>\n",
       "      <td>0.32</td>\n",
       "      <td>0.32</td>\n",
       "      <td>0.31</td>\n",
       "      <td>0.38</td>\n",
       "    </tr>\n",
       "    <tr>\n",
       "      <th>2</th>\n",
       "      <td>Net profit margin</td>\n",
       "      <td>0.22</td>\n",
       "      <td>0.24</td>\n",
       "      <td>0.21</td>\n",
       "      <td>0.22</td>\n",
       "      <td>0.22</td>\n",
       "      <td>0.21</td>\n",
       "      <td>0.22</td>\n",
       "      <td>0.21</td>\n",
       "      <td>0.20</td>\n",
       "      <td>0.20</td>\n",
       "      <td>0.19</td>\n",
       "    </tr>\n",
       "    <tr>\n",
       "      <th>3</th>\n",
       "      <td>Return on total assets</td>\n",
       "      <td>-</td>\n",
       "      <td>0.52</td>\n",
       "      <td>0.45</td>\n",
       "      <td>0.49</td>\n",
       "      <td>0.43</td>\n",
       "      <td>0.40</td>\n",
       "      <td>0.46</td>\n",
       "      <td>0.43</td>\n",
       "      <td>0.41</td>\n",
       "      <td>0.43</td>\n",
       "      <td>-</td>\n",
       "    </tr>\n",
       "    <tr>\n",
       "      <th>4</th>\n",
       "      <td>Return on total equity</td>\n",
       "      <td>-</td>\n",
       "      <td>0.43</td>\n",
       "      <td>0.39</td>\n",
       "      <td>0.41</td>\n",
       "      <td>0.35</td>\n",
       "      <td>0.30</td>\n",
       "      <td>0.36</td>\n",
       "      <td>0.37</td>\n",
       "      <td>0.38</td>\n",
       "      <td>0.43</td>\n",
       "      <td>-</td>\n",
       "    </tr>\n",
       "    <tr>\n",
       "      <th>5</th>\n",
       "      <td>Return on owners equity</td>\n",
       "      <td>-</td>\n",
       "      <td>0.44</td>\n",
       "      <td>0.40</td>\n",
       "      <td>0.42</td>\n",
       "      <td>0.35</td>\n",
       "      <td>0.30</td>\n",
       "      <td>0.36</td>\n",
       "      <td>0.37</td>\n",
       "      <td>0.38</td>\n",
       "      <td>0.44</td>\n",
       "      <td>-</td>\n",
       "    </tr>\n",
       "  </tbody>\n",
       "</table>\n",
       "</div>"
      ],
      "text/plain": [
       "               particulars  2013  2014  2015  2016  2017  2018  2019  2020  \\\n",
       "0      Gross profit margin  0.58  0.60  0.55  0.57  0.45  0.44  0.45  0.44   \n",
       "1  Operating profit margin  0.36  0.38  0.33  0.37  0.35  0.34  0.35  0.32   \n",
       "2        Net profit margin  0.22  0.24  0.21  0.22  0.22  0.21  0.22  0.21   \n",
       "3   Return on total assets     -  0.52  0.45  0.49  0.43  0.40  0.46  0.43   \n",
       "4   Return on total equity     -  0.43  0.39  0.41  0.35  0.30  0.36  0.37   \n",
       "5  Return on owners equity     -  0.44  0.40  0.42  0.35  0.30  0.36  0.37   \n",
       "\n",
       "   2021  2022   TTM  \n",
       "0  0.47  0.48  0.47  \n",
       "1  0.32  0.31  0.38  \n",
       "2  0.20  0.20  0.19  \n",
       "3  0.41  0.43     -  \n",
       "4  0.38  0.43     -  \n",
       "5  0.38  0.44     -  "
      ]
     },
     "execution_count": 4807,
     "metadata": {},
     "output_type": "execute_result"
    }
   ],
   "source": [
    "operating_profitability_ratio_income"
   ]
  },
  {
   "cell_type": "code",
   "execution_count": 4808,
   "id": "57dde6d0",
   "metadata": {},
   "outputs": [
    {
     "data": {
      "text/html": [
       "<div>\n",
       "<style scoped>\n",
       "    .dataframe tbody tr th:only-of-type {\n",
       "        vertical-align: middle;\n",
       "    }\n",
       "\n",
       "    .dataframe tbody tr th {\n",
       "        vertical-align: top;\n",
       "    }\n",
       "\n",
       "    .dataframe thead th {\n",
       "        text-align: right;\n",
       "    }\n",
       "</style>\n",
       "<table border=\"1\" class=\"dataframe\">\n",
       "  <thead>\n",
       "    <tr style=\"text-align: right;\">\n",
       "      <th></th>\n",
       "      <th>2013</th>\n",
       "      <th>2014</th>\n",
       "      <th>2015</th>\n",
       "      <th>2016</th>\n",
       "      <th>2017</th>\n",
       "      <th>2018</th>\n",
       "      <th>2019</th>\n",
       "      <th>2020</th>\n",
       "      <th>2021</th>\n",
       "      <th>2022</th>\n",
       "      <th>TTM</th>\n",
       "    </tr>\n",
       "  </thead>\n",
       "  <tbody>\n",
       "    <tr>\n",
       "      <th>0</th>\n",
       "      <td>0.369054</td>\n",
       "      <td>0.373271</td>\n",
       "      <td>0.399321</td>\n",
       "      <td>0.376001</td>\n",
       "      <td>0.223608</td>\n",
       "      <td>0.219199</td>\n",
       "      <td>0.247923</td>\n",
       "      <td>0.252376</td>\n",
       "      <td>0.264762</td>\n",
       "      <td>0.303143</td>\n",
       "      <td>NaN</td>\n",
       "    </tr>\n",
       "  </tbody>\n",
       "</table>\n",
       "</div>"
      ],
      "text/plain": [
       "       2013      2014      2015      2016      2017      2018      2019  \\\n",
       "0  0.369054  0.373271  0.399321  0.376001  0.223608  0.219199  0.247923   \n",
       "\n",
       "       2020      2021      2022  TTM  \n",
       "0  0.252376  0.264762  0.303143  NaN  "
      ]
     },
     "execution_count": 4808,
     "metadata": {},
     "output_type": "execute_result"
    }
   ],
   "source": [
    "operating_income_expense / operating_profitability_total_assets"
   ]
  },
  {
   "cell_type": "code",
   "execution_count": null,
   "id": "c90cfdbc",
   "metadata": {},
   "outputs": [],
   "source": []
  }
 ],
 "metadata": {
  "kernelspec": {
   "display_name": "Python 3 (ipykernel)",
   "language": "python",
   "name": "python3"
  },
  "language_info": {
   "codemirror_mode": {
    "name": "ipython",
    "version": 3
   },
   "file_extension": ".py",
   "mimetype": "text/x-python",
   "name": "python",
   "nbconvert_exporter": "python",
   "pygments_lexer": "ipython3",
   "version": "3.9.13"
  },
  "vscode": {
   "interpreter": {
    "hash": "ad2bdc8ecc057115af97d19610ffacc2b4e99fae6737bb82f5d7fb13d2f2c186"
   }
  }
 },
 "nbformat": 4,
 "nbformat_minor": 5
}
