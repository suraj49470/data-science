{
 "cells": [
  {
   "cell_type": "code",
   "execution_count": 1155,
   "id": "186d7fb1",
   "metadata": {},
   "outputs": [],
   "source": [
    "import pandas as pd\n",
    "import numpy as np\n",
    "import re\n",
    "pd.set_option('display.max_rows' , 200)"
   ]
  },
  {
   "cell_type": "code",
   "execution_count": 1156,
   "id": "47260cae",
   "metadata": {},
   "outputs": [],
   "source": [
    "company_name = 'mastek'.upper()"
   ]
  },
  {
   "cell_type": "code",
   "execution_count": 1157,
   "id": "fe84be6d",
   "metadata": {},
   "outputs": [],
   "source": [
    "particulars = 'particulars'"
   ]
  },
  {
   "cell_type": "code",
   "execution_count": 1158,
   "id": "21297856",
   "metadata": {},
   "outputs": [],
   "source": [
    "share_price_in = 1000000;"
   ]
  },
  {
   "cell_type": "code",
   "execution_count": 1159,
   "id": "46326399",
   "metadata": {},
   "outputs": [],
   "source": [
    "def calculate_growth(current , previous) :\n",
    "    if current == 0 and previous == 0 or current == 0 and previous != 0:\n",
    "        return 0\n",
    "    if current != 0 and previous == 0 :\n",
    "        return current / 100\n",
    "    return ((current/previous) - 1)\n",
    "       "
   ]
  },
  {
   "cell_type": "code",
   "execution_count": 1160,
   "id": "36c18471",
   "metadata": {},
   "outputs": [],
   "source": [
    "def calculate_growth_series(curr_df,prev_df):\n",
    "    temp_df = curr_df.copy()\n",
    "    for index in curr_df.index :\n",
    "        temp_df.loc[index] = calculate_growth(curr_df.loc[index],prev_df[index])\n",
    "    return temp_df\n",
    "    "
   ]
  },
  {
   "cell_type": "code",
   "execution_count": 1161,
   "id": "f7d5faad",
   "metadata": {},
   "outputs": [],
   "source": [
    "def get_share_price_in(price) :\n",
    "    return round((price / share_price_in),2)\n",
    "\n",
    "    "
   ]
  },
  {
   "cell_type": "code",
   "execution_count": 1162,
   "id": "000b0137",
   "metadata": {},
   "outputs": [],
   "source": [
    "def vertical_analysis(item , divider) :\n",
    "    return item/divider\n",
    "    "
   ]
  },
  {
   "cell_type": "code",
   "execution_count": 1163,
   "id": "2848a1d2",
   "metadata": {},
   "outputs": [],
   "source": [
    "def round_off_to(num , limit) :\n",
    "    return round(num,limit)"
   ]
  },
  {
   "cell_type": "code",
   "execution_count": 1164,
   "id": "406a1d4b",
   "metadata": {},
   "outputs": [],
   "source": [
    "def count_leading_space(s): \n",
    "    match = re.search(r\"^\\s*\", s) \n",
    "    return 0 if not match else match.end()\n"
   ]
  },
  {
   "cell_type": "code",
   "execution_count": 1165,
   "id": "f4b0a9f0",
   "metadata": {},
   "outputs": [],
   "source": [
    "def getColumnFormatterbyPercentage(type) :\n",
    "    columns_perc_formats = {}\n",
    "    if type == 'income_statement' :\n",
    "        for column in income_statement.columns[1:] :\n",
    "            columns_perc_formats[column] = '{:,.2%}'\n",
    "    elif type == 'balance_sheet' :\n",
    "        for column in balance_sheet.columns[1:] :\n",
    "            columns_perc_formats[column] = '{:,.2%}'\n",
    "    elif type == 'cashflow_statement' :\n",
    "        for column in cashflow_statement.columns[1:] :\n",
    "            columns_perc_formats[column] = '{:,.2%}'\n",
    "    return columns_perc_formats"
   ]
  },
  {
   "cell_type": "code",
   "execution_count": 1166,
   "id": "de8bd28c",
   "metadata": {},
   "outputs": [],
   "source": [
    "def calculate_ratio(dividend , divisor) : \n",
    "    return dividend.div(divisor.values).apply(lambda x: round(x,2))"
   ]
  },
  {
   "cell_type": "code",
   "execution_count": 1167,
   "id": "808468ea",
   "metadata": {},
   "outputs": [],
   "source": [
    "def styles(color = 'white',backcolor = '#308D46'):\n",
    "    return [dict(selector=\"caption\",\n",
    "                       props=[(\"text-align\", \"center\"),\n",
    "                              (\"font-size\", \"150%\"),\n",
    "                              (\"color\", color),\n",
    "                              (\"background\", backcolor),\n",
    "                              (\"font-weight\", '600'),\n",
    "                              (\"text-transform\", 'uppercase')\n",
    "                             ])]"
   ]
  },
  {
   "cell_type": "code",
   "execution_count": 1168,
   "id": "9123407c",
   "metadata": {},
   "outputs": [],
   "source": [
    "income_statement = pd.read_excel('data/'+company_name+'/'+company_name+'-income.xls')\n",
    "balance_sheet = pd.read_excel('data/'+company_name+'/'+company_name+'-balance.xls')\n",
    "cashflow_statement = pd.read_excel('data/'+company_name+'/'+company_name+'-cashflow.xls')"
   ]
  },
  {
   "cell_type": "code",
   "execution_count": 1169,
   "id": "43d88d21",
   "metadata": {},
   "outputs": [],
   "source": [
    "start_col = income_statement.columns[1];\n",
    "start_col_balance_sheet = balance_sheet.columns[1];\n",
    "start_col_cashflow = cashflow_statement.columns[1];"
   ]
  },
  {
   "cell_type": "code",
   "execution_count": 1170,
   "id": "65ac310f",
   "metadata": {},
   "outputs": [],
   "source": [
    "income_statement_temp_columns = income_statement.columns.values\n",
    "income_statement_temp_columns[0] = particulars\n",
    "income_statement.columns = income_statement_temp_columns\n",
    "\n",
    "balance_sheet_temp_columns = balance_sheet.columns.values\n",
    "balance_sheet_temp_columns[0] = particulars\n",
    "balance_sheet.columns = balance_sheet_temp_columns\n",
    "\n",
    "cashflow_statement_temp_columns = cashflow_statement.columns.values\n",
    "cashflow_statement_temp_columns[0] = particulars\n",
    "cashflow_statement.columns = cashflow_statement_temp_columns"
   ]
  },
  {
   "cell_type": "code",
   "execution_count": 1171,
   "id": "3d6b4392",
   "metadata": {},
   "outputs": [],
   "source": [
    "basic_eps_filter = income_statement[particulars].eq('Basic EPS')\n",
    "basic_eps_pos = income_statement[basic_eps_filter].index[0]"
   ]
  },
  {
   "cell_type": "code",
   "execution_count": 1172,
   "id": "479ee92d",
   "metadata": {},
   "outputs": [],
   "source": [
    "WASO_filter = income_statement[particulars].isin(['Basic Weighted Average Shares Outstanding','Diluted Weighted Average Shares Outstanding','Basic WASO','Diluted WASO'])\n",
    "waso_pos = income_statement[WASO_filter].index"
   ]
  },
  {
   "cell_type": "code",
   "execution_count": 1173,
   "id": "a016340d",
   "metadata": {},
   "outputs": [],
   "source": [
    "income_statement.dropna(how='all',subset=income_statement.columns[1:], inplace=True)\n",
    "balance_sheet.dropna(how='all',subset=balance_sheet.columns[1:], inplace=True)\n",
    "cashflow_statement.dropna(how='all',subset=cashflow_statement.columns[1:], inplace=True)\n",
    "income_statement.fillna(0 , inplace=True)\n",
    "balance_sheet.fillna(0 , inplace=True)\n",
    "cashflow_statement.fillna(0 , inplace=True)"
   ]
  },
  {
   "cell_type": "code",
   "execution_count": 1174,
   "id": "0ab58a39",
   "metadata": {},
   "outputs": [],
   "source": [
    "temp_df = income_statement.loc[0:basic_eps_pos,start_col:].copy()\n",
    "temp_df = pd.DataFrame(temp_df)\n"
   ]
  },
  {
   "cell_type": "code",
   "execution_count": 1175,
   "id": "9652df33",
   "metadata": {},
   "outputs": [],
   "source": [
    "temp_df = temp_df.apply(get_share_price_in)"
   ]
  },
  {
   "cell_type": "code",
   "execution_count": 1176,
   "id": "f3959d9b",
   "metadata": {},
   "outputs": [],
   "source": [
    "income_statement.loc[0:basic_eps_pos,start_col:] = temp_df"
   ]
  },
  {
   "cell_type": "code",
   "execution_count": 1177,
   "id": "ca4cadd5",
   "metadata": {},
   "outputs": [],
   "source": [
    "income_statement.loc[waso_pos,start_col:] = income_statement.loc[waso_pos,start_col:].apply(get_share_price_in)"
   ]
  },
  {
   "cell_type": "code",
   "execution_count": 1178,
   "id": "3e0e0fc7",
   "metadata": {},
   "outputs": [],
   "source": [
    "temp_revenue = income_statement.loc[1]\n",
    "income_statement.loc[1] = income_statement.loc[0]\n",
    "income_statement.loc[0] = temp_revenue"
   ]
  },
  {
   "cell_type": "code",
   "execution_count": 1179,
   "id": "69650598",
   "metadata": {},
   "outputs": [],
   "source": [
    "total_rev = income_statement[particulars].index == 0\n",
    "income_statement.loc[total_rev,particulars] = income_statement.loc[total_rev,particulars].values[0].strip() "
   ]
  },
  {
   "cell_type": "code",
   "execution_count": 1180,
   "id": "63bb5398",
   "metadata": {},
   "outputs": [],
   "source": [
    "is_highlighted_indexes = pd.DataFrame(income_statement.loc[0:basic_eps_pos - 1,particulars])\n",
    "is_highlighted_indexes = is_highlighted_indexes[particulars].apply(count_leading_space).isin([0,4])\n",
    "is_highlighted_indexes = is_highlighted_indexes.loc[is_highlighted_indexes].index"
   ]
  },
  {
   "cell_type": "code",
   "execution_count": 1181,
   "id": "5edf32df",
   "metadata": {},
   "outputs": [],
   "source": [
    "balance_sheet.loc[0:,start_col_balance_sheet:] =  balance_sheet.loc[0:,start_col_balance_sheet:].applymap(get_share_price_in)"
   ]
  },
  {
   "cell_type": "code",
   "execution_count": 1182,
   "id": "6d8eead5",
   "metadata": {},
   "outputs": [],
   "source": [
    "total_equity_filter = balance_sheet[particulars].apply(lambda x: x.strip()).eq('Total Equity')\n",
    "total_equity_row = balance_sheet.loc[total_equity_filter,start_col_balance_sheet:].index.values[0]\n",
    "total_assets_filter = balance_sheet[particulars].apply(lambda x: x.strip()).eq('Total Assets')\n",
    "total_assets_row = balance_sheet.loc[total_assets_filter,start_col_balance_sheet:]\n",
    "total_liabilities_filter = balance_sheet[particulars].apply(lambda x: x.strip()).eq('Total Liabilities')\n",
    "total_liabilities_row = balance_sheet.loc[total_liabilities_filter,start_col_balance_sheet:].index.values[0]\n",
    "balance_sheet.loc[total_liabilities_filter,start_col_balance_sheet:] = balance_sheet.loc[[total_equity_row,total_liabilities_row],start_col_balance_sheet:].sum().values"
   ]
  },
  {
   "cell_type": "code",
   "execution_count": 1183,
   "id": "6ce5e99c",
   "metadata": {},
   "outputs": [],
   "source": [
    "cashflow_statement.loc[0:,start_col_cashflow:] =  cashflow_statement.loc[0:,start_col_cashflow:].applymap(get_share_price_in)"
   ]
  },
  {
   "cell_type": "code",
   "execution_count": 1184,
   "id": "051d0132",
   "metadata": {
    "scrolled": false
   },
   "outputs": [],
   "source": [
    "vertical_analysis_is = pd.DataFrame(columns=income_statement.columns) \n",
    "vertical_analysis_is[particulars] = income_statement.loc[0:basic_eps_pos - 1,particulars].copy()"
   ]
  },
  {
   "cell_type": "code",
   "execution_count": 1185,
   "id": "ee2c188c",
   "metadata": {},
   "outputs": [],
   "source": [
    "total_revenue_filter = income_statement[particulars].apply(lambda x: x.strip()).eq('Total Revenue')\n",
    "total_revenue = income_statement.loc[total_revenue_filter,start_col:]"
   ]
  },
  {
   "cell_type": "code",
   "execution_count": 1186,
   "id": "ca1436f8",
   "metadata": {},
   "outputs": [],
   "source": [
    "for column in vertical_analysis_is.columns[1:] : \n",
    "    vertical_analysis_is[column] = income_statement.loc[0:basic_eps_pos - 1,column].apply(vertical_analysis,divider=total_revenue[column])\n",
    "vertical_analysis_is.loc[0,particulars] = vertical_analysis_is.loc[0,particulars].strip() "
   ]
  },
  {
   "cell_type": "code",
   "execution_count": 1187,
   "id": "ddd35b4d",
   "metadata": {},
   "outputs": [],
   "source": [
    "def row_style(row , list , key , color,bgcolor):\n",
    "   if row[key] in list :\n",
    "       return pd.Series('color:'+color+';background-color:'+bgcolor, row.index)\n",
    "   else :\n",
    "        return pd.Series('', row.index)"
   ]
  },
  {
   "cell_type": "code",
   "execution_count": 1188,
   "id": "e286cf57",
   "metadata": {
    "scrolled": false
   },
   "outputs": [],
   "source": [
    "fil = vertical_analysis_is.loc[0:basic_eps_pos - 1,particulars].apply(count_leading_space).eq(0)\n",
    "templist = vertical_analysis_is.loc[fil,particulars].values\n",
    "vertical_analysis_is_style = vertical_analysis_is\n",
    "vertical_analysis_is_style = vertical_analysis_is_style.loc[is_highlighted_indexes].style.apply(row_style,list=templist,color=\"black\",bgcolor=\"#f1e05a\",key=particulars,axis=1).set_caption(company_name+ \" income statement vertical analysis\").set_table_styles(styles('black',\"rgba(66, 165, 245, 0.2)\")).format(getColumnFormatterbyPercentage('income_statement'),precision=2) \n",
    "fil = None\n",
    "templist = None"
   ]
  },
  {
   "cell_type": "code",
   "execution_count": 1189,
   "id": "6b4a62cd",
   "metadata": {},
   "outputs": [],
   "source": [
    "balance_sheet_va_results_till = balance_sheet[particulars].apply(lambda x: x.strip()).eq('Non-Controlling/Minority Interests in Equity')\n",
    "balance_sheet_va_results_till = balance_sheet[balance_sheet_va_results_till].index.values[0]\n",
    "bs_va_temp = balance_sheet.loc[:balance_sheet_va_results_till]\n",
    "bs_va_temp = pd.DataFrame(bs_va_temp)\n",
    "filt = bs_va_temp[particulars].apply(count_leading_space).isin([0,4,8])\n",
    "balance_sheet_va = pd.DataFrame(bs_va_temp[filt])\n",
    "bs_va_temp = None\n",
    "balance_sheet_va_results_till = None\n",
    "filt = None"
   ]
  },
  {
   "cell_type": "code",
   "execution_count": 1190,
   "id": "4ae20ac5",
   "metadata": {},
   "outputs": [],
   "source": [
    "for column in balance_sheet_va.columns[1:] :\n",
    "    balance_sheet_va[column] = balance_sheet_va.loc[:,column].apply(vertical_analysis,divider=total_assets_row[column])"
   ]
  },
  {
   "cell_type": "code",
   "execution_count": 1191,
   "id": "ec906acb",
   "metadata": {},
   "outputs": [],
   "source": [
    "bs_fil = balance_sheet_va[particulars].apply(count_leading_space).isin([0,4])\n",
    "bs_templist = balance_sheet_va.loc[bs_fil,particulars].values\n",
    "balance_sheet_va_style = balance_sheet_va\n",
    "balance_sheet_va_style = balance_sheet_va_style.style.apply(row_style,list=bs_templist,color=\"black\",bgcolor=\"#f1e05a\",key=particulars,axis=1).set_caption(company_name+ \" balance sheet vertical analysis\").set_table_styles(styles('black',\"rgba(66, 165, 245, 0.2)\")).format(getColumnFormatterbyPercentage('balance_sheet'),precision=2) \n",
    "bs_fil = None\n",
    "bs_templist = None"
   ]
  },
  {
   "cell_type": "code",
   "execution_count": 1192,
   "id": "4e63bc76",
   "metadata": {},
   "outputs": [],
   "source": [
    "#vertical_analysis_is_style"
   ]
  },
  {
   "cell_type": "code",
   "execution_count": 1193,
   "id": "0d265b53",
   "metadata": {},
   "outputs": [],
   "source": [
    "#balance_sheet_va_style"
   ]
  },
  {
   "cell_type": "code",
   "execution_count": 1194,
   "id": "a096905e",
   "metadata": {},
   "outputs": [],
   "source": [
    "income_statement_ha = pd.DataFrame(columns= income_statement.columns)"
   ]
  },
  {
   "cell_type": "code",
   "execution_count": 1195,
   "id": "01e02766",
   "metadata": {},
   "outputs": [],
   "source": [
    "income_statement_ha[particulars] = income_statement[particulars]"
   ]
  },
  {
   "cell_type": "code",
   "execution_count": 1196,
   "id": "a081adae",
   "metadata": {},
   "outputs": [],
   "source": [
    "income_statement_ha.fillna(0 , inplace=True)"
   ]
  },
  {
   "cell_type": "code",
   "execution_count": 1197,
   "id": "597dd9b8",
   "metadata": {},
   "outputs": [],
   "source": [
    "temp_ha_filt = income_statement[particulars].apply(count_leading_space).isin([0,4])\n",
    "for index , column in enumerate(income_statement_ha.columns) :\n",
    "    if index < 2 :\n",
    "        pass;\n",
    "    else:\n",
    "        prevColumn = income_statement.columns[index-1]\n",
    "        income_statement_ha.loc[temp_ha_filt,column] = calculate_growth_series(income_statement.loc[temp_ha_filt,column],income_statement.loc[temp_ha_filt,prevColumn])\n",
    "        "
   ]
  },
  {
   "cell_type": "code",
   "execution_count": 1198,
   "id": "2d74b116",
   "metadata": {
    "scrolled": true
   },
   "outputs": [],
   "source": [
    "income_statement_ha = income_statement_ha[temp_ha_filt]"
   ]
  },
  {
   "cell_type": "code",
   "execution_count": 1199,
   "id": "4b9a2358",
   "metadata": {},
   "outputs": [],
   "source": [
    "#income_statement_ha.replace([float('inf'), float('-inf')], None, inplace=True)\n",
    "#income_statement_ha.fillna(0 , inplace=True)"
   ]
  },
  {
   "cell_type": "code",
   "execution_count": 1200,
   "id": "1bc18518",
   "metadata": {
    "scrolled": true
   },
   "outputs": [],
   "source": [
    "temp_ha_filt = income_statement[particulars].apply(count_leading_space).isin([0])\n",
    "iha_templist = income_statement_ha.loc[temp_ha_filt,particulars].values\n",
    "income_statement_ha_style = income_statement_ha\n",
    "income_statement_ha_style = income_statement_ha_style.style.apply(row_style,list=iha_templist,color=\"black\",bgcolor=\"#f1e05a\",key=particulars,axis=1).set_caption(company_name+ \" Income statement horizontal analysis\").set_table_styles(styles('black',\"rgba(66, 165, 245, 0.2)\")).format(getColumnFormatterbyPercentage('income_statement'),precision=2) "
   ]
  },
  {
   "cell_type": "code",
   "execution_count": 1201,
   "id": "2e1e7d22",
   "metadata": {},
   "outputs": [],
   "source": [
    "balance_sheet_ha_results_till = balance_sheet[particulars].apply(lambda x: x.strip()).eq('Non-Controlling/Minority Interests in Equity')\n",
    "balance_sheet_ha_results_till = balance_sheet[balance_sheet_ha_results_till].index.values[0]\n",
    "bs_ha_temp = balance_sheet.loc[:balance_sheet_ha_results_till]\n",
    "bs_ha_temp = pd.DataFrame(bs_ha_temp)\n",
    "filt = bs_ha_temp[particulars].apply(count_leading_space).isin([0,4,8])\n",
    "balance_sheet_ha = pd.DataFrame(bs_ha_temp[filt])"
   ]
  },
  {
   "cell_type": "code",
   "execution_count": 1202,
   "id": "d6502e37",
   "metadata": {},
   "outputs": [],
   "source": [
    "for index , column in enumerate(balance_sheet_ha.columns) :\n",
    "    if index < 2 :\n",
    "        pass;\n",
    "    else:\n",
    "        prevColumn = balance_sheet_ha.columns[index-1]\n",
    "        balance_sheet_ha.loc[:,column] = calculate_growth_series(balance_sheet.loc[:,column],balance_sheet.loc[:,prevColumn])\n",
    "balance_sheet_ha[start_col_balance_sheet] = 0.0\n",
    "prevColumn = None"
   ]
  },
  {
   "cell_type": "code",
   "execution_count": 1203,
   "id": "ec58e2a9",
   "metadata": {},
   "outputs": [],
   "source": [
    "bs_fil_ha = balance_sheet_ha[particulars].apply(count_leading_space).isin([0,4])\n",
    "bs_templist_ha = balance_sheet_ha.loc[bs_fil_ha,particulars].values\n",
    "balance_sheet_ha_style = balance_sheet_ha\n",
    "balance_sheet_ha_style = balance_sheet_ha_style.style.apply(row_style,list=bs_templist_ha,color=\"black\",bgcolor=\"#f1e05a\",key=particulars,axis=1).set_caption(company_name+ \" balance sheet horizontal analysis\").set_table_styles(styles('black',\"rgba(66, 165, 245, 0.2)\")).format(getColumnFormatterbyPercentage('balance_sheet'),precision=2) \n",
    "bs_fil_ha = None\n",
    "bs_templist_ha = None"
   ]
  },
  {
   "cell_type": "code",
   "execution_count": 1204,
   "id": "b38ee458",
   "metadata": {},
   "outputs": [],
   "source": [
    "cashflow_statement_filt = cashflow_statement[particulars].apply(count_leading_space).isin([0,8,12])\n",
    "cash_flow_stmt_ha = pd.DataFrame(cashflow_statement[cashflow_statement_filt])\n",
    "cash_flow_stmt_ha.reset_index(inplace=True, drop=True)\n",
    "cash_flow_stmt_ha_temp = cash_flow_stmt_ha.copy()"
   ]
  },
  {
   "cell_type": "code",
   "execution_count": 1205,
   "id": "80d5c8e4",
   "metadata": {},
   "outputs": [],
   "source": [
    "for index , column in enumerate(cash_flow_stmt_ha.columns) :\n",
    "    if index < 2 :\n",
    "        pass;\n",
    "    else:\n",
    "        prevColumn = cash_flow_stmt_ha.columns[index-1]\n",
    "        cash_flow_stmt_ha.loc[:,column] = calculate_growth_series(cash_flow_stmt_ha_temp.loc[:,column],cash_flow_stmt_ha_temp.loc[:,prevColumn])\n",
    "cash_flow_stmt_ha[start_col_cashflow] = 0.0\n",
    "cash_flow_stmt_ha_temp = None\n",
    "cashflow_statement_filt = None\n",
    "prevColumn = None"
   ]
  },
  {
   "cell_type": "code",
   "execution_count": 1206,
   "id": "398a1f4c",
   "metadata": {},
   "outputs": [],
   "source": [
    "cf_fil_ha = cash_flow_stmt_ha[particulars].apply(count_leading_space).isin([0])\n",
    "cf_templist_ha = cash_flow_stmt_ha.loc[cf_fil_ha,particulars].values\n",
    "cash_flow_stmt_ha_style = cash_flow_stmt_ha\n",
    "cash_flow_stmt_ha_style = cash_flow_stmt_ha_style.style.apply(row_style,list=cf_templist_ha,color=\"black\",bgcolor=\"#f1e05a\",key=particulars,axis=1).set_caption(company_name+ \" cash flow horizontal analysis\").set_table_styles(styles('black',\"rgba(66, 165, 245, 0.2)\")).format(getColumnFormatterbyPercentage('cashflow_statement'),precision=2) \n",
    "cf_fil_ha = None\n",
    "cf_templist_ha = None"
   ]
  },
  {
   "cell_type": "code",
   "execution_count": 1207,
   "id": "ef82271c",
   "metadata": {},
   "outputs": [],
   "source": [
    "#income_statement_ha_style"
   ]
  },
  {
   "cell_type": "code",
   "execution_count": 1208,
   "id": "374f2e4f",
   "metadata": {},
   "outputs": [],
   "source": [
    "#balance_sheet_ha_style"
   ]
  },
  {
   "cell_type": "code",
   "execution_count": 1209,
   "id": "4adc6a6e",
   "metadata": {
    "scrolled": true
   },
   "outputs": [],
   "source": [
    "#cash_flow_stmt_ha_style"
   ]
  },
  {
   "cell_type": "code",
   "execution_count": 1210,
   "id": "5ac61bbf",
   "metadata": {},
   "outputs": [],
   "source": [
    "is_trend_base = income_statement[start_col]"
   ]
  },
  {
   "cell_type": "code",
   "execution_count": 1211,
   "id": "63a2d0f9",
   "metadata": {},
   "outputs": [],
   "source": [
    "income_statement_trend = pd.DataFrame(columns=income_statement.columns)\n",
    "income_statement_trend[particulars] = income_statement[particulars]\n",
    "income_statement_trend[start_col] = 0\n",
    "income_statement_trend.fillna(0,inplace=True)"
   ]
  },
  {
   "cell_type": "code",
   "execution_count": 1212,
   "id": "48b1a6e1",
   "metadata": {},
   "outputs": [],
   "source": [
    "for index , column in enumerate(income_statement_trend.columns) :\n",
    "    if index < 2 :\n",
    "        pass;\n",
    "    else:\n",
    "        income_statement_trend.loc[:,column] = calculate_growth_series(income_statement.loc[:,column],is_trend_base)\n",
    "is_trend_base = None      "
   ]
  },
  {
   "cell_type": "code",
   "execution_count": 1213,
   "id": "d2ad2220",
   "metadata": {},
   "outputs": [],
   "source": [
    "temp_ta_filt = income_statement_trend[particulars].apply(count_leading_space).isin([0])\n",
    "ita_templist = income_statement_trend.loc[temp_ta_filt,particulars].values\n",
    "income_statement_trend_style = income_statement_trend\n",
    "income_statement_trend_style = income_statement_trend_style.style.apply(row_style,list=ita_templist,color=\"black\",bgcolor=\"#f1e05a\",key=particulars,axis=1).set_caption(company_name+ \" Income statement trend analysis\").set_table_styles(styles('black',\"rgba(66, 165, 245, 0.2)\")).format(getColumnFormatterbyPercentage('income_statement'),precision=2) "
   ]
  },
  {
   "cell_type": "code",
   "execution_count": 1214,
   "id": "3b450d02",
   "metadata": {},
   "outputs": [],
   "source": [
    "temp_balance = balance_sheet.loc[:balance_sheet_ha_results_till]"
   ]
  },
  {
   "cell_type": "code",
   "execution_count": 1215,
   "id": "050df6d8",
   "metadata": {},
   "outputs": [],
   "source": [
    "bs_trend_base = temp_balance[start_col_balance_sheet]\n",
    "balance_sheet_trend = pd.DataFrame(columns=temp_balance.columns)\n",
    "balance_sheet_trend[particulars] = temp_balance[particulars]\n",
    "balance_sheet_trend[start_col] = 0\n",
    "balance_sheet_trend.fillna(0,inplace=True)"
   ]
  },
  {
   "cell_type": "code",
   "execution_count": 1216,
   "id": "0890c9a6",
   "metadata": {},
   "outputs": [],
   "source": [
    "for index , column in enumerate(balance_sheet_trend.columns) :\n",
    "    if index < 2 :\n",
    "        pass;\n",
    "    else:\n",
    "        balance_sheet_trend.loc[:,column] = calculate_growth_series(temp_balance.loc[:,column],bs_trend_base)\n",
    "temp_balance = None\n",
    "bs_trend_base = None"
   ]
  },
  {
   "cell_type": "code",
   "execution_count": 1217,
   "id": "82c70769",
   "metadata": {},
   "outputs": [],
   "source": [
    "bs_fil_ta = balance_sheet_trend[particulars].apply(count_leading_space).isin([0,4])\n",
    "bs_templist_ta = balance_sheet_trend.loc[bs_fil_ta,particulars].values\n",
    "balance_sheet_trend_style = balance_sheet_trend\n",
    "balance_sheet_trend_style = balance_sheet_trend_style.style.apply(row_style,list=bs_templist_ta,color=\"black\",bgcolor=\"#f1e05a\",key=particulars,axis=1).set_caption(company_name+ \" balance sheet trend analysis\").set_table_styles(styles('black',\"rgba(66, 165, 245, 0.2)\")).format(getColumnFormatterbyPercentage('balance_sheet'),precision=2) \n",
    "bs_fil_ta = None\n",
    "bs_templist_ta = None"
   ]
  },
  {
   "cell_type": "code",
   "execution_count": 1218,
   "id": "ba03b5d1",
   "metadata": {},
   "outputs": [],
   "source": [
    "cashflow_statement_filt = cashflow_statement[particulars].apply(count_leading_space).isin([0,8,12])\n",
    "cash_flow_stmt_trend = pd.DataFrame(columns=cashflow_statement.columns)\n",
    "cash_flow_stmt_trend_temp = cashflow_statement[cashflow_statement_filt].copy()\n",
    "cash_flow_stmt_trend_temp.reset_index(inplace=True,drop=True)\n",
    "cash_flow_stmt_trend[particulars] = cash_flow_stmt_trend_temp[particulars]\n",
    "cash_flow_stmt_trend[start_col_cashflow] = 0"
   ]
  },
  {
   "cell_type": "code",
   "execution_count": 1219,
   "id": "04cd1fde",
   "metadata": {},
   "outputs": [],
   "source": [
    "cf_trend_base = cash_flow_stmt_trend_temp[start_col_cashflow]"
   ]
  },
  {
   "cell_type": "code",
   "execution_count": 1220,
   "id": "b774b920",
   "metadata": {
    "scrolled": false
   },
   "outputs": [],
   "source": [
    "for index , column in enumerate(cash_flow_stmt_trend.columns) :\n",
    "    if index < 2 :\n",
    "        pass;\n",
    "    else:\n",
    "        cash_flow_stmt_trend.loc[:,column] = calculate_growth_series(cash_flow_stmt_trend_temp.loc[:,column],cf_trend_base)\n",
    "cash_flow_stmt_trend_temp = None\n",
    "cf_trend_base = None"
   ]
  },
  {
   "cell_type": "code",
   "execution_count": 1221,
   "id": "bcfaed3a",
   "metadata": {},
   "outputs": [],
   "source": [
    "cf_fil_ta = cash_flow_stmt_trend[particulars].apply(count_leading_space).isin([0])\n",
    "cf_templist_ta = cash_flow_stmt_trend.loc[cf_fil_ta,particulars].values\n",
    "cash_flow_stmt_trend_style = cash_flow_stmt_trend\n",
    "cash_flow_stmt_trend_style = cash_flow_stmt_trend.style.apply(row_style,list=cf_templist_ta,color=\"black\",bgcolor=\"#f1e05a\",key=particulars,axis=1).set_caption(company_name+ \" cash flow trend analysis\").set_table_styles(styles('black',\"rgba(66, 165, 245, 0.2)\")).format(getColumnFormatterbyPercentage('cashflow_statement'),precision=2) \n",
    "cf_fil_ta = None\n",
    "cf_templist_ta = None"
   ]
  },
  {
   "cell_type": "code",
   "execution_count": 1222,
   "id": "c61ec4c5",
   "metadata": {},
   "outputs": [],
   "source": [
    "#income_statement_trend_style"
   ]
  },
  {
   "cell_type": "code",
   "execution_count": 1223,
   "id": "d2dc47b7",
   "metadata": {},
   "outputs": [],
   "source": [
    "#balance_sheet_trend_style"
   ]
  },
  {
   "cell_type": "code",
   "execution_count": 1224,
   "id": "ab6ffa5d",
   "metadata": {
    "scrolled": true
   },
   "outputs": [],
   "source": [
    "#cash_flow_stmt_trend_style"
   ]
  },
  {
   "cell_type": "code",
   "execution_count": 1225,
   "id": "042aa094",
   "metadata": {},
   "outputs": [],
   "source": [
    "current_assets_filter = balance_sheet[particulars].apply(lambda x: x.strip().lower()).eq('total current assets')\n",
    "current_liabilities_filter = balance_sheet[particulars].apply(lambda x: x.strip().lower()).eq('total current liabilities')"
   ]
  },
  {
   "cell_type": "code",
   "execution_count": 1226,
   "id": "b4c9a975",
   "metadata": {},
   "outputs": [],
   "source": [
    "current_assets = balance_sheet.loc[current_assets_filter,start_col_balance_sheet:].copy()\n",
    "current_liabilities = balance_sheet.loc[current_liabilities_filter,start_col_balance_sheet:].copy()"
   ]
  },
  {
   "cell_type": "code",
   "execution_count": 1227,
   "id": "8725dc3c",
   "metadata": {},
   "outputs": [],
   "source": [
    "solvency_ratio = pd.DataFrame(columns=balance_sheet.columns)"
   ]
  },
  {
   "cell_type": "code",
   "execution_count": 1228,
   "id": "5de81d1c",
   "metadata": {},
   "outputs": [],
   "source": [
    "solvency_ratio[particulars] = ['current ratio' , 'quick ratio', 'cash ratio']"
   ]
  },
  {
   "cell_type": "code",
   "execution_count": 1229,
   "id": "15a8734f",
   "metadata": {},
   "outputs": [],
   "source": [
    "solvency_ratio.loc[0:0,start_col_balance_sheet:] = calculate_ratio(current_assets,current_liabilities).values"
   ]
  },
  {
   "cell_type": "code",
   "execution_count": 1230,
   "id": "f970d875",
   "metadata": {},
   "outputs": [],
   "source": [
    "inventories_filter = balance_sheet[particulars].apply(lambda x: x.strip().lower()).eq('inventories')"
   ]
  },
  {
   "cell_type": "code",
   "execution_count": 1231,
   "id": "71626ec6",
   "metadata": {},
   "outputs": [],
   "source": [
    "inventories = balance_sheet.loc[inventories_filter,start_col_balance_sheet:].copy()\n",
    "if len(inventories.value_counts().values) == 0 :\n",
    "    data = [[0] * len(inventories.columns)]\n",
    "    inventories = pd.DataFrame(data=data , columns=inventories.columns).copy()\n",
    "quick_assets = current_assets - inventories.values"
   ]
  },
  {
   "cell_type": "code",
   "execution_count": 1232,
   "id": "6cbb22a7",
   "metadata": {},
   "outputs": [],
   "source": [
    "solvency_ratio.loc[1:1,start_col_balance_sheet:] =  calculate_ratio(quick_assets,current_liabilities).values"
   ]
  },
  {
   "cell_type": "code",
   "execution_count": 1233,
   "id": "b15541de",
   "metadata": {},
   "outputs": [],
   "source": [
    "cash_and_ceq_filter = balance_sheet[particulars].apply(lambda x: x.strip().lower()).eq('cash and cash equivalents')"
   ]
  },
  {
   "cell_type": "code",
   "execution_count": 1234,
   "id": "45afdbf3",
   "metadata": {},
   "outputs": [],
   "source": [
    "cash_and_ceq = balance_sheet.loc[cash_and_ceq_filter,start_col_balance_sheet:].copy()"
   ]
  },
  {
   "cell_type": "code",
   "execution_count": 1235,
   "id": "7b7848f0",
   "metadata": {},
   "outputs": [],
   "source": [
    "solvency_ratio.loc[2:2,start_col_balance_sheet:] = calculate_ratio(cash_and_ceq,current_liabilities).values"
   ]
  },
  {
   "cell_type": "code",
   "execution_count": 1236,
   "id": "99d011c9",
   "metadata": {},
   "outputs": [
    {
     "data": {
      "text/html": [
       "<div>\n",
       "<style scoped>\n",
       "    .dataframe tbody tr th:only-of-type {\n",
       "        vertical-align: middle;\n",
       "    }\n",
       "\n",
       "    .dataframe tbody tr th {\n",
       "        vertical-align: top;\n",
       "    }\n",
       "\n",
       "    .dataframe thead th {\n",
       "        text-align: right;\n",
       "    }\n",
       "</style>\n",
       "<table border=\"1\" class=\"dataframe\">\n",
       "  <thead>\n",
       "    <tr style=\"text-align: right;\">\n",
       "      <th></th>\n",
       "      <th>particulars</th>\n",
       "      <th>2014</th>\n",
       "      <th>2015</th>\n",
       "      <th>2016</th>\n",
       "      <th>2017</th>\n",
       "      <th>2018</th>\n",
       "      <th>2019</th>\n",
       "      <th>2020</th>\n",
       "      <th>2021</th>\n",
       "      <th>2022</th>\n",
       "    </tr>\n",
       "  </thead>\n",
       "  <tbody>\n",
       "    <tr>\n",
       "      <th>0</th>\n",
       "      <td>current ratio</td>\n",
       "      <td>2.42</td>\n",
       "      <td>2.5</td>\n",
       "      <td>2.7</td>\n",
       "      <td>3.02</td>\n",
       "      <td>2.26</td>\n",
       "      <td>2.87</td>\n",
       "      <td>1.85</td>\n",
       "      <td>1.87</td>\n",
       "      <td>1.78</td>\n",
       "    </tr>\n",
       "    <tr>\n",
       "      <th>1</th>\n",
       "      <td>quick ratio</td>\n",
       "      <td>2.42</td>\n",
       "      <td>2.5</td>\n",
       "      <td>2.7</td>\n",
       "      <td>3.02</td>\n",
       "      <td>2.26</td>\n",
       "      <td>2.87</td>\n",
       "      <td>1.85</td>\n",
       "      <td>1.87</td>\n",
       "      <td>1.78</td>\n",
       "    </tr>\n",
       "    <tr>\n",
       "      <th>2</th>\n",
       "      <td>cash ratio</td>\n",
       "      <td>0.53</td>\n",
       "      <td>0.86</td>\n",
       "      <td>0.86</td>\n",
       "      <td>0.46</td>\n",
       "      <td>0.46</td>\n",
       "      <td>0.55</td>\n",
       "      <td>0.47</td>\n",
       "      <td>0.81</td>\n",
       "      <td>0.85</td>\n",
       "    </tr>\n",
       "  </tbody>\n",
       "</table>\n",
       "</div>"
      ],
      "text/plain": [
       "     particulars  2014  2015  2016  2017  2018  2019  2020  2021  2022\n",
       "0  current ratio  2.42   2.5   2.7  3.02  2.26  2.87  1.85  1.87  1.78\n",
       "1    quick ratio  2.42   2.5   2.7  3.02  2.26  2.87  1.85  1.87  1.78\n",
       "2     cash ratio  0.53  0.86  0.86  0.46  0.46  0.55  0.47  0.81  0.85"
      ]
     },
     "execution_count": 1236,
     "metadata": {},
     "output_type": "execute_result"
    }
   ],
   "source": [
    "solvency_ratio"
   ]
  },
  {
   "cell_type": "code",
   "execution_count": null,
   "id": "c7c6179e",
   "metadata": {},
   "outputs": [],
   "source": []
  }
 ],
 "metadata": {
  "kernelspec": {
   "display_name": "Python 3 (ipykernel)",
   "language": "python",
   "name": "python3"
  },
  "language_info": {
   "codemirror_mode": {
    "name": "ipython",
    "version": 3
   },
   "file_extension": ".py",
   "mimetype": "text/x-python",
   "name": "python",
   "nbconvert_exporter": "python",
   "pygments_lexer": "ipython3",
   "version": "3.9.13"
  },
  "vscode": {
   "interpreter": {
    "hash": "ad2bdc8ecc057115af97d19610ffacc2b4e99fae6737bb82f5d7fb13d2f2c186"
   }
  }
 },
 "nbformat": 4,
 "nbformat_minor": 5
}
