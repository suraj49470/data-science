{
 "cells": [
  {
   "cell_type": "code",
   "execution_count": 1,
   "id": "186d7fb1",
   "metadata": {},
   "outputs": [],
   "source": [
    "import pandas as pd\n",
    "import re\n",
    "pd.set_option('display.max_rows' , 200)"
   ]
  },
  {
   "cell_type": "code",
   "execution_count": 2,
   "id": "47260cae",
   "metadata": {},
   "outputs": [],
   "source": [
    "company_name = 'tcs'.upper()"
   ]
  },
  {
   "cell_type": "code",
   "execution_count": 3,
   "id": "21297856",
   "metadata": {},
   "outputs": [],
   "source": [
    "share_price_in = 1000000;"
   ]
  },
  {
   "cell_type": "code",
   "execution_count": 4,
   "id": "46326399",
   "metadata": {},
   "outputs": [],
   "source": [
    "def calculate_growth(initial , final) :\n",
    "    if not initial :\n",
    "        return 1\n",
    "    return round(((final - initial) / initial) * 100,2)"
   ]
  },
  {
   "cell_type": "code",
   "execution_count": 5,
   "id": "f7d5faad",
   "metadata": {},
   "outputs": [],
   "source": [
    "def get_share_price_in(price) :\n",
    "    return round((price / share_price_in),2)\n",
    "\n",
    "    "
   ]
  },
  {
   "cell_type": "code",
   "execution_count": 6,
   "id": "000b0137",
   "metadata": {},
   "outputs": [],
   "source": [
    "def vertical_analysis(item , divider) :\n",
    "    return (item/divider)\n",
    "    "
   ]
  },
  {
   "cell_type": "code",
   "execution_count": 7,
   "id": "2848a1d2",
   "metadata": {},
   "outputs": [],
   "source": [
    "def round_off_to(num , limit) :\n",
    "    return round(num,limit)"
   ]
  },
  {
   "cell_type": "code",
   "execution_count": 8,
   "id": "406a1d4b",
   "metadata": {},
   "outputs": [],
   "source": [
    "def count_leading_space(s): \n",
    "    match = re.search(r\"^\\s*\", s) \n",
    "    return 0 if not match else match.end()\n"
   ]
  },
  {
   "cell_type": "code",
   "execution_count": 9,
   "id": "f4b0a9f0",
   "metadata": {},
   "outputs": [],
   "source": [
    "def getColumnFormatterbyPercentage(type) :\n",
    "    columns_perc_formats = {}\n",
    "    if type == 'income_statement' :\n",
    "        for column in income_statement.columns[1:] :\n",
    "            columns_perc_formats[column] = '{:,.2%}'\n",
    "    elif type == 'balance_sheet' :\n",
    "        for column in balance_sheet.columns[1:] :\n",
    "            columns_perc_formats[column] = '{:,.2%}'\n",
    "    elif type == 'cashflow_statement' :\n",
    "        for column in cashflow_statement.columns[1:] :\n",
    "            columns_perc_formats[column] = '{:,.2%}'\n",
    "    return columns_perc_formats"
   ]
  },
  {
   "cell_type": "code",
   "execution_count": 10,
   "id": "808468ea",
   "metadata": {},
   "outputs": [],
   "source": [
    "styles = [dict(selector=\"caption\",\n",
    "                       props=[(\"text-align\", \"center\"),\n",
    "                              (\"font-size\", \"150%\"),\n",
    "                              (\"color\", 'white'),\n",
    "                              (\"background\", '#308D46'),\n",
    "                              (\"font-weight\", '600'),\n",
    "                              (\"text-transform\", 'uppercase')\n",
    "                             ])]"
   ]
  },
  {
   "cell_type": "code",
   "execution_count": 11,
   "id": "9123407c",
   "metadata": {},
   "outputs": [],
   "source": [
    "income_statement = pd.read_excel('data/'+company_name+'/'+company_name+'-income.xls')\n",
    "balance_sheet = pd.read_excel('data/'+company_name+'/'+company_name+'-balance.xls')\n",
    "cashflow_statement = pd.read_excel('data/'+company_name+'/'+company_name+'-cashflow.xls')"
   ]
  },
  {
   "cell_type": "code",
   "execution_count": 12,
   "id": "43d88d21",
   "metadata": {},
   "outputs": [],
   "source": [
    "start_col = income_statement.columns[1];\n",
    "start_col_balance_sheet = balance_sheet.columns[1];\n",
    "start_col_cashflow = cashflow_statement.columns[1];"
   ]
  },
  {
   "cell_type": "code",
   "execution_count": 13,
   "id": "65ac310f",
   "metadata": {},
   "outputs": [],
   "source": [
    "income_statement.rename(columns={company_name+'_income-statement_Annual_As_Originally_Reported' : 'items'} , inplace=True)\n",
    "balance_sheet.rename(columns={company_name+'_balance-sheet_Annual_As_Originally_Reported' : 'items'} , inplace=True)\n",
    "cashflow_statement.rename(columns={company_name+'_cash-flow_Annual_As_Originally_Reported' : 'items'} , inplace=True)"
   ]
  },
  {
   "cell_type": "code",
   "execution_count": 14,
   "id": "3d6b4392",
   "metadata": {},
   "outputs": [],
   "source": [
    "basic_eps_filter = income_statement['items'].eq('Basic EPS')\n",
    "basic_eps_pos = income_statement[basic_eps_filter].index[0]"
   ]
  },
  {
   "cell_type": "code",
   "execution_count": 15,
   "id": "479ee92d",
   "metadata": {},
   "outputs": [],
   "source": [
    "WASO_filter = income_statement['items'].eq('Basic Weighted Average Shares Outstanding') | income_statement['items'].eq('Diluted Weighted Average Shares Outstanding') | income_statement['items'].eq('Basic WASO') | income_statement['items'].eq('Diluted WASO')\n",
    "waso_pos = income_statement[WASO_filter].index"
   ]
  },
  {
   "cell_type": "code",
   "execution_count": 16,
   "id": "a016340d",
   "metadata": {},
   "outputs": [],
   "source": [
    "income_statement.dropna(how='all',subset=income_statement.columns[1:], inplace=True)\n",
    "balance_sheet.dropna(how='all',subset=balance_sheet.columns[1:], inplace=True)\n",
    "cashflow_statement.dropna(how='all',subset=cashflow_statement.columns[1:], inplace=True)\n",
    "income_statement.fillna(0 , inplace=True)\n",
    "balance_sheet.fillna(0 , inplace=True)\n",
    "cashflow_statement.fillna(0 , inplace=True)"
   ]
  },
  {
   "cell_type": "code",
   "execution_count": 17,
   "id": "0ab58a39",
   "metadata": {},
   "outputs": [],
   "source": [
    "temp_df = income_statement.loc[0:basic_eps_pos,start_col:].copy()\n",
    "temp_df = pd.DataFrame(temp_df)\n"
   ]
  },
  {
   "cell_type": "code",
   "execution_count": 18,
   "id": "9652df33",
   "metadata": {},
   "outputs": [],
   "source": [
    "temp_df = temp_df.apply(get_share_price_in)"
   ]
  },
  {
   "cell_type": "code",
   "execution_count": 19,
   "id": "f3959d9b",
   "metadata": {},
   "outputs": [],
   "source": [
    "income_statement.loc[0:basic_eps_pos,start_col:] = temp_df"
   ]
  },
  {
   "cell_type": "code",
   "execution_count": 20,
   "id": "ca4cadd5",
   "metadata": {},
   "outputs": [],
   "source": [
    "income_statement.loc[waso_pos,start_col:] = income_statement.loc[waso_pos,start_col:].apply(get_share_price_in)"
   ]
  },
  {
   "cell_type": "code",
   "execution_count": 21,
   "id": "3e0e0fc7",
   "metadata": {},
   "outputs": [],
   "source": [
    "income_statement.loc[1,'items'] = income_statement.loc[1,'items'].strip()\n",
    "temp_revenue = income_statement.loc[1]\n",
    "income_statement.loc[1] = income_statement.loc[0]\n",
    "income_statement.loc[0] = temp_revenue "
   ]
  },
  {
   "cell_type": "code",
   "execution_count": 22,
   "id": "63bb5398",
   "metadata": {},
   "outputs": [],
   "source": [
    "is_highlighted_indexes = income_statement.loc[0:basic_eps_pos - 1,'items'].copy()\n",
    "is_highlighted_indexes = is_highlighted_indexes.apply(lambda x: x[0] != ' ')\n",
    "is_highlighted_indexes = is_highlighted_indexes.loc[is_highlighted_indexes].index"
   ]
  },
  {
   "cell_type": "code",
   "execution_count": 23,
   "id": "7bc548ad",
   "metadata": {},
   "outputs": [],
   "source": [
    "income_statement['items'] = income_statement['items'].apply(lambda x: x.strip())"
   ]
  },
  {
   "cell_type": "code",
   "execution_count": 24,
   "id": "5edf32df",
   "metadata": {},
   "outputs": [],
   "source": [
    "balance_sheet.loc[0:,start_col_balance_sheet:] =  balance_sheet.loc[0:,start_col_balance_sheet:].applymap(get_share_price_in)"
   ]
  },
  {
   "cell_type": "code",
   "execution_count": 25,
   "id": "6ce5e99c",
   "metadata": {},
   "outputs": [],
   "source": [
    "cashflow_statement.loc[0:,start_col_cashflow:] =  cashflow_statement.loc[0:,start_col_cashflow:].applymap(get_share_price_in)"
   ]
  },
  {
   "cell_type": "code",
   "execution_count": 26,
   "id": "051d0132",
   "metadata": {
    "scrolled": false
   },
   "outputs": [],
   "source": [
    "vertical_analysis_is = pd.DataFrame(columns=income_statement.columns) \n",
    "vertical_analysis_is['items'] = income_statement.loc[0:basic_eps_pos - 1,'items'].copy()\n"
   ]
  },
  {
   "cell_type": "code",
   "execution_count": 27,
   "id": "ee2c188c",
   "metadata": {},
   "outputs": [],
   "source": [
    "total_revenue_filter = income_statement['items'].eq('Total Revenue')\n",
    "total_revenue = income_statement.loc[total_revenue_filter,start_col:]"
   ]
  },
  {
   "cell_type": "code",
   "execution_count": 28,
   "id": "ca1436f8",
   "metadata": {},
   "outputs": [],
   "source": [
    "for column in vertical_analysis_is.columns[1:] : \n",
    "    vertical_analysis_is[column] = income_statement.loc[0:basic_eps_pos - 1,column].apply(vertical_analysis,divider=total_revenue[column])\n",
    "    "
   ]
  },
  {
   "cell_type": "code",
   "execution_count": 29,
   "id": "ddd35b4d",
   "metadata": {},
   "outputs": [],
   "source": [
    "#def row_style(row):\n",
    "#    if row['items'] in vertical_analysis_is.loc[is_highlighted_indexes,'items'].values:\n",
    "#        return pd.Series('background-color: hsl(47,83%,91%);', row.index)\n",
    "#    else :\n",
    "#        return pd.Series('', row.index)\n",
    "#vertical_analysis_is.style.apply(row_style,axis=1)"
   ]
  },
  {
   "cell_type": "code",
   "execution_count": 30,
   "id": "e286cf57",
   "metadata": {
    "scrolled": true
   },
   "outputs": [
    {
     "data": {
      "text/html": [
       "<style type=\"text/css\">\n",
       "#T_b6827 caption {\n",
       "  text-align: center;\n",
       "  font-size: 150%;\n",
       "  color: white;\n",
       "  background: #308D46;\n",
       "  font-weight: 600;\n",
       "  text-transform: uppercase;\n",
       "}\n",
       "</style>\n",
       "<table id=\"T_b6827\">\n",
       "  <caption>TCS income statement vertical analysis</caption>\n",
       "  <thead>\n",
       "    <tr>\n",
       "      <th class=\"blank level0\" >&nbsp;</th>\n",
       "      <th id=\"T_b6827_level0_col0\" class=\"col_heading level0 col0\" >items</th>\n",
       "      <th id=\"T_b6827_level0_col1\" class=\"col_heading level0 col1\" >2013</th>\n",
       "      <th id=\"T_b6827_level0_col2\" class=\"col_heading level0 col2\" >2014</th>\n",
       "      <th id=\"T_b6827_level0_col3\" class=\"col_heading level0 col3\" >2015</th>\n",
       "      <th id=\"T_b6827_level0_col4\" class=\"col_heading level0 col4\" >2016</th>\n",
       "      <th id=\"T_b6827_level0_col5\" class=\"col_heading level0 col5\" >2017</th>\n",
       "      <th id=\"T_b6827_level0_col6\" class=\"col_heading level0 col6\" >2018</th>\n",
       "      <th id=\"T_b6827_level0_col7\" class=\"col_heading level0 col7\" >2019</th>\n",
       "      <th id=\"T_b6827_level0_col8\" class=\"col_heading level0 col8\" >2020</th>\n",
       "      <th id=\"T_b6827_level0_col9\" class=\"col_heading level0 col9\" >2021</th>\n",
       "      <th id=\"T_b6827_level0_col10\" class=\"col_heading level0 col10\" >2022</th>\n",
       "      <th id=\"T_b6827_level0_col11\" class=\"col_heading level0 col11\" >TTM</th>\n",
       "    </tr>\n",
       "  </thead>\n",
       "  <tbody>\n",
       "    <tr>\n",
       "      <th id=\"T_b6827_level0_row0\" class=\"row_heading level0 row0\" >0</th>\n",
       "      <td id=\"T_b6827_row0_col0\" class=\"data row0 col0\" >Total Revenue</td>\n",
       "      <td id=\"T_b6827_row0_col1\" class=\"data row0 col1\" >100.00%</td>\n",
       "      <td id=\"T_b6827_row0_col2\" class=\"data row0 col2\" >100.00%</td>\n",
       "      <td id=\"T_b6827_row0_col3\" class=\"data row0 col3\" >100.00%</td>\n",
       "      <td id=\"T_b6827_row0_col4\" class=\"data row0 col4\" >100.00%</td>\n",
       "      <td id=\"T_b6827_row0_col5\" class=\"data row0 col5\" >100.00%</td>\n",
       "      <td id=\"T_b6827_row0_col6\" class=\"data row0 col6\" >100.00%</td>\n",
       "      <td id=\"T_b6827_row0_col7\" class=\"data row0 col7\" >100.00%</td>\n",
       "      <td id=\"T_b6827_row0_col8\" class=\"data row0 col8\" >100.00%</td>\n",
       "      <td id=\"T_b6827_row0_col9\" class=\"data row0 col9\" >100.00%</td>\n",
       "      <td id=\"T_b6827_row0_col10\" class=\"data row0 col10\" >100.00%</td>\n",
       "      <td id=\"T_b6827_row0_col11\" class=\"data row0 col11\" >100.00%</td>\n",
       "    </tr>\n",
       "    <tr>\n",
       "      <th id=\"T_b6827_level0_row1\" class=\"row_heading level0 row1\" >1</th>\n",
       "      <td id=\"T_b6827_row1_col0\" class=\"data row1 col0\" >Gross Profit</td>\n",
       "      <td id=\"T_b6827_row1_col1\" class=\"data row1 col1\" >57.62%</td>\n",
       "      <td id=\"T_b6827_row1_col2\" class=\"data row1 col2\" >59.73%</td>\n",
       "      <td id=\"T_b6827_row1_col3\" class=\"data row1 col3\" >55.06%</td>\n",
       "      <td id=\"T_b6827_row1_col4\" class=\"data row1 col4\" >57.31%</td>\n",
       "      <td id=\"T_b6827_row1_col5\" class=\"data row1 col5\" >45.38%</td>\n",
       "      <td id=\"T_b6827_row1_col6\" class=\"data row1 col6\" >43.87%</td>\n",
       "      <td id=\"T_b6827_row1_col7\" class=\"data row1 col7\" >45.03%</td>\n",
       "      <td id=\"T_b6827_row1_col8\" class=\"data row1 col8\" >44.02%</td>\n",
       "      <td id=\"T_b6827_row1_col9\" class=\"data row1 col9\" >47.08%</td>\n",
       "      <td id=\"T_b6827_row1_col10\" class=\"data row1 col10\" >47.71%</td>\n",
       "      <td id=\"T_b6827_row1_col11\" class=\"data row1 col11\" >46.86%</td>\n",
       "    </tr>\n",
       "    <tr>\n",
       "      <th id=\"T_b6827_level0_row2\" class=\"row_heading level0 row2\" >7</th>\n",
       "      <td id=\"T_b6827_row2_col0\" class=\"data row2 col0\" >Operating Income/Expenses</td>\n",
       "      <td id=\"T_b6827_row2_col1\" class=\"data row2 col1\" >-30.62%</td>\n",
       "      <td id=\"T_b6827_row2_col2\" class=\"data row2 col2\" >-30.63%</td>\n",
       "      <td id=\"T_b6827_row2_col3\" class=\"data row2 col3\" >-31.08%</td>\n",
       "      <td id=\"T_b6827_row2_col4\" class=\"data row2 col4\" >-30.93%</td>\n",
       "      <td id=\"T_b6827_row2_col5\" class=\"data row2 col5\" >-19.57%</td>\n",
       "      <td id=\"T_b6827_row2_col6\" class=\"data row2 col6\" >-18.93%</td>\n",
       "      <td id=\"T_b6827_row2_col7\" class=\"data row2 col7\" >-19.46%</td>\n",
       "      <td id=\"T_b6827_row2_col8\" class=\"data row2 col8\" >-19.44%</td>\n",
       "      <td id=\"T_b6827_row2_col9\" class=\"data row2 col9\" >-21.09%</td>\n",
       "      <td id=\"T_b6827_row2_col10\" class=\"data row2 col10\" >-22.37%</td>\n",
       "      <td id=\"T_b6827_row2_col11\" class=\"data row2 col11\" >-22.70%</td>\n",
       "    </tr>\n",
       "    <tr>\n",
       "      <th id=\"T_b6827_level0_row3\" class=\"row_heading level0 row3\" >26</th>\n",
       "      <td id=\"T_b6827_row3_col0\" class=\"data row3 col0\" >Total Operating Profit/Loss</td>\n",
       "      <td id=\"T_b6827_row3_col1\" class=\"data row3 col1\" >27.00%</td>\n",
       "      <td id=\"T_b6827_row3_col2\" class=\"data row3 col2\" >29.09%</td>\n",
       "      <td id=\"T_b6827_row3_col3\" class=\"data row3 col3\" >23.98%</td>\n",
       "      <td id=\"T_b6827_row3_col4\" class=\"data row3 col4\" >26.37%</td>\n",
       "      <td id=\"T_b6827_row3_col5\" class=\"data row3 col5\" >25.81%</td>\n",
       "      <td id=\"T_b6827_row3_col6\" class=\"data row3 col6\" >24.94%</td>\n",
       "      <td id=\"T_b6827_row3_col7\" class=\"data row3 col7\" >25.57%</td>\n",
       "      <td id=\"T_b6827_row3_col8\" class=\"data row3 col8\" >24.58%</td>\n",
       "      <td id=\"T_b6827_row3_col9\" class=\"data row3 col9\" >26.00%</td>\n",
       "      <td id=\"T_b6827_row3_col10\" class=\"data row3 col10\" >25.34%</td>\n",
       "      <td id=\"T_b6827_row3_col11\" class=\"data row3 col11\" >24.16%</td>\n",
       "    </tr>\n",
       "    <tr>\n",
       "      <th id=\"T_b6827_level0_row4\" class=\"row_heading level0 row4\" >27</th>\n",
       "      <td id=\"T_b6827_row4_col0\" class=\"data row4 col0\" >Non-Operating Income/Expense, Total</td>\n",
       "      <td id=\"T_b6827_row4_col1\" class=\"data row4 col1\" >1.72%</td>\n",
       "      <td id=\"T_b6827_row4_col2\" class=\"data row4 col2\" >1.96%</td>\n",
       "      <td id=\"T_b6827_row4_col3\" class=\"data row4 col3\" >3.80%</td>\n",
       "      <td id=\"T_b6827_row4_col4\" class=\"data row4 col4\" >2.78%</td>\n",
       "      <td id=\"T_b6827_row4_col5\" class=\"data row4 col5\" >3.45%</td>\n",
       "      <td id=\"T_b6827_row4_col6\" class=\"data row4 col6\" >2.75%</td>\n",
       "      <td id=\"T_b6827_row4_col7\" class=\"data row4 col7\" >2.81%</td>\n",
       "      <td id=\"T_b6827_row4_col8\" class=\"data row4 col8\" >2.34%</td>\n",
       "      <td id=\"T_b6827_row4_col9\" class=\"data row4 col9\" >0.66%</td>\n",
       "      <td id=\"T_b6827_row4_col10\" class=\"data row4 col10\" >1.62%</td>\n",
       "      <td id=\"T_b6827_row4_col11\" class=\"data row4 col11\" >1.15%</td>\n",
       "    </tr>\n",
       "    <tr>\n",
       "      <th id=\"T_b6827_level0_row5\" class=\"row_heading level0 row5\" >45</th>\n",
       "      <td id=\"T_b6827_row5_col0\" class=\"data row5 col0\" >Pretax Income</td>\n",
       "      <td id=\"T_b6827_row5_col1\" class=\"data row5 col1\" >28.72%</td>\n",
       "      <td id=\"T_b6827_row5_col2\" class=\"data row5 col2\" >31.05%</td>\n",
       "      <td id=\"T_b6827_row5_col3\" class=\"data row5 col3\" >27.79%</td>\n",
       "      <td id=\"T_b6827_row5_col4\" class=\"data row5 col4\" >29.16%</td>\n",
       "      <td id=\"T_b6827_row5_col5\" class=\"data row5 col5\" >29.26%</td>\n",
       "      <td id=\"T_b6827_row5_col6\" class=\"data row5 col6\" >27.69%</td>\n",
       "      <td id=\"T_b6827_row5_col7\" class=\"data row5 col7\" >28.38%</td>\n",
       "      <td id=\"T_b6827_row5_col8\" class=\"data row5 col8\" >26.92%</td>\n",
       "      <td id=\"T_b6827_row5_col9\" class=\"data row5 col9\" >26.65%</td>\n",
       "      <td id=\"T_b6827_row5_col10\" class=\"data row5 col10\" >26.95%</td>\n",
       "      <td id=\"T_b6827_row5_col11\" class=\"data row5 col11\" >25.30%</td>\n",
       "    </tr>\n",
       "    <tr>\n",
       "      <th id=\"T_b6827_level0_row6\" class=\"row_heading level0 row6\" >46</th>\n",
       "      <td id=\"T_b6827_row6_col0\" class=\"data row6 col0\" >Provision for Income Tax</td>\n",
       "      <td id=\"T_b6827_row6_col1\" class=\"data row6 col1\" >-6.37%</td>\n",
       "      <td id=\"T_b6827_row6_col2\" class=\"data row6 col2\" >-7.42%</td>\n",
       "      <td id=\"T_b6827_row6_col3\" class=\"data row6 col3\" >-6.59%</td>\n",
       "      <td id=\"T_b6827_row6_col4\" class=\"data row6 col4\" >-6.72%</td>\n",
       "      <td id=\"T_b6827_row6_col5\" class=\"data row6 col5\" >-6.91%</td>\n",
       "      <td id=\"T_b6827_row6_col6\" class=\"data row6 col6\" >-6.67%</td>\n",
       "      <td id=\"T_b6827_row6_col7\" class=\"data row6 col7\" >-6.83%</td>\n",
       "      <td id=\"T_b6827_row6_col8\" class=\"data row6 col8\" >-6.24%</td>\n",
       "      <td id=\"T_b6827_row6_col9\" class=\"data row6 col9\" >-6.82%</td>\n",
       "      <td id=\"T_b6827_row6_col10\" class=\"data row6 col10\" >-6.90%</td>\n",
       "      <td id=\"T_b6827_row6_col11\" class=\"data row6 col11\" >-6.48%</td>\n",
       "    </tr>\n",
       "    <tr>\n",
       "      <th id=\"T_b6827_level0_row7\" class=\"row_heading level0 row7\" >49</th>\n",
       "      <td id=\"T_b6827_row7_col0\" class=\"data row7 col0\" >Net Income before Extraordinary Items and Discontinued Operations</td>\n",
       "      <td id=\"T_b6827_row7_col1\" class=\"data row7 col1\" >22.35%</td>\n",
       "      <td id=\"T_b6827_row7_col2\" class=\"data row7 col2\" >23.63%</td>\n",
       "      <td id=\"T_b6827_row7_col3\" class=\"data row7 col3\" >21.19%</td>\n",
       "      <td id=\"T_b6827_row7_col4\" class=\"data row7 col4\" >22.44%</td>\n",
       "      <td id=\"T_b6827_row7_col5\" class=\"data row7 col5\" >22.34%</td>\n",
       "      <td id=\"T_b6827_row7_col6\" class=\"data row7 col6\" >21.02%</td>\n",
       "      <td id=\"T_b6827_row7_col7\" class=\"data row7 col7\" >21.55%</td>\n",
       "      <td id=\"T_b6827_row7_col8\" class=\"data row7 col8\" >20.67%</td>\n",
       "      <td id=\"T_b6827_row7_col9\" class=\"data row7 col9\" >19.83%</td>\n",
       "      <td id=\"T_b6827_row7_col10\" class=\"data row7 col10\" >20.05%</td>\n",
       "      <td id=\"T_b6827_row7_col11\" class=\"data row7 col11\" >18.82%</td>\n",
       "    </tr>\n",
       "    <tr>\n",
       "      <th id=\"T_b6827_level0_row8\" class=\"row_heading level0 row8\" >50</th>\n",
       "      <td id=\"T_b6827_row8_col0\" class=\"data row8 col0\" >Net Income after Extraordinary Items and Discontinued Operations</td>\n",
       "      <td id=\"T_b6827_row8_col1\" class=\"data row8 col1\" >22.35%</td>\n",
       "      <td id=\"T_b6827_row8_col2\" class=\"data row8 col2\" >23.63%</td>\n",
       "      <td id=\"T_b6827_row8_col3\" class=\"data row8 col3\" >21.19%</td>\n",
       "      <td id=\"T_b6827_row8_col4\" class=\"data row8 col4\" >22.44%</td>\n",
       "      <td id=\"T_b6827_row8_col5\" class=\"data row8 col5\" >22.34%</td>\n",
       "      <td id=\"T_b6827_row8_col6\" class=\"data row8 col6\" >21.02%</td>\n",
       "      <td id=\"T_b6827_row8_col7\" class=\"data row8 col7\" >21.55%</td>\n",
       "      <td id=\"T_b6827_row8_col8\" class=\"data row8 col8\" >20.67%</td>\n",
       "      <td id=\"T_b6827_row8_col9\" class=\"data row8 col9\" >19.83%</td>\n",
       "      <td id=\"T_b6827_row8_col10\" class=\"data row8 col10\" >20.05%</td>\n",
       "      <td id=\"T_b6827_row8_col11\" class=\"data row8 col11\" >18.82%</td>\n",
       "    </tr>\n",
       "    <tr>\n",
       "      <th id=\"T_b6827_level0_row9\" class=\"row_heading level0 row9\" >51</th>\n",
       "      <td id=\"T_b6827_row9_col0\" class=\"data row9 col0\" >Non-Controlling/Minority Interests</td>\n",
       "      <td id=\"T_b6827_row9_col1\" class=\"data row9 col1\" >-0.25%</td>\n",
       "      <td id=\"T_b6827_row9_col2\" class=\"data row9 col2\" >-0.21%</td>\n",
       "      <td id=\"T_b6827_row9_col3\" class=\"data row9 col3\" >-0.22%</td>\n",
       "      <td id=\"T_b6827_row9_col4\" class=\"data row9 col4\" >-0.08%</td>\n",
       "      <td id=\"T_b6827_row9_col5\" class=\"data row9 col5\" >-0.06%</td>\n",
       "      <td id=\"T_b6827_row9_col6\" class=\"data row9 col6\" >-0.04%</td>\n",
       "      <td id=\"T_b6827_row9_col7\" class=\"data row9 col7\" >-0.06%</td>\n",
       "      <td id=\"T_b6827_row9_col8\" class=\"data row9 col8\" >-0.07%</td>\n",
       "      <td id=\"T_b6827_row9_col9\" class=\"data row9 col9\" >-0.08%</td>\n",
       "      <td id=\"T_b6827_row9_col10\" class=\"data row9 col10\" >-0.06%</td>\n",
       "      <td id=\"T_b6827_row9_col11\" class=\"data row9 col11\" >-0.07%</td>\n",
       "    </tr>\n",
       "    <tr>\n",
       "      <th id=\"T_b6827_level0_row10\" class=\"row_heading level0 row10\" >52</th>\n",
       "      <td id=\"T_b6827_row10_col0\" class=\"data row10 col0\" >Net Income after Non-Controlling/Minority Interests</td>\n",
       "      <td id=\"T_b6827_row10_col1\" class=\"data row10 col1\" >22.09%</td>\n",
       "      <td id=\"T_b6827_row10_col2\" class=\"data row10 col2\" >23.43%</td>\n",
       "      <td id=\"T_b6827_row10_col3\" class=\"data row10 col3\" >20.97%</td>\n",
       "      <td id=\"T_b6827_row10_col4\" class=\"data row10 col4\" >22.36%</td>\n",
       "      <td id=\"T_b6827_row10_col5\" class=\"data row10 col5\" >22.29%</td>\n",
       "      <td id=\"T_b6827_row10_col6\" class=\"data row10 col6\" >20.98%</td>\n",
       "      <td id=\"T_b6827_row10_col7\" class=\"data row10 col7\" >21.49%</td>\n",
       "      <td id=\"T_b6827_row10_col8\" class=\"data row10 col8\" >20.61%</td>\n",
       "      <td id=\"T_b6827_row10_col9\" class=\"data row10 col9\" >19.75%</td>\n",
       "      <td id=\"T_b6827_row10_col10\" class=\"data row10 col10\" >19.99%</td>\n",
       "      <td id=\"T_b6827_row10_col11\" class=\"data row10 col11\" >18.76%</td>\n",
       "    </tr>\n",
       "    <tr>\n",
       "      <th id=\"T_b6827_level0_row11\" class=\"row_heading level0 row11\" >53</th>\n",
       "      <td id=\"T_b6827_row11_col0\" class=\"data row11 col0\" >Net Income Available to Common Stockholders</td>\n",
       "      <td id=\"T_b6827_row11_col1\" class=\"data row11 col1\" >22.06%</td>\n",
       "      <td id=\"T_b6827_row11_col2\" class=\"data row11 col2\" >23.38%</td>\n",
       "      <td id=\"T_b6827_row11_col3\" class=\"data row11 col3\" >20.97%</td>\n",
       "      <td id=\"T_b6827_row11_col4\" class=\"data row11 col4\" >22.36%</td>\n",
       "      <td id=\"T_b6827_row11_col5\" class=\"data row11 col5\" >22.29%</td>\n",
       "      <td id=\"T_b6827_row11_col6\" class=\"data row11 col6\" >20.98%</td>\n",
       "      <td id=\"T_b6827_row11_col7\" class=\"data row11 col7\" >21.49%</td>\n",
       "      <td id=\"T_b6827_row11_col8\" class=\"data row11 col8\" >20.61%</td>\n",
       "      <td id=\"T_b6827_row11_col9\" class=\"data row11 col9\" >19.75%</td>\n",
       "      <td id=\"T_b6827_row11_col10\" class=\"data row11 col10\" >19.99%</td>\n",
       "      <td id=\"T_b6827_row11_col11\" class=\"data row11 col11\" >18.76%</td>\n",
       "    </tr>\n",
       "    <tr>\n",
       "      <th id=\"T_b6827_level0_row12\" class=\"row_heading level0 row12\" >54</th>\n",
       "      <td id=\"T_b6827_row12_col0\" class=\"data row12 col0\" >Diluted Net Income Available to Common Stockholders</td>\n",
       "      <td id=\"T_b6827_row12_col1\" class=\"data row12 col1\" >22.06%</td>\n",
       "      <td id=\"T_b6827_row12_col2\" class=\"data row12 col2\" >23.38%</td>\n",
       "      <td id=\"T_b6827_row12_col3\" class=\"data row12 col3\" >20.97%</td>\n",
       "      <td id=\"T_b6827_row12_col4\" class=\"data row12 col4\" >22.36%</td>\n",
       "      <td id=\"T_b6827_row12_col5\" class=\"data row12 col5\" >22.29%</td>\n",
       "      <td id=\"T_b6827_row12_col6\" class=\"data row12 col6\" >20.98%</td>\n",
       "      <td id=\"T_b6827_row12_col7\" class=\"data row12 col7\" >21.49%</td>\n",
       "      <td id=\"T_b6827_row12_col8\" class=\"data row12 col8\" >20.61%</td>\n",
       "      <td id=\"T_b6827_row12_col9\" class=\"data row12 col9\" >19.75%</td>\n",
       "      <td id=\"T_b6827_row12_col10\" class=\"data row12 col10\" >19.99%</td>\n",
       "      <td id=\"T_b6827_row12_col11\" class=\"data row12 col11\" >18.76%</td>\n",
       "    </tr>\n",
       "    <tr>\n",
       "      <th id=\"T_b6827_level0_row13\" class=\"row_heading level0 row13\" >64</th>\n",
       "      <td id=\"T_b6827_row13_col0\" class=\"data row13 col0\" >Preferred/Other Stock Distribution</td>\n",
       "      <td id=\"T_b6827_row13_col1\" class=\"data row13 col1\" >-0.04%</td>\n",
       "      <td id=\"T_b6827_row13_col2\" class=\"data row13 col2\" >-0.04%</td>\n",
       "      <td id=\"T_b6827_row13_col3\" class=\"data row13 col3\" >0.00%</td>\n",
       "      <td id=\"T_b6827_row13_col4\" class=\"data row13 col4\" >0.00%</td>\n",
       "      <td id=\"T_b6827_row13_col5\" class=\"data row13 col5\" >0.00%</td>\n",
       "      <td id=\"T_b6827_row13_col6\" class=\"data row13 col6\" >0.00%</td>\n",
       "      <td id=\"T_b6827_row13_col7\" class=\"data row13 col7\" >0.00%</td>\n",
       "      <td id=\"T_b6827_row13_col8\" class=\"data row13 col8\" >0.00%</td>\n",
       "      <td id=\"T_b6827_row13_col9\" class=\"data row13 col9\" >0.00%</td>\n",
       "      <td id=\"T_b6827_row13_col10\" class=\"data row13 col10\" >0.00%</td>\n",
       "      <td id=\"T_b6827_row13_col11\" class=\"data row13 col11\" >0.00%</td>\n",
       "    </tr>\n",
       "  </tbody>\n",
       "</table>\n"
      ],
      "text/plain": [
       "<pandas.io.formats.style.Styler at 0x1d3a1cc4970>"
      ]
     },
     "execution_count": 30,
     "metadata": {},
     "output_type": "execute_result"
    }
   ],
   "source": [
    "vertical_analysis_is.loc[is_highlighted_indexes].style.set_caption(company_name+ \" income statement vertical analysis\").set_table_styles(styles).format(getColumnFormatterbyPercentage('income_statement'),precision=2) "
   ]
  },
  {
   "cell_type": "code",
   "execution_count": null,
   "id": "b750d875",
   "metadata": {},
   "outputs": [],
   "source": []
  }
 ],
 "metadata": {
  "kernelspec": {
   "display_name": "Python 3 (ipykernel)",
   "language": "python",
   "name": "python3"
  },
  "language_info": {
   "codemirror_mode": {
    "name": "ipython",
    "version": 3
   },
   "file_extension": ".py",
   "mimetype": "text/x-python",
   "name": "python",
   "nbconvert_exporter": "python",
   "pygments_lexer": "ipython3",
   "version": "3.9.13"
  },
  "vscode": {
   "interpreter": {
    "hash": "4748b40f5afd20ecb290c6dbf073b09a27e81afcf261b219adbd1b8601a65ff7"
   }
  }
 },
 "nbformat": 4,
 "nbformat_minor": 5
}
